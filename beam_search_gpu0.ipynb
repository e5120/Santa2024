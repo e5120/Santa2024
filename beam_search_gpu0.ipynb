{
 "cells": [
  {
   "cell_type": "code",
   "execution_count": 1,
   "id": "a49f9e60-9f68-4ca5-9d96-c568950d2f3f",
   "metadata": {},
   "outputs": [
    {
     "name": "stderr",
     "output_type": "stream",
     "text": [
      "/opt/mamba/lib/python3.10/site-packages/tqdm/auto.py:21: TqdmWarning: IProgress not found. Please update jupyter and ipywidgets. See https://ipywidgets.readthedocs.io/en/stable/user_install.html\n",
      "  from .autonotebook import tqdm as notebook_tqdm\n"
     ]
    }
   ],
   "source": [
    "import os\n",
    "os.environ[\"CUDA_VISIBLE_DEVICES\"] = \"0\"\n",
    "import sys\n",
    "sys.path.append(\"..\")\n",
    "import itertools\n",
    "import time\n",
    "\n",
    "import numpy as np\n",
    "\n",
    "from santa.metrics import PerplexityCalculator\n",
    "from santa.utils import save_text"
   ]
  },
  {
   "cell_type": "code",
   "execution_count": 2,
   "id": "68350ad8-dbd7-408b-80c2-28fa2ec2c141",
   "metadata": {},
   "outputs": [
    {
     "name": "stderr",
     "output_type": "stream",
     "text": [
      "Loading checkpoint shards: 100% 8/8 [00:08<00:00,  1.12s/it]\n"
     ]
    }
   ],
   "source": [
    "scorer = PerplexityCalculator(\"google/gemma-2-9b\")"
   ]
  },
  {
   "cell_type": "code",
   "execution_count": 3,
   "id": "c0541683-a1f6-4317-9b2b-2a30aeb7bb3e",
   "metadata": {},
   "outputs": [],
   "source": [
    "target_id = 4\n",
    "if target_id == 1:\n",
    "    text      = \"reindeer sleep walk the night and drive mistletoe scrooge laugh elf jump gingerbread bake ornament give family advent chimney fireplace\"\n",
    "    sub_texts = []\n",
    "    fix_ids   = []\n",
    "elif target_id == 2:\n",
    "    text      = \"sleigh yuletide beard carol cheer chimney decorations gifts grinch holiday holly jingle magi naughty nice nutcracker ornament polar workshop stocking\"\n",
    "    sub_texts = []\n",
    "    fix_ids   = []\n",
    "elif target_id == 3:\n",
    "    text      = \"sleigh of the magi yuletide cheer is unwrap gifts and eat cheer holiday decorations holly jingle relax sing carol visit workshop grinch naughty nice chimney stocking ornament nutcracker polar beard\"\n",
    "    sub_texts = []\n",
    "    fix_ids   = [\n",
    "        \"sleigh of the magi yuletide cheer\",\n",
    "        \"nutcracker polar beard\",\n",
    "        # \"chimney stocking\",\n",
    "        # \"grinch naughty\",\n",
    "        # \"holly jingle\",\n",
    "        # \"unwrap gifts\"\n",
    "        # \"is unwrap gifts and eat cheer holiday decorations holly jingle relax sing carol visit workshop grinch naughty nice chimney stocking ornament nutcracker polar beard\",\n",
    "    ]\n",
    "elif target_id == 4:\n",
    "    text      = \"the of and to in that have not you with we it from as peppermint candy fruitcake cookie chocolate milk eggnog greeting card wrapping paper bow toy doll game puzzle snowglobe candle fireplace wreath poinsettia angel star night wish dream believe wonder hope joy peace season merry hohoho kaggle workshop\"\n",
    "    sub_texts = [\n",
    "        \"candle fireplace wreath poinsettia angel star night wish dream\", \"from as peppermint candy fruitcake\", \"merry hohoho kaggle workshop\",\n",
    "        \"the of and to in that\", \"card wrapping paper bow\", \"chocolate milk eggnog\", \"toy doll game puzzle\", \"hope joy peace season\", \n",
    "    ]\n",
    "    fix_ids   = [0]\n",
    "elif target_id == 5:\n",
    "    text      = \"from and and the and of as in is it of that to the we the with you have advent card angel bake beard believe bow candy carol candle cheer cheer chocolate chimney chimney cookie decorations doll dream drive eat eggnog elf family fireplace fireplace fruitcake game gifts give gingerbread greeting grinch holiday holly hohoho hope jingle jump joy kaggle laugh magi merry milk mistletoe naughty nice night night not nutcracker ornament ornament paper peace peppermint polar poinsettia puzzle reindeer relax scrooge season sing sleigh sleep snowglobe star stocking toy unwrap visit walk wish wonder workshop workshop wrapping wreath yuletide\"\n",
    "    sub_texts = [\n",
    "        \"we the with you have advent card angel bake beard believe bow candy carol candle cheer cheer chocolate chimney chimney cookie decorations doll dream drive eat eggnog elf family fireplace fireplace fruitcake game gifts give gingerbread greeting grinch holiday holly hohoho hope jingle jump joy kaggle laugh magi merry milk mistletoe naughty nice night night not nutcracker ornament ornament paper peace peppermint polar poinsettia puzzle reindeer relax scrooge season sing sleigh sleep snowglobe star stocking toy unwrap visit walk wish wonder workshop workshop wrapping wreath yuletide\",        \n",
    "    ]\n",
    "    fix_ids   = []"
   ]
  },
  {
   "cell_type": "code",
   "execution_count": 4,
   "id": "6818a0c2-edfb-49b0-9e9f-c1a0320dcb19",
   "metadata": {},
   "outputs": [
    {
     "data": {
      "text/plain": [
       "434.50990901347194"
      ]
     },
     "execution_count": 4,
     "metadata": {},
     "output_type": "execute_result"
    }
   ],
   "source": [
    "scorer.get_perplexity(text)"
   ]
  },
  {
   "cell_type": "code",
   "execution_count": 5,
   "id": "0d772377-fd47-453f-b986-12418c760974",
   "metadata": {},
   "outputs": [
    {
     "data": {
      "text/plain": [
       "('reindeer sleep walk the night and drive mistletoe scrooge laugh elf jump gingerbread bake ornament give family advent chimney fireplace',\n",
       " 20)"
      ]
     },
     "execution_count": 5,
     "metadata": {},
     "output_type": "execute_result"
    }
   ],
   "source": [
    "for st in sub_texts:\n",
    "    text = text.replace(st, \"-\".join(st.split()))\n",
    "text, len(text.split())"
   ]
  },
  {
   "cell_type": "code",
   "execution_count": 6,
   "id": "7d1c6802-af60-482b-9c1a-a98457e7f345",
   "metadata": {},
   "outputs": [
    {
     "data": {
      "text/plain": [
       "array([], dtype='<U11')"
      ]
     },
     "execution_count": 6,
     "metadata": {},
     "output_type": "execute_result"
    }
   ],
   "source": [
    "tokens = text.split()\n",
    "np.array(tokens)[fix_ids]"
   ]
  },
  {
   "cell_type": "code",
   "execution_count": 7,
   "id": "091b5b3e-7a4b-423b-a729-956b026c2c32",
   "metadata": {},
   "outputs": [
    {
     "data": {
      "text/plain": [
       "20"
      ]
     },
     "execution_count": 7,
     "metadata": {},
     "output_type": "execute_result"
    }
   ],
   "source": [
    "len(tokens) - len(fix_ids)"
   ]
  },
  {
   "cell_type": "code",
   "execution_count": 13,
   "id": "5af7ee98-5dd8-4ece-866d-13ab1b03520d",
   "metadata": {},
   "outputs": [],
   "source": [
    "def tokens2text(tokens, sep=\"-\"):\n",
    "    return \" \".join(tokens).replace(sep, \" \")\n",
    "\n",
    "\n",
    "def beam_search(init_tokens, fix_ids, scorer, k=30, precomputed={}, n_iters=100):\n",
    "    n = len(init_tokens)\n",
    "    candidates = [init_tokens]\n",
    "    best_score = np.inf\n",
    "    best_text = None\n",
    "    top_solutions = {}\n",
    "    for iterations in range(n_iters):\n",
    "        start = time.time()\n",
    "        solutions = {}\n",
    "        for candidate in candidates:\n",
    "            for i in range(n):\n",
    "                if i in fix_ids:\n",
    "                    continue\n",
    "                for j in range(i+1, n):\n",
    "                    if j in fix_ids:\n",
    "                        continue\n",
    "                    s = list(candidate).copy()\n",
    "                    s[i], s[j] = s[j], s[i]\n",
    "                    s = tuple(s)\n",
    "                    if s in precomputed:\n",
    "                        continue\n",
    "                    text = tokens2text(s)\n",
    "                    score = scorer.get_perplexity(text)\n",
    "                    precomputed[s] = score\n",
    "                    solutions[s] = score\n",
    "        solutions = sorted(solutions.items(), key=lambda x: x[1])[:k]\n",
    "        top_solutions.update(solutions)\n",
    "        if len(solutions) == 0:\n",
    "            break\n",
    "        candidates, scores = map(list, zip(*solutions))\n",
    "        if scores[0] < best_score:\n",
    "            best_score = scores[0]\n",
    "            best_text = tokens2text(candidates[0])\n",
    "        print(f\"[{iterations} iterations] best: {best_score:.3f}, current: {scores[0]:.3f}, top10 mean: {np.mean(scores[:10]):.3f}, elapsed time: {time.time()-start:.1f}[s]\")\n",
    "        print(tokens2text(candidates[0]))\n",
    "    return best_score, best_text, top_solutions"
   ]
  },
  {
   "cell_type": "code",
   "execution_count": null,
   "id": "d420fb6a-4240-4394-9b4b-324aeb4b2fd9",
   "metadata": {},
   "outputs": [
    {
     "name": "stdout",
     "output_type": "stream",
     "text": [
      "[0 iterations] best: 439.632, current: 439.632, top10 mean: 455.673, elapsed time: 14.5[s]\n",
      "reindeer sleep walk the night and drive mistletoe scrooge laugh elf jump gingerbread bake ornament give family advent fireplace chimney\n",
      "[1 iterations] best: 434.510, current: 434.510, top10 mean: 449.006, elapsed time: 42.6[s]\n",
      "reindeer sleep walk the night and drive mistletoe scrooge laugh elf jump gingerbread bake ornament give family advent chimney fireplace\n",
      "[2 iterations] best: 434.510, current: 439.632, top10 mean: 456.712, elapsed time: 28.3[s]\n",
      "reindeer sleep walk the night and drive mistletoe scrooge laugh elf jump gingerbread bake ornament give advent chimney fireplace family\n",
      "[3 iterations] best: 434.510, current: 458.934, top10 mean: 472.367, elapsed time: 41.9[s]\n",
      "reindeer sleep walk the night and drive mistletoe scrooge laugh elf jump gingerbread bake family give advent chimney fireplace ornament\n",
      "[4 iterations] best: 434.510, current: 466.161, top10 mean: 474.158, elapsed time: 42.2[s]\n",
      "reindeer sleep walk the night and drive mistletoe scrooge laugh elf jump bake gingerbread family give advent chimney fireplace ornament\n",
      "[5 iterations] best: 434.510, current: 473.502, top10 mean: 478.473, elapsed time: 42.2[s]\n",
      "reindeer sleep walk the night and drive mistletoe scrooge laugh elf jump family give gingerbread bake advent chimney fireplace ornament\n",
      "[6 iterations] best: 434.510, current: 473.502, top10 mean: 475.363, elapsed time: 42.8[s]\n",
      "reindeer sleep walk the night and drive mistletoe scrooge laugh elf jump bake gingerbread family give advent ornament chimney fireplace\n",
      "[7 iterations] best: 434.510, current: 467.986, top10 mean: 471.666, elapsed time: 42.4[s]\n",
      "reindeer sleep walk the night and drive mistletoe scrooge laugh elf jump gingerbread give family bake ornament advent chimney fireplace\n",
      "[8 iterations] best: 434.510, current: 466.161, top10 mean: 476.029, elapsed time: 42.3[s]\n",
      "reindeer sleep walk the night and drive mistletoe scrooge laugh elf jump family give gingerbread bake chimney fireplace ornament advent\n",
      "[9 iterations] best: 434.510, current: 471.656, top10 mean: 482.907, elapsed time: 42.0[s]\n",
      "reindeer sleep walk the night and drive mistletoe scrooge laugh elf jump gingerbread give family bake chimney fireplace ornament advent\n",
      "[10 iterations] best: 434.510, current: 482.841, top10 mean: 492.417, elapsed time: 41.3[s]\n",
      "reindeer sleep walk the night and drive mistletoe scrooge laugh elf jump gingerbread give family bake advent fireplace ornament chimney\n",
      "[11 iterations] best: 434.510, current: 498.168, top10 mean: 504.058, elapsed time: 42.0[s]\n",
      "reindeer sleep walk the night and drive mistletoe scrooge laugh elf jump gingerbread family give advent chimney fireplace ornament bake\n",
      "[12 iterations] best: 434.510, current: 475.355, top10 mean: 491.214, elapsed time: 42.1[s]\n",
      "reindeer sleep walk the night and drive mistletoe scrooge laugh elf bake gingerbread family give advent chimney fireplace ornament jump\n",
      "[13 iterations] best: 434.510, current: 479.084, top10 mean: 480.966, elapsed time: 42.1[s]\n",
      "reindeer sleep walk the night and drive mistletoe scrooge laugh elf bake gingerbread family give advent ornament fireplace chimney jump\n",
      "[14 iterations] best: 434.510, current: 467.986, top10 mean: 474.149, elapsed time: 42.4[s]\n",
      "reindeer sleep walk the night and drive mistletoe scrooge laugh elf bake gingerbread family give advent ornament chimney fireplace jump\n",
      "[15 iterations] best: 434.510, current: 473.502, top10 mean: 479.105, elapsed time: 42.3[s]\n",
      "reindeer sleep walk the night and drive mistletoe scrooge laugh elf bake gingerbread family give advent fireplace ornament jump chimney\n",
      "[16 iterations] best: 434.510, current: 484.731, top10 mean: 493.092, elapsed time: 42.0[s]\n",
      "reindeer sleep walk the night and drive mistletoe scrooge laugh elf bake gingerbread family give chimney jump advent fireplace ornament\n"
     ]
    }
   ],
   "source": [
    "%%time\n",
    "best_score, best_text, top_solutions = beam_search(tokens, fix_ids, scorer, k=3, n_iters=50)"
   ]
  },
  {
   "cell_type": "code",
   "execution_count": null,
   "id": "1dec5612-56c9-4a5f-80d0-632a7fb91b97",
   "metadata": {},
   "outputs": [],
   "source": [
    "scorer.get_perplexity(best_text)"
   ]
  },
  {
   "cell_type": "code",
   "execution_count": null,
   "id": "ce07e043-072e-433b-bdfd-8d0073c54e26",
   "metadata": {},
   "outputs": [],
   "source": [
    "best_score"
   ]
  },
  {
   "cell_type": "code",
   "execution_count": null,
   "id": "c75e4aa3-0bf8-4de6-b8d0-d866c4a7d49d",
   "metadata": {},
   "outputs": [],
   "source": [
    "best_text"
   ]
  },
  {
   "cell_type": "code",
   "execution_count": null,
   "id": "b8373fce-95f8-44de-ba6d-5dfaf6ff1fbd",
   "metadata": {},
   "outputs": [],
   "source": [
    "tmp = sorted(top_solutions.items(), key=lambda x: x[1])\n",
    "candidates, scores = map(list, zip(*tmp))\n",
    "candidates = [tokens2text(candidate) for candidate in candidates]"
   ]
  },
  {
   "cell_type": "code",
   "execution_count": null,
   "id": "821e23dc-efbf-43a3-a92f-9d7e3a16c0fe",
   "metadata": {},
   "outputs": [],
   "source": [
    "scores"
   ]
  },
  {
   "cell_type": "code",
   "execution_count": null,
   "id": "c4f813af-59d2-46fd-92fb-a4a8fff9903e",
   "metadata": {},
   "outputs": [],
   "source": [
    "candidates"
   ]
  },
  {
   "cell_type": "code",
   "execution_count": 31,
   "id": "808e4c55-098f-46a5-b6b3-36013bf56b7d",
   "metadata": {},
   "outputs": [],
   "source": [
    "output_dir = \"./output\"\n",
    "save_text(best_text, best_score, target_id, output_dir=output_dir)"
   ]
  },
  {
   "cell_type": "code",
   "execution_count": null,
   "id": "ddbfd911-e841-419b-be5c-491adcafebf2",
   "metadata": {},
   "outputs": [],
   "source": []
  }
 ],
 "metadata": {
  "kernelspec": {
   "display_name": "Python 3 (ipykernel)",
   "language": "python",
   "name": "python3"
  },
  "language_info": {
   "codemirror_mode": {
    "name": "ipython",
    "version": 3
   },
   "file_extension": ".py",
   "mimetype": "text/x-python",
   "name": "python",
   "nbconvert_exporter": "python",
   "pygments_lexer": "ipython3",
   "version": "3.10.14"
  }
 },
 "nbformat": 4,
 "nbformat_minor": 5
}
