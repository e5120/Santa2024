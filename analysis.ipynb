{
 "cells": [
  {
   "cell_type": "code",
   "execution_count": 2,
   "id": "ca2cd671-aad3-45ab-b86d-5d30041e22b6",
   "metadata": {},
   "outputs": [],
   "source": [
    "import numpy as np"
   ]
  },
  {
   "cell_type": "code",
   "execution_count": 3,
   "id": "8ac83337-4ecd-4f47-b64a-3f88631b6b6b",
   "metadata": {},
   "outputs": [],
   "source": [
    "def longest_common_substring(s1, s2):\n",
    "    # 文字列の長さを取得\n",
    "    len1, len2 = len(s1), len(s2)\n",
    "    # DPテーブルの初期化\n",
    "    dp = [[0] * (len2 + 1) for _ in range(len1 + 1)]\n",
    "    \n",
    "    # 最長共通部分文字列の長さとその終了位置\n",
    "    max_length = 0\n",
    "    end_pos = 0\n",
    "    \n",
    "    # DPテーブルの計算\n",
    "    for i in range(1, len1 + 1):\n",
    "        for j in range(1, len2 + 1):\n",
    "            if s1[i - 1] == s2[j - 1]:\n",
    "                dp[i][j] = dp[i - 1][j - 1] + 1\n",
    "                if dp[i][j] > max_length:\n",
    "                    max_length = dp[i][j]\n",
    "                    end_pos = i\n",
    "    \n",
    "    # 最長共通部分文字列の取得\n",
    "    lcs = s1[end_pos - max_length:end_pos]\n",
    "    return lcs\n",
    "\n",
    "\n"
   ]
  },
  {
   "cell_type": "code",
   "execution_count": 14,
   "id": "dbd70205-75c7-4deb-9ef5-c491663caf55",
   "metadata": {},
   "outputs": [
    {
     "data": {
      "text/plain": [
       "' greeting grinch ho'"
      ]
     },
     "execution_count": 14,
     "metadata": {},
     "output_type": "execute_result"
    }
   ],
   "source": [
    "s = \"from and and the and of as in is it of that to the we the with you have advent card candy carol candle cheer cheer chocolate chimney chimney give gingerbread greeting grinch holiday holly hohoho hope jingle jump joy not polar poinsettia sleigh sleep\"\n",
    "t = \"and and and as from have in is it not of of that the the the to we with you advent candle candy card carol cheer cheer chimney chimney chocolate gingerbread give greeting grinch hohoho holiday holly hope jingle joy jump poinsettia polar sleep sleigh\"\n",
    "longest_common_substring(s, t)"
   ]
  },
  {
   "cell_type": "code",
   "execution_count": 7,
   "id": "32c314f2-3dbc-473f-9eb3-54099040a1f1",
   "metadata": {},
   "outputs": [
    {
     "data": {
      "text/plain": [
       "100"
      ]
     },
     "execution_count": 7,
     "metadata": {},
     "output_type": "execute_result"
    }
   ],
   "source": [
    "len(\"sleigh of the magi yuletide cheer chimney gifts workshop unwrap naughty carol eat is holly visit decorations and ornament relax sing grinch stocking cheer holiday nice jingle nutcracker polar beard\".split())"
   ]
  },
  {
   "cell_type": "code",
   "execution_count": 51,
   "id": "b8c557c7-b4e5-4b7b-a3f8-3aa070522609",
   "metadata": {},
   "outputs": [
    {
     "data": {
      "text/plain": [
       "'chimney gifts workshop unwrap naughty carol eat is holly visit decorations and ornament relax sing grinch stocking cheer holiday nice jingle'"
      ]
     },
     "execution_count": 51,
     "metadata": {},
     "output_type": "execute_result"
    }
   ],
   "source": [
    "y = s.split(\" \")\n",
    "np.random.shuffle(y)\n",
    "\" \".join(y)"
   ]
  },
  {
   "cell_type": "code",
   "execution_count": 39,
   "id": "bc37d410-1c3e-4077-918e-a53de74949cf",
   "metadata": {},
   "outputs": [
    {
     "data": {
      "text/plain": [
       "44"
      ]
     },
     "execution_count": 39,
     "metadata": {},
     "output_type": "execute_result"
    }
   ],
   "source": [
    "len(\"' carol candle cheer cheer chocolate chimney chimney cookie decorations doll dream drive eat eggnog elf family fireplace fireplace fruitcake game gifts give gingerbread greeting grinch holiday holly hohoho hope jingle jump joy kaggle laugh magi merry milk mistletoe naughty nice night night n'\".split(\" \"))"
   ]
  },
  {
   "cell_type": "code",
   "execution_count": 29,
   "id": "0e08501f-66ae-465d-9c89-c0ad4993208e",
   "metadata": {},
   "outputs": [
    {
     "data": {
      "text/plain": [
       "('decorations', 'nutcracker')"
      ]
     },
     "execution_count": 29,
     "metadata": {},
     "output_type": "execute_result"
    }
   ],
   "source": [
    "tokens = s.split(\" \")\n",
    "i = 13\n",
    "j = -3\n",
    "tokens[i], tokens[j]"
   ]
  },
  {
   "cell_type": "code",
   "execution_count": 30,
   "id": "c787bac5-252e-40b9-8352-2c919198fa86",
   "metadata": {},
   "outputs": [
    {
     "data": {
      "text/plain": [
       "'sleigh of the magi yuletide cheer is unwrap gifts and eat cheer holiday jingle visit holly chimney sing relax stocking carol ornament grinch workshop nice decorations naughty nutcracker polar beard'"
      ]
     },
     "execution_count": 30,
     "metadata": {},
     "output_type": "execute_result"
    }
   ],
   "source": [
    "x = tokens[i:j]\n",
    "np.random.shuffle(x)\n",
    "tokens = tokens[:i] + x + tokens[j:]\n",
    "\" \".join(tokens)"
   ]
  },
  {
   "cell_type": "code",
   "execution_count": 32,
   "id": "82ae8d7c-f276-45cd-892f-97cdb890fc71",
   "metadata": {},
   "outputs": [
    {
     "data": {
      "text/plain": [
       "30"
      ]
     },
     "execution_count": 32,
     "metadata": {},
     "output_type": "execute_result"
    }
   ],
   "source": [
    "len(tokens)"
   ]
  },
  {
   "cell_type": "code",
   "execution_count": 6,
   "id": "e71d2441-fb22-44bd-b31c-ac288a776ed6",
   "metadata": {},
   "outputs": [
    {
     "data": {
      "text/plain": [
       "'it puzzle paper season fruitcake the card believe to angel doll joy cookie fireplace hohoho poinsettia with not milk you bow in hope kaggle toy that we have wrapping merry as of game wonder and wreath workshop greeting snowglobe star eggnog candy dream chocolate peace from night wish candle peppermint'"
      ]
     },
     "execution_count": 6,
     "metadata": {},
     "output_type": "execute_result"
    }
   ],
   "source": [
    "x = \"the of and to in that have not you with we it from as peppermint candy fruitcake chocolate milk eggnog cookie snowglobe toy doll game puzzle greeting card wrapping paper bow candle fireplace wreath poinsettia angel star night wish dream believe wonder hope joy peace season merry hohoho kaggle workshop\"\n",
    "tokens = x.split()\n",
    "np.random.shuffle(tokens)\n",
    "\" \".join(tokens)"
   ]
  },
  {
   "cell_type": "code",
   "execution_count": null,
   "id": "57bc2284-8b97-4d53-b9bb-af6f50351e5c",
   "metadata": {},
   "outputs": [],
   "source": []
  }
 ],
 "metadata": {
  "kernelspec": {
   "display_name": "Python 3 (ipykernel)",
   "language": "python",
   "name": "python3"
  },
  "language_info": {
   "codemirror_mode": {
    "name": "ipython",
    "version": 3
   },
   "file_extension": ".py",
   "mimetype": "text/x-python",
   "name": "python",
   "nbconvert_exporter": "python",
   "pygments_lexer": "ipython3",
   "version": "3.10.14"
  }
 },
 "nbformat": 4,
 "nbformat_minor": 5
}
