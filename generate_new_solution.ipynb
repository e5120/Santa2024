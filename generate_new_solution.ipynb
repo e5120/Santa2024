{
 "cells": [
  {
   "cell_type": "code",
   "execution_count": 1,
   "id": "fdc41a2b-c903-4099-b7b2-a0682d6e8143",
   "metadata": {},
   "outputs": [
    {
     "name": "stderr",
     "output_type": "stream",
     "text": [
      "/opt/mamba/lib/python3.10/site-packages/tqdm/auto.py:21: TqdmWarning: IProgress not found. Please update jupyter and ipywidgets. See https://ipywidgets.readthedocs.io/en/stable/user_install.html\n",
      "  from .autonotebook import tqdm as notebook_tqdm\n"
     ]
    }
   ],
   "source": [
    "import os\n",
    "os.environ[\"CUDA_VISIBLE_DEVICES\"] = \"0\"\n",
    "\n",
    "import numpy as np\n",
    "from tqdm.auto import tqdm\n",
    "\n",
    "from santa.operator import *\n",
    "from santa.metrics import PerplexityCalculator"
   ]
  },
  {
   "cell_type": "code",
   "execution_count": 2,
   "id": "8c7dc2f2-0a2e-42b5-8434-d665c1123faa",
   "metadata": {},
   "outputs": [
    {
     "name": "stderr",
     "output_type": "stream",
     "text": [
      "Loading checkpoint shards: 100% 8/8 [00:09<00:00,  1.13s/it]\n"
     ]
    }
   ],
   "source": [
    "scorer = PerplexityCalculator(model_path=\"google/gemma-2-9b\")\n",
    "tokenizer = scorer.tokenizer\n",
    "id2word = {v: k for k, v in tokenizer.vocab.items()}"
   ]
  },
  {
   "cell_type": "code",
   "execution_count": 3,
   "id": "f97e1dfa-e2ee-4d4b-8073-3c573278d7d1",
   "metadata": {},
   "outputs": [
    {
     "name": "stderr",
     "output_type": "stream",
     "text": [
      "Starting from v4.46, the `logits` model output will have the same type as the model (except at train time, where it will always be FP32)\n"
     ]
    },
    {
     "data": {
      "text/plain": [
       "355.0732086869962"
      ]
     },
     "execution_count": 3,
     "metadata": {},
     "output_type": "execute_result"
    }
   ],
   "source": [
    "text = \"advent chimney elf family fireplace gingerbread mistletoe ornament reindeer scrooge walk give jump drive bake the sleep night laugh and yuletide decorations gifts cheer holiday carol magi nutcracker polar grinch sleigh chimney workshop stocking ornament holly jingle beard naughty nice sing cheer and of the is eat visit relax unwrap hohoho candle poinsettia snowglobe peppermint eggnog fruitcake chocolate candy puzzle game doll toy workshop wonder believe dream hope peace joy merry season greeting card wrapping paper bow fireplace night cookie milk star wish wreath angel the to of and in that have it not with as you from we kaggle\"\n",
    "tokens = text.split()\n",
    "assert len(tokens) == 100\n",
    "scorer.get_perplexity(text)"
   ]
  },
  {
   "cell_type": "code",
   "execution_count": 4,
   "id": "ba80f674-bc2c-424c-8ac9-c8ce4815ea55",
   "metadata": {},
   "outputs": [],
   "source": [
    "def check_validation(new_text):\n",
    "    text = \"advent chimney elf family fireplace gingerbread mistletoe ornament reindeer scrooge walk give jump drive bake the sleep night laugh and yuletide decorations gifts cheer holiday carol magi nutcracker polar grinch sleigh chimney workshop stocking ornament holly jingle beard naughty nice sing cheer and of the is eat visit relax unwrap hohoho candle poinsettia snowglobe peppermint eggnog fruitcake chocolate candy puzzle game doll toy workshop wonder believe dream hope peace joy merry season greeting card wrapping paper bow fireplace night cookie milk star wish wreath angel the to of and in that have it not with as you from we kaggle\"\n",
    "    tokens = text.split()\n",
    "    new_tokens = new_text.split()\n",
    "    assert len(tokens) == len(new_tokens), f\"{len(new_tokens)}\"\n",
    "    assert len(text) == len(new_text), f\"{len(text)}, {len(new_text)}\"\n",
    "    assert len(set(tokens) - set(new_tokens)) == 0\n",
    "    assert len(set(new_tokens) - set(tokens)) == 0"
   ]
  },
  {
   "cell_type": "markdown",
   "id": "a147a92f-c354-4c61-aa82-d2be6f3ce4bb",
   "metadata": {},
   "source": [
    "## tokenizerのid順に並び替え"
   ]
  },
  {
   "cell_type": "code",
   "execution_count": 5,
   "id": "565b4ad2-42b8-4228-a976-d7743a226b76",
   "metadata": {},
   "outputs": [],
   "source": [
    "token2id = []\n",
    "for token in tokens:\n",
    "    token_id = tokenizer(\" \" + token)[\"input_ids\"][1:]\n",
    "    token2id.append((token, token_id))"
   ]
  },
  {
   "cell_type": "code",
   "execution_count": 6,
   "id": "8bd62c23-1f87-4bc7-bec5-d3fe73dd7ba0",
   "metadata": {},
   "outputs": [
    {
     "data": {
      "text/plain": [
       "'the the the in of of to and and and is it that with as you from not we have star game family give sing night night visit season card hope paper believe nice wonder walk drive wish sleep dream peace bow doll eat milk jump laugh relax joy advent holiday toy chocolate polar gifts cookie workshop workshop angel cheer cheer puzzle candy candle ornament ornament greeting beard decorations fireplace fireplace bake merry elf wrapping wreath chimney chimney stocking naughty reindeer holly gingerbread carol peppermint sleigh magi jingle unwrap hohoho grinch mistletoe snowglobe fruitcake nutcracker kaggle yuletide scrooge eggnog poinsettia'"
      ]
     },
     "execution_count": 6,
     "metadata": {},
     "output_type": "execute_result"
    }
   ],
   "source": [
    "init_solution = \" \".join([token for token, _ in sorted(token2id, key=lambda x: (len(x[1]), x[1][0]))])\n",
    "check_validation(init_solution)\n",
    "init_solution"
   ]
  },
  {
   "cell_type": "code",
   "execution_count": 7,
   "id": "76691454-93ee-4df9-aa99-bbd94c44b5e6",
   "metadata": {},
   "outputs": [
    {
     "data": {
      "text/plain": [
       "329.15156408889504"
      ]
     },
     "execution_count": 7,
     "metadata": {},
     "output_type": "execute_result"
    }
   ],
   "source": [
    "scorer.get_perplexity(init_solution)"
   ]
  },
  {
   "cell_type": "markdown",
   "id": "7fb455db-b55f-45bd-8d3b-b474c38ff834",
   "metadata": {},
   "source": [
    "## 出現頻度 → アルファベット順"
   ]
  },
  {
   "cell_type": "code",
   "execution_count": 8,
   "id": "15ed5ed9-a857-4f47-b2ed-284130e40e38",
   "metadata": {},
   "outputs": [
    {
     "data": {
      "text/plain": [
       "'and and and the the the cheer cheer chimney chimney fireplace fireplace night night of of ornament ornament workshop workshop advent angel as bake beard believe bow candle candy card carol chocolate cookie decorations doll dream drive eat eggnog elf family from fruitcake game gifts gingerbread give greeting grinch have hohoho holiday holly hope in is it jingle joy jump kaggle laugh magi merry milk mistletoe naughty nice not nutcracker paper peace peppermint poinsettia polar puzzle reindeer relax scrooge season sing sleep sleigh snowglobe star stocking that to toy unwrap visit walk we wish with wonder wrapping wreath you yuletide'"
      ]
     },
     "execution_count": 8,
     "metadata": {},
     "output_type": "execute_result"
    }
   ],
   "source": [
    "counter = {}\n",
    "for token in sorted(tokens):\n",
    "    if token not in counter:\n",
    "        counter[token] = 0\n",
    "    counter[token] += 1\n",
    "counter = sorted(counter.items(), key=lambda x: (-x[1], x[0]))\n",
    "new_tokens = []\n",
    "for token, count in counter:\n",
    "    new_tokens += [token] * count\n",
    "init_solution = \" \".join(new_tokens)\n",
    "check_validation(init_solution)\n",
    "init_solution"
   ]
  },
  {
   "cell_type": "code",
   "execution_count": 9,
   "id": "efb40684-ef41-4d88-97d2-7bd1923d1afb",
   "metadata": {},
   "outputs": [
    {
     "data": {
      "text/plain": [
       "76.21396633545747"
      ]
     },
     "execution_count": 9,
     "metadata": {},
     "output_type": "execute_result"
    }
   ],
   "source": [
    "scorer.get_perplexity(init_solution)"
   ]
  },
  {
   "cell_type": "markdown",
   "id": "f3af5825-354f-45e0-9657-0b11d15c0b7e",
   "metadata": {},
   "source": [
    "## stopwords + seq1 + seq2\n",
    "- seq1は各アルファベットの単語の長さ順で前半半分\n",
    "- seq2は各アルファベットの単語の長さ順で後半半分"
   ]
  },
  {
   "cell_type": "code",
   "execution_count": 10,
   "id": "62a0fb67-ad3e-43c8-95e0-6e9b60e9cd40",
   "metadata": {},
   "outputs": [],
   "source": [
    "STOP_WORDS = [\n",
    "    'we', 'that', 'as', 'it', 'with',\n",
    "    'of', 'in', 'is', 'not', 'you',\n",
    "    'from', 'and','to', 'the',\n",
    "]\n",
    "\n",
    "d = {\"stop_words\": []}\n",
    "for token in sorted(tokens):\n",
    "    if token in STOP_WORDS:\n",
    "        d[\"stop_words\"].append(token)\n",
    "    else:\n",
    "        if token[0] not in d:\n",
    "            d[token[0]] = []\n",
    "        d[token[0]].append(token)\n",
    "stop_words = d.pop(\"stop_words\")\n",
    "seq1, seq2 = [], []\n",
    "for alphabet, words in d.items():\n",
    "    words = sorted(words, key=lambda x: len(x))\n",
    "    w1, w2 = words[:len(words)//2], words[len(words)//2:]\n",
    "    seq1 += w1\n",
    "    seq2 += w2\n",
    "init_solution = \" \".join(stop_words + seq1 + seq2)\n",
    "check_validation(init_solution)"
   ]
  },
  {
   "cell_type": "code",
   "execution_count": 11,
   "id": "35461e7a-2efa-4a71-b8c4-3ce5e478ceb3",
   "metadata": {},
   "outputs": [
    {
     "data": {
      "text/plain": [
       "'and and and as from in is it not of of that the the the to we with you angel bow bake card candy carol cheer cheer doll dream eat family fireplace game give gifts have hope joy magi milk nice night ornament paper peace polar relax sing star sleep season walk wish wonder advent beard believe candle cookie chimney chimney chocolate drive decorations elf eggnog fireplace fruitcake grinch greeting gingerbread holly hohoho holiday jump jingle kaggle laugh merry mistletoe night naughty nutcracker ornament puzzle peppermint poinsettia reindeer sleigh scrooge stocking snowglobe toy unwrap visit wreath workshop workshop wrapping yuletide'"
      ]
     },
     "execution_count": 11,
     "metadata": {},
     "output_type": "execute_result"
    }
   ],
   "source": [
    "init_solution"
   ]
  },
  {
   "cell_type": "code",
   "execution_count": 12,
   "id": "c22b5238-1548-42d6-9cdd-1246214eec40",
   "metadata": {},
   "outputs": [
    {
     "data": {
      "text/plain": [
       "101.00528710107709"
      ]
     },
     "execution_count": 12,
     "metadata": {},
     "output_type": "execute_result"
    }
   ],
   "source": [
    "scorer.get_perplexity(init_solution)"
   ]
  },
  {
   "cell_type": "markdown",
   "id": "96356756-ac3b-49fd-b55d-6ae97412397b",
   "metadata": {},
   "source": [
    "## 局所解に人手を加えたもの\n",
    "- ストップワードを最後にする\n",
    "- 複数回出てくる単語は同じ場所にまとめる"
   ]
  },
  {
   "cell_type": "code",
   "execution_count": 15,
   "id": "d8cfb3c5-9509-4042-a9c6-97f345d2266a",
   "metadata": {},
   "outputs": [
    {
     "data": {
      "text/plain": [
       "'bake cheer cheer drive dream eat family game give grinch holiday hope jump laugh naughty nice night night peace puzzle relax scrooge season sing sleep toy unwrap visit walk wish wonder workshop workshop yuletide and and and the the the of of from to is as in that it we with not you have advent angel beard believe bow candy candle carol chimney chimney chocolate cookie decorations doll eggnog elf fireplace fireplace fruitcake gingerbread gifts greeting card holly hohoho jingle joy kaggle magi merry milk mistletoe nutcracker ornament ornament peppermint polar poinsettia reindeer sleigh snowglobe star stocking wreath wrapping paper'"
      ]
     },
     "execution_count": 15,
     "metadata": {},
     "output_type": "execute_result"
    }
   ],
   "source": [
    "init_solution = \"\"\"\n",
    "bake cheer cheer drive dream eat family game give grinch holiday hope jump laugh naughty nice night night peace puzzle relax scrooge season sing sleep toy unwrap visit walk wish wonder workshop workshop yuletide\n",
    "and and and the the the of of from to is as in that it we with not you have\n",
    "advent angel beard believe bow candy candle carol chimney chimney chocolate cookie decorations doll eggnog elf fireplace fireplace fruitcake gingerbread gifts greeting card holly hohoho jingle joy kaggle magi merry milk mistletoe nutcracker ornament ornament peppermint polar poinsettia reindeer sleigh snowglobe star stocking wreath wrapping paper\n",
    "\"\"\".strip().replace(\"\\n\", \" \")\n",
    "check_validation(init_solution)\n",
    "init_solution"
   ]
  },
  {
   "cell_type": "code",
   "execution_count": 16,
   "id": "cf57c971-cd1e-4ae9-8bd3-33a29d0294f0",
   "metadata": {},
   "outputs": [
    {
     "data": {
      "text/plain": [
       "45.83804799995008"
      ]
     },
     "execution_count": 16,
     "metadata": {},
     "output_type": "execute_result"
    }
   ],
   "source": [
    "scorer.get_perplexity(init_solution)"
   ]
  },
  {
   "cell_type": "markdown",
   "id": "bc66c29e-dacf-4912-9261-a9d4afb90dc5",
   "metadata": {},
   "source": [
    "## 品詞でグルーピング＆アルファベット順にソート"
   ]
  },
  {
   "cell_type": "code",
   "execution_count": 17,
   "id": "8b0226e6-8940-4b04-a83c-eb86ad8df365",
   "metadata": {},
   "outputs": [],
   "source": [
    "import spacy\n",
    "\n",
    "nlp = spacy.load(\"en_core_web_sm\")"
   ]
  },
  {
   "cell_type": "code",
   "execution_count": 18,
   "id": "1ce8c0e1-021f-43a3-b27c-839b27392a81",
   "metadata": {},
   "outputs": [],
   "source": [
    "pos = []\n",
    "for token in tokens:\n",
    "    for t in nlp(token):\n",
    "        if t.pos_ == \"VERB\":\n",
    "            index = 1\n",
    "        elif t.pos_ in (\"NOUN\", \"PROPN\"):\n",
    "            index = 2\n",
    "        else:\n",
    "            index = 0\n",
    "        pos += [(token, index, t.pos_)]\n",
    "pos = sorted(pos, key=lambda x: (x[1], x[0]))"
   ]
  },
  {
   "cell_type": "code",
   "execution_count": 19,
   "id": "76c7f8c4-7175-402b-aaa4-d296d0015c5b",
   "metadata": {},
   "outputs": [
    {
     "data": {
      "text/plain": [
       "[('and', 0, 'CCONJ'),\n",
       " ('and', 0, 'CCONJ'),\n",
       " ('and', 0, 'CCONJ'),\n",
       " ('as', 0, 'ADP'),\n",
       " ('elf', 0, 'PRON'),\n",
       " ('from', 0, 'ADP'),\n",
       " ('holly', 0, 'ADV'),\n",
       " ('in', 0, 'ADP'),\n",
       " ('is', 0, 'AUX'),\n",
       " ('it', 0, 'PRON'),\n",
       " ('nice', 0, 'ADJ'),\n",
       " ('not', 0, 'PART'),\n",
       " ('of', 0, 'ADP'),\n",
       " ('of', 0, 'ADP'),\n",
       " ('ornament', 0, 'ADJ'),\n",
       " ('ornament', 0, 'ADJ'),\n",
       " ('poinsettia', 0, 'ADV'),\n",
       " ('polar', 0, 'ADJ'),\n",
       " ('that', 0, 'SCONJ'),\n",
       " ('the', 0, 'PRON'),\n",
       " ('the', 0, 'PRON'),\n",
       " ('the', 0, 'PRON'),\n",
       " ('to', 0, 'PART'),\n",
       " ('we', 0, 'PRON'),\n",
       " ('with', 0, 'ADP'),\n",
       " ('you', 0, 'PRON'),\n",
       " ('bake', 1, 'VERB'),\n",
       " ('believe', 1, 'VERB'),\n",
       " ('bow', 1, 'VERB'),\n",
       " ('drive', 1, 'VERB'),\n",
       " ('eat', 1, 'VERB'),\n",
       " ('fruitcake', 1, 'VERB'),\n",
       " ('give', 1, 'VERB'),\n",
       " ('greeting', 1, 'VERB'),\n",
       " ('have', 1, 'VERB'),\n",
       " ('kaggle', 1, 'VERB'),\n",
       " ('laugh', 1, 'VERB'),\n",
       " ('merry', 1, 'VERB'),\n",
       " ('naughty', 1, 'VERB'),\n",
       " ('peppermint', 1, 'VERB'),\n",
       " ('relax', 1, 'VERB'),\n",
       " ('sing', 1, 'VERB'),\n",
       " ('visit', 1, 'VERB'),\n",
       " ('walk', 1, 'VERB'),\n",
       " ('wish', 1, 'VERB'),\n",
       " ('wrapping', 1, 'VERB'),\n",
       " ('yuletide', 1, 'VERB'),\n",
       " ('advent', 2, 'NOUN'),\n",
       " ('angel', 2, 'NOUN'),\n",
       " ('beard', 2, 'PROPN'),\n",
       " ('candle', 2, 'NOUN'),\n",
       " ('candy', 2, 'NOUN'),\n",
       " ('card', 2, 'NOUN'),\n",
       " ('carol', 2, 'PROPN'),\n",
       " ('cheer', 2, 'NOUN'),\n",
       " ('cheer', 2, 'NOUN'),\n",
       " ('chimney', 2, 'NOUN'),\n",
       " ('chimney', 2, 'NOUN'),\n",
       " ('chocolate', 2, 'NOUN'),\n",
       " ('cookie', 2, 'PROPN'),\n",
       " ('decorations', 2, 'NOUN'),\n",
       " ('doll', 2, 'NOUN'),\n",
       " ('dream', 2, 'NOUN'),\n",
       " ('eggnog', 2, 'NOUN'),\n",
       " ('family', 2, 'NOUN'),\n",
       " ('fireplace', 2, 'NOUN'),\n",
       " ('fireplace', 2, 'NOUN'),\n",
       " ('game', 2, 'NOUN'),\n",
       " ('gifts', 2, 'NOUN'),\n",
       " ('gingerbread', 2, 'PROPN'),\n",
       " ('grinch', 2, 'NOUN'),\n",
       " ('hohoho', 2, 'NOUN'),\n",
       " ('holiday', 2, 'NOUN'),\n",
       " ('hope', 2, 'NOUN'),\n",
       " ('jingle', 2, 'PROPN'),\n",
       " ('joy', 2, 'NOUN'),\n",
       " ('jump', 2, 'NOUN'),\n",
       " ('magi', 2, 'NOUN'),\n",
       " ('milk', 2, 'NOUN'),\n",
       " ('mistletoe', 2, 'NOUN'),\n",
       " ('night', 2, 'NOUN'),\n",
       " ('night', 2, 'NOUN'),\n",
       " ('nutcracker', 2, 'PROPN'),\n",
       " ('paper', 2, 'NOUN'),\n",
       " ('peace', 2, 'NOUN'),\n",
       " ('puzzle', 2, 'NOUN'),\n",
       " ('reindeer', 2, 'NOUN'),\n",
       " ('scrooge', 2, 'PROPN'),\n",
       " ('season', 2, 'NOUN'),\n",
       " ('sleep', 2, 'NOUN'),\n",
       " ('sleigh', 2, 'PROPN'),\n",
       " ('snowglobe', 2, 'NOUN'),\n",
       " ('star', 2, 'PROPN'),\n",
       " ('stocking', 2, 'NOUN'),\n",
       " ('toy', 2, 'NOUN'),\n",
       " ('unwrap', 2, 'NOUN'),\n",
       " ('wonder', 2, 'NOUN'),\n",
       " ('workshop', 2, 'NOUN'),\n",
       " ('workshop', 2, 'NOUN'),\n",
       " ('wreath', 2, 'NOUN')]"
      ]
     },
     "execution_count": 19,
     "metadata": {},
     "output_type": "execute_result"
    }
   ],
   "source": [
    "pos"
   ]
  },
  {
   "cell_type": "code",
   "execution_count": 21,
   "id": "0e6a76a5-86d7-4b63-93e5-4f0661b277bb",
   "metadata": {},
   "outputs": [
    {
     "data": {
      "text/plain": [
       "'and and and as elf from holly in is it nice not of of ornament ornament poinsettia polar that the the the to we with you bake believe bow drive eat fruitcake give greeting have kaggle laugh merry naughty peppermint relax sing visit walk wish wrapping yuletide advent angel beard candle candy card carol cheer cheer chimney chimney chocolate cookie decorations doll dream eggnog family fireplace fireplace game gifts gingerbread grinch hohoho holiday hope jingle joy jump magi milk mistletoe night night nutcracker paper peace puzzle reindeer scrooge season sleep sleigh snowglobe star stocking toy unwrap wonder workshop workshop wreath'"
      ]
     },
     "execution_count": 21,
     "metadata": {},
     "output_type": "execute_result"
    }
   ],
   "source": [
    "init_solution = \" \".join([x[0] for x in pos])\n",
    "check_validation(init_solution)\n",
    "init_solution"
   ]
  },
  {
   "cell_type": "code",
   "execution_count": 22,
   "id": "a1344d0b-f5d8-40c9-8557-36d69fc15d68",
   "metadata": {},
   "outputs": [
    {
     "data": {
      "text/plain": [
       "184.02509883139066"
      ]
     },
     "execution_count": 22,
     "metadata": {},
     "output_type": "execute_result"
    }
   ],
   "source": [
    "scorer.get_perplexity(init_solution)"
   ]
  },
  {
   "cell_type": "markdown",
   "id": "a94d2fcc-f3fb-4e4b-a2f8-42d007140727",
   "metadata": {},
   "source": [
    "## 局所解に人手を加えたもの\n",
    "- ストップワードを真ん中に置く\n",
    "- 複数回出てくる単語は同じ場所にまとめる"
   ]
  },
  {
   "cell_type": "code",
   "execution_count": 23,
   "id": "b6c56dd4-34d0-44a4-aa11-6e4b6d3ea2c6",
   "metadata": {},
   "outputs": [
    {
     "data": {
      "text/plain": [
       "'bake cheer cheer drive dream eat family game give grinch holiday hope jump laugh naughty nice night night peace puzzle relax scrooge season sing sleep toy unwrap visit walk wish wonder workshop workshop yuletide and and and the the the of of from to is as in that it we with not you have advent angel beard believe bow candy candle carol chimney chimney chocolate cookie decorations doll eggnog elf fireplace fireplace fruitcake gingerbread gifts greeting card holly hohoho jingle joy kaggle magi merry milk mistletoe nutcracker ornament ornament peppermint polar poinsettia reindeer sleigh snowglobe star stocking wreath wrapping paper'"
      ]
     },
     "execution_count": 23,
     "metadata": {},
     "output_type": "execute_result"
    }
   ],
   "source": [
    "init_solution = \"\"\"\n",
    "bake cheer cheer drive dream eat family game give grinch holiday hope jump laugh naughty nice night night peace puzzle relax scrooge season sing sleep toy unwrap visit walk wish wonder workshop workshop yuletide\n",
    "and and and the the the of of from to is as in that it we with not you have\n",
    "advent angel beard believe bow candy candle carol chimney chimney chocolate cookie decorations doll eggnog elf fireplace fireplace fruitcake gingerbread gifts greeting card holly hohoho jingle joy kaggle magi merry milk mistletoe nutcracker ornament ornament peppermint polar poinsettia reindeer sleigh snowglobe star stocking wreath wrapping paper\n",
    "\"\"\".strip().replace(\"\\n\", \" \")\n",
    "check_validation(init_solution)\n",
    "init_solution"
   ]
  },
  {
   "cell_type": "code",
   "execution_count": 24,
   "id": "c1de9c31-042b-47cb-8176-baf9fe8b1975",
   "metadata": {},
   "outputs": [
    {
     "data": {
      "text/plain": [
       "45.83804799995008"
      ]
     },
     "execution_count": 24,
     "metadata": {},
     "output_type": "execute_result"
    }
   ],
   "source": [
    "scorer.get_perplexity(init_solution)"
   ]
  },
  {
   "cell_type": "code",
   "execution_count": null,
   "id": "90352137-26f2-4b2b-8384-729e537b3ef6",
   "metadata": {},
   "outputs": [],
   "source": []
  }
 ],
 "metadata": {
  "kernelspec": {
   "display_name": "Python 3 (ipykernel)",
   "language": "python",
   "name": "python3"
  },
  "language_info": {
   "codemirror_mode": {
    "name": "ipython",
    "version": 3
   },
   "file_extension": ".py",
   "mimetype": "text/x-python",
   "name": "python",
   "nbconvert_exporter": "python",
   "pygments_lexer": "ipython3",
   "version": "3.10.14"
  }
 },
 "nbformat": 4,
 "nbformat_minor": 5
}
