{
 "cells": [
  {
   "cell_type": "code",
   "execution_count": 17,
   "id": "e5b6bace-57b9-433a-972b-5d5db8272124",
   "metadata": {},
   "outputs": [],
   "source": [
    "from pathlib import Path\n",
    "\n",
    "import numpy as np\n",
    "import pandas as pd"
   ]
  },
  {
   "cell_type": "code",
   "execution_count": 18,
   "id": "817b290a-8198-4c91-85f3-96b8f19aa2d2",
   "metadata": {},
   "outputs": [
    {
     "data": {
      "text/html": [
       "<div>\n",
       "<style scoped>\n",
       "    .dataframe tbody tr th:only-of-type {\n",
       "        vertical-align: middle;\n",
       "    }\n",
       "\n",
       "    .dataframe tbody tr th {\n",
       "        vertical-align: top;\n",
       "    }\n",
       "\n",
       "    .dataframe thead th {\n",
       "        text-align: right;\n",
       "    }\n",
       "</style>\n",
       "<table border=\"1\" class=\"dataframe\">\n",
       "  <thead>\n",
       "    <tr style=\"text-align: right;\">\n",
       "      <th></th>\n",
       "      <th>id</th>\n",
       "      <th>text</th>\n",
       "    </tr>\n",
       "  </thead>\n",
       "  <tbody>\n",
       "    <tr>\n",
       "      <th>0</th>\n",
       "      <td>0</td>\n",
       "      <td>advent chimney elf family fireplace gingerbrea...</td>\n",
       "    </tr>\n",
       "    <tr>\n",
       "      <th>1</th>\n",
       "      <td>1</td>\n",
       "      <td>advent chimney elf family fireplace gingerbrea...</td>\n",
       "    </tr>\n",
       "    <tr>\n",
       "      <th>2</th>\n",
       "      <td>2</td>\n",
       "      <td>yuletide decorations gifts cheer holiday carol...</td>\n",
       "    </tr>\n",
       "    <tr>\n",
       "      <th>3</th>\n",
       "      <td>3</td>\n",
       "      <td>yuletide decorations gifts cheer holiday carol...</td>\n",
       "    </tr>\n",
       "    <tr>\n",
       "      <th>4</th>\n",
       "      <td>4</td>\n",
       "      <td>hohoho candle poinsettia snowglobe peppermint ...</td>\n",
       "    </tr>\n",
       "    <tr>\n",
       "      <th>5</th>\n",
       "      <td>5</td>\n",
       "      <td>advent chimney elf family fireplace gingerbrea...</td>\n",
       "    </tr>\n",
       "  </tbody>\n",
       "</table>\n",
       "</div>"
      ],
      "text/plain": [
       "   id                                               text\n",
       "0   0  advent chimney elf family fireplace gingerbrea...\n",
       "1   1  advent chimney elf family fireplace gingerbrea...\n",
       "2   2  yuletide decorations gifts cheer holiday carol...\n",
       "3   3  yuletide decorations gifts cheer holiday carol...\n",
       "4   4  hohoho candle poinsettia snowglobe peppermint ...\n",
       "5   5  advent chimney elf family fireplace gingerbrea..."
      ]
     },
     "execution_count": 18,
     "metadata": {},
     "output_type": "execute_result"
    }
   ],
   "source": [
    "sub_df = pd.read_csv(\"./data/sample_submission.csv\")\n",
    "sub_df"
   ]
  },
  {
   "cell_type": "code",
   "execution_count": 19,
   "id": "38b39bfd-39b9-48b0-9e9b-6756e184406f",
   "metadata": {},
   "outputs": [
    {
     "data": {
      "text/plain": [
       "0     10\n",
       "1     20\n",
       "2     20\n",
       "3     30\n",
       "4     50\n",
       "5    100\n",
       "Name: text, dtype: int64"
      ]
     },
     "execution_count": 19,
     "metadata": {},
     "output_type": "execute_result"
    }
   ],
   "source": [
    "sub_df[\"text\"].map(lambda x: len(x.split(\" \")))"
   ]
  },
  {
   "cell_type": "code",
   "execution_count": 20,
   "id": "d79d8885-e543-4e3f-87de-6fd42e85b09c",
   "metadata": {},
   "outputs": [
    {
     "data": {
      "text/plain": [
       "251.495899622077"
      ]
     },
     "execution_count": 20,
     "metadata": {},
     "output_type": "execute_result"
    }
   ],
   "source": [
    "scores = []\n",
    "for i in range(len(sub_df)):\n",
    "    files = sorted(Path(\"./output\").glob(f\"id{i}_*\"))\n",
    "    best_file = files[0]\n",
    "    score = float(str(best_file).split(\"_\")[1].split(\".txt\")[0])\n",
    "    scores.append(score)\n",
    "    with open(best_file) as f:\n",
    "        text = f.readline().strip()\n",
    "        sub_df.loc[i, \"text\"] = text\n",
    "sub_df.to_csv(f\"./output/submission_{np.mean(scores):.5f}.csv\", index=False)\n",
    "np.mean(scores)"
   ]
  },
  {
   "cell_type": "code",
   "execution_count": 21,
   "id": "1937c9d6-3497-4916-9db9-047859b55a8a",
   "metadata": {},
   "outputs": [
    {
     "data": {
      "text/plain": [
       "[467.98558773246197, 424.4445, 299.80282, 202.06587, 80.37625, 34.30037]"
      ]
     },
     "execution_count": 21,
     "metadata": {},
     "output_type": "execute_result"
    }
   ],
   "source": [
    "scores"
   ]
  },
  {
   "cell_type": "code",
   "execution_count": 22,
   "id": "44d33bb6-276b-4d19-81f5-a399e65e99a2",
   "metadata": {},
   "outputs": [
    {
     "data": {
      "text/plain": [
       "1508.975397732462"
      ]
     },
     "execution_count": 22,
     "metadata": {},
     "output_type": "execute_result"
    }
   ],
   "source": [
    "np.sum(scores)"
   ]
  },
  {
   "cell_type": "code",
   "execution_count": 23,
   "id": "bd33d86b-0797-4a4a-8a85-34c33b498947",
   "metadata": {},
   "outputs": [
    {
     "data": {
      "text/plain": [
       "1488"
      ]
     },
     "execution_count": 23,
     "metadata": {},
     "output_type": "execute_result"
    }
   ],
   "source": [
    "target_score = 248 * 6\n",
    "target_score"
   ]
  },
  {
   "cell_type": "code",
   "execution_count": 24,
   "id": "b7bc84bf-f217-4768-949d-adf5201238fc",
   "metadata": {},
   "outputs": [
    {
     "data": {
      "text/plain": [
       "20.975397732461943"
      ]
     },
     "execution_count": 24,
     "metadata": {},
     "output_type": "execute_result"
    }
   ],
   "source": [
    "impr_score = np.sum(scores) - target_score\n",
    "impr_score"
   ]
  },
  {
   "cell_type": "code",
   "execution_count": null,
   "id": "d6d64034-d04b-4871-a292-ab5023003658",
   "metadata": {},
   "outputs": [],
   "source": []
  },
  {
   "cell_type": "code",
   "execution_count": null,
   "id": "7dfbb6e8-c755-4762-9e9d-7ac3adbcfdd5",
   "metadata": {},
   "outputs": [],
   "source": []
  },
  {
   "cell_type": "code",
   "execution_count": 25,
   "id": "76c3da17-16a6-434e-afef-e275b63fc28f",
   "metadata": {},
   "outputs": [
    {
     "name": "stderr",
     "output_type": "stream",
     "text": [
      "/opt/mamba/lib/python3.10/site-packages/tqdm/auto.py:21: TqdmWarning: IProgress not found. Please update jupyter and ipywidgets. See https://ipywidgets.readthedocs.io/en/stable/user_install.html\n",
      "  from .autonotebook import tqdm as notebook_tqdm\n"
     ]
    }
   ],
   "source": [
    "import os\n",
    "os.environ[\"CUDA_VISIBLE_DEVICES\"] = \"1\"\n",
    "import sys\n",
    "sys.path.append(\"..\")\n",
    "from santa.metrics import PerplexityCalculator"
   ]
  },
  {
   "cell_type": "code",
   "execution_count": 26,
   "id": "8be5d28c-78fc-44ae-8614-d269e7942477",
   "metadata": {},
   "outputs": [
    {
     "name": "stderr",
     "output_type": "stream",
     "text": [
      "Loading checkpoint shards: 100% 8/8 [00:08<00:00,  1.08s/it]\n"
     ]
    }
   ],
   "source": [
    "scorer = PerplexityCalculator(model_path=\"google/gemma-2-9b\")"
   ]
  },
  {
   "cell_type": "code",
   "execution_count": 27,
   "id": "b01be33f-ad1a-48eb-8ee9-7efa0598e866",
   "metadata": {},
   "outputs": [
    {
     "data": {
      "text/plain": [
       "80.37625124290746"
      ]
     },
     "execution_count": 27,
     "metadata": {},
     "output_type": "execute_result"
    }
   ],
   "source": [
    "text = \"the of and to in that have not you with we it from as peppermint candy fruitcake chocolate milk eggnog cookie snowglobe toy doll game puzzle greeting card wrapping paper bow candle fireplace wreath poinsettia angel star night wish dream believe wonder hope joy peace season merry hohoho kaggle workshop\"\n",
    "scorer.get_perplexity(text, batch_size=1)"
   ]
  },
  {
   "cell_type": "code",
   "execution_count": 34,
   "id": "f842a55e-2da8-4645-8567-1a92faf7ab96",
   "metadata": {},
   "outputs": [
    {
     "data": {
      "text/plain": [
       "299.8028224298701"
      ]
     },
     "execution_count": 34,
     "metadata": {},
     "output_type": "execute_result"
    }
   ],
   "source": [
    "df = pd.read_csv(\"output/submission_watanabe.csv\")\n",
    "i = 2\n",
    "scorer.get_perplexity(df.loc[i, \"text\"])"
   ]
  },
  {
   "cell_type": "code",
   "execution_count": 35,
   "id": "d3054583-ef5b-4f8f-83a4-7302e50d0362",
   "metadata": {},
   "outputs": [
    {
     "data": {
      "text/plain": [
       "'sleigh yuletide beard carol cheer chimney decorations gifts grinch holiday holly jingle magi naughty nice nutcracker ornament polar workshop stocking'"
      ]
     },
     "execution_count": 35,
     "metadata": {},
     "output_type": "execute_result"
    }
   ],
   "source": [
    "df.loc[i, \"text\"]"
   ]
  },
  {
   "cell_type": "code",
   "execution_count": 10,
   "id": "0259780f-fa66-494c-ac83-38b4b32a1f2d",
   "metadata": {},
   "outputs": [],
   "source": [
    "# x = sub_df.loc[1, \"text\"]\n",
    "# y = x.split(\" \")\n",
    "# y[0], y[5] = y[5], y[0]\n",
    "# y = \" \".join(y)\n",
    "# z = x.split(\" \")\n",
    "# z[2], z[3] = z[3], z[2]\n",
    "# z = \" \".join(z)"
   ]
  },
  {
   "cell_type": "code",
   "execution_count": 11,
   "id": "6fc28507-967d-436f-9751-1dc5156ee6b1",
   "metadata": {},
   "outputs": [],
   "source": [
    "# scorer.get_perplexity([x, y, z], batch_size=1)"
   ]
  },
  {
   "cell_type": "code",
   "execution_count": 12,
   "id": "3f35e7d6-1d05-46a6-b799-96da6d76e436",
   "metadata": {},
   "outputs": [],
   "source": [
    "# scorer.get_perplexity([x, y, z], batch_size=3)"
   ]
  },
  {
   "cell_type": "code",
   "execution_count": 4,
   "id": "c5b887f0-b17a-4cdc-9411-e0b80dd97eee",
   "metadata": {},
   "outputs": [
    {
     "ename": "NameError",
     "evalue": "name 'scorer' is not defined",
     "output_type": "error",
     "traceback": [
      "\u001b[0;31m---------------------------------------------------------------------------\u001b[0m",
      "\u001b[0;31mNameError\u001b[0m                                 Traceback (most recent call last)",
      "Cell \u001b[0;32mIn[4], line 1\u001b[0m\n\u001b[0;32m----> 1\u001b[0m \u001b[43mscorer\u001b[49m\u001b[38;5;241m.\u001b[39mget_perplexity(sub_df[\u001b[38;5;124m\"\u001b[39m\u001b[38;5;124mtext\u001b[39m\u001b[38;5;124m\"\u001b[39m]\u001b[38;5;241m.\u001b[39mtolist()[\u001b[38;5;241m1\u001b[39m:\u001b[38;5;241m4\u001b[39m], batch_size\u001b[38;5;241m=\u001b[39m\u001b[38;5;241m1\u001b[39m)\n",
      "\u001b[0;31mNameError\u001b[0m: name 'scorer' is not defined"
     ]
    }
   ],
   "source": [
    "scorer.get_perplexity(sub_df[\"text\"].tolist()[1:4], batch_size=1)"
   ]
  },
  {
   "cell_type": "code",
   "execution_count": null,
   "id": "d13e83d7-03b8-4722-96d3-aa8dc0a5d6d5",
   "metadata": {},
   "outputs": [],
   "source": [
    "scorer.get_perplexity(sub_df[\"text\"].tolist()[1:4], batch_size=2)"
   ]
  },
  {
   "cell_type": "code",
   "execution_count": 5,
   "id": "0ca47bc4-dc82-46e9-aac1-400a5ca46217",
   "metadata": {},
   "outputs": [],
   "source": [
    "# %%time\n",
    "# for _ in range(100):\n",
    "#     scorer.get_perplexity(sub_df.loc[5, \"text\"], batch_size=6)"
   ]
  },
  {
   "cell_type": "code",
   "execution_count": 13,
   "id": "8c823d36-3ec2-4e66-a89e-1589c10e5233",
   "metadata": {},
   "outputs": [],
   "source": [
    "# %%time\n",
    "# tmp = [sub_df.loc[5, \"text\"] for _ in range(100)]\n",
    "# scorer.get_perplexity(tmp, batch_size=16)"
   ]
  },
  {
   "cell_type": "code",
   "execution_count": null,
   "id": "d654d1f8-2b76-4f6b-84fc-5d5fe275791b",
   "metadata": {},
   "outputs": [],
   "source": []
  }
 ],
 "metadata": {
  "kernelspec": {
   "display_name": "Python 3 (ipykernel)",
   "language": "python",
   "name": "python3"
  },
  "language_info": {
   "codemirror_mode": {
    "name": "ipython",
    "version": 3
   },
   "file_extension": ".py",
   "mimetype": "text/x-python",
   "name": "python",
   "nbconvert_exporter": "python",
   "pygments_lexer": "ipython3",
   "version": "3.10.14"
  }
 },
 "nbformat": 4,
 "nbformat_minor": 5
}
