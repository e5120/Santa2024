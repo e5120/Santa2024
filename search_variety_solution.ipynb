{
 "cells": [
  {
   "cell_type": "code",
   "execution_count": 14,
   "id": "28b59cef-417e-411e-9237-8a683bc728a0",
   "metadata": {},
   "outputs": [],
   "source": [
    "import re\n",
    "from pathlib import Path\n",
    "\n",
    "import numpy as np\n",
    "import seaborn as sns\n",
    "from scipy.stats import spearmanr\n",
    "\n",
    "from santa.utils import get_token2id, tokens2order, load_file"
   ]
  },
  {
   "cell_type": "code",
   "execution_count": 3,
   "id": "48b90bb6-3139-4501-afda-238b26753e01",
   "metadata": {},
   "outputs": [
    {
     "data": {
      "text/plain": [
       "224"
      ]
     },
     "execution_count": 3,
     "metadata": {},
     "output_type": "execute_result"
    }
   ],
   "source": [
    "target_id = 5\n",
    "dir = Path(\"./output/\")\n",
    "files = sorted(dir.glob(f\"id{target_id}_0*.txt\"))\n",
    "# dir = Path(\"./output/id5-bk\")\n",
    "# files += sorted(dir.glob(f\"id{target_id}_0*.txt\"))\n",
    "len(files)"
   ]
  },
  {
   "cell_type": "code",
   "execution_count": 8,
   "id": "a16d7cdc-b3e2-4a3b-93b5-4ce2724f4864",
   "metadata": {},
   "outputs": [
    {
     "name": "stdout",
     "output_type": "stream",
     "text": [
      "[id 000] init token=of      , score=28.90722\n",
      "[id 005] init token=of      , score=28.97113\n",
      "[id 174] init token=of      , score=30.91748\n",
      "[id 188] init token=from    , score=31.64070\n",
      "[id 197] init token=from    , score=31.90430\n",
      "[id 206] init token=from    , score=32.44136\n"
     ]
    }
   ],
   "source": [
    "corr_th = 0.8\n",
    "score_th = 35\n",
    "tokens_list, score_list = [], []\n",
    "for i, filename in enumerate(files):\n",
    "    text, score = load_file(filename)\n",
    "    if score > score_th:\n",
    "        continue\n",
    "    tokens = text.split()\n",
    "    token2id = get_token2id(text)\n",
    "    order = tokens2order(tokens, token2id)\n",
    "    variety_flag = True\n",
    "    for t in tokens_list:\n",
    "        corr, pvalue = spearmanr(order, tokens2order(t, token2id))\n",
    "        if corr > corr_th:\n",
    "            variety_flag = False\n",
    "            break\n",
    "    if variety_flag:\n",
    "        tokens_list.append(tokens)\n",
    "        score_list.append(score)\n",
    "        print(f\"[id {i:>03}] init token={tokens[0]:<8}, score={score:.5f}\")"
   ]
  },
  {
   "cell_type": "code",
   "execution_count": 9,
   "id": "008f7bbd-765a-4c38-a11d-341e877c8dbe",
   "metadata": {},
   "outputs": [
    {
     "name": "stdout",
     "output_type": "stream",
     "text": [
      "28.90722\n",
      "of and from the of and the to the is and as in that it we with not you have bake drive eat family game give holiday hope jump laugh night peace puzzle relax season sing sleep toy unwrap visit walk wish yuletide candle card cheer chimney cookie eggnog fireplace fruitcake mistletoe nutcracker ornament poinsettia reindeer scrooge sleigh snowglobe stocking star wrapping paper advent angel beard believe bow candy carol cheer chocolate chimney decorations doll dream elf fireplace gifts gingerbread greeting grinch holly hohoho jingle joy kaggle magi merry milk naughty nice night ornament peppermint polar wreath wonder workshop workshop\n",
      "\n",
      "\n",
      "28.97113\n",
      "of and from the of and the to the is and as in that it we with not you have bake drive eat family game give holiday hope jump laugh night peace puzzle relax season sing sleep toy unwrap walk wish believe candy card cheer chimney decorations doll dream elf fireplace gifts greeting hohoho jingle joy kaggle magi merry milk naughty nice night visit wonder workshop workshop yuletide advent angel beard bow candle carol cheer chimney chocolate cookie eggnog fireplace fruitcake gingerbread grinch holly mistletoe nutcracker ornament ornament peppermint polar poinsettia reindeer scrooge sleigh snowglobe stocking star wreath wrapping paper\n",
      "\n",
      "\n",
      "30.91748\n",
      "of and from the of and the to the is and as in that it we with not you have bake eat cheer drive give hope jump laugh night relax sing sleep walk wish yuletide season advent angel beard believe bow candy carol candle cheer chocolate chimney cookie decorations doll dream eggnog elf family fireplace fireplace chimney fruitcake game gifts gingerbread grinch greeting card holly hohoho holiday jingle joy kaggle magi merry milk mistletoe naughty nice night nutcracker ornament ornament peace peppermint polar poinsettia puzzle reindeer scrooge sleigh snowglobe star stocking toy unwrap visit wrapping paper wreath wonder workshop workshop\n",
      "\n",
      "\n",
      "31.6407\n",
      "from and and the and as is in it of not that the to we with you advent card carol cheer chocolate cookie decorations doll dream drive eat family fireplace game gifts give greeting have holiday hope joy laugh magi night of the night peace puzzle relax season sing sleep star walk wish workshop angel bake beard believe bow candy candle cheer chimney chimney elf eggnog fireplace fruitcake gingerbread grinch holly hohoho jingle jump kaggle merry milk mistletoe naughty nice nutcracker ornament ornament peppermint polar poinsettia reindeer scrooge sleigh snowglobe stocking toy unwrap visit wonder workshop wrapping paper wreath yuletide\n",
      "\n",
      "\n",
      "31.9043\n",
      "from the the the of of and and and to is as in that it we with not you have bake cheer drive dream eat game give grinch holiday hope jump laugh milk naughty nice night peace puzzle relax scrooge season sing sleep toy unwrap visit walk wish yuletide believe candy carol cheer chocolate chimney cookie eggnog elf fireplace fruitcake jingle kaggle merry mistletoe nutcracker ornament peppermint polar reindeer sleigh snowglobe stocking star wrapping paper advent angel beard bow candle chimney decorations doll family fireplace gifts gingerbread greeting card holly hohoho joy magi night ornament poinsettia wreath wonder workshop workshop\n",
      "\n",
      "\n",
      "32.44136\n",
      "from the the the of of and and not and to in is you that it with as advent card angel bake beard believe bow candy carol candle cheer cheer chocolate chimney chimney cookie decorations doll dream drive eat eggnog elf family fireplace fireplace fruitcake game gifts give gingerbread greeting grinch have holiday holly hohoho hope jingle jump joy kaggle laugh magi merry milk mistletoe naughty nice night night nutcracker ornament ornament paper peace peppermint polar poinsettia puzzle reindeer relax scrooge season sing sleigh sleep snowglobe star stocking toy unwrap visit walk we wish wonder workshop workshop wrapping wreath yuletide\n",
      "\n",
      "\n"
     ]
    }
   ],
   "source": [
    "for tokens, score in zip(tokens_list, score_list):\n",
    "    print(score)\n",
    "    print(\" \".join(tokens))\n",
    "    print()\n",
    "    print()"
   ]
  },
  {
   "cell_type": "code",
   "execution_count": 10,
   "id": "262881a6-aa9b-46a3-8f1d-d4d25f4e1a34",
   "metadata": {},
   "outputs": [],
   "source": [
    "corr_list = []\n",
    "for i in range(len(tokens_list)):\n",
    "    corr_list.append([])\n",
    "    for j in range(len(tokens_list)):\n",
    "        i_tokens = tokens_list[i]\n",
    "        j_tokens = tokens_list[j]\n",
    "        token2id = get_token2id(\" \".join(i_tokens))\n",
    "        i_order = tokens2order(i_tokens, token2id)\n",
    "        j_order = tokens2order(j_tokens, token2id)\n",
    "        corr, _ = spearmanr(i_order, j_order)\n",
    "        corr_list[i].append(corr)"
   ]
  },
  {
   "cell_type": "code",
   "execution_count": 13,
   "id": "2066fce1-1ddf-49bb-b2e7-8cd95d5cdfc1",
   "metadata": {},
   "outputs": [
    {
     "data": {
      "text/plain": [
       "<Axes: >"
      ]
     },
     "execution_count": 13,
     "metadata": {},
     "output_type": "execute_result"
    },
    {
     "data": {
      "image/png": "[encoded data removed]",
      "text/plain": [
       "<Figure size 640x480 with 2 Axes>"
      ]
     },
     "metadata": {},
     "output_type": "display_data"
    }
   ],
   "source": [
    "sns.heatmap(corr_list, xticklabels=score_list, yticklabels=score_list)"
   ]
  },
  {
   "cell_type": "code",
   "execution_count": 15,
   "id": "0d6e627d-cef8-4e06-ae66-b5818dbcfa2d",
   "metadata": {},
   "outputs": [
    {
     "data": {
      "text/plain": [
       "array([[1.        , 0.77138914, 0.73780978, 0.61050105, 0.79833183,\n",
       "        0.46519052],\n",
       "       [0.77138914, 1.        , 0.78627063, 0.74709871, 0.76559256,\n",
       "        0.5460306 ],\n",
       "       [0.73780978, 0.78627063, 1.        , 0.7809661 , 0.72842484,\n",
       "        0.73345335],\n",
       "       [0.61050105, 0.74709871, 0.7809661 , 1.        , 0.55827183,\n",
       "        0.72558056],\n",
       "       [0.79833183, 0.76559256, 0.72842484, 0.55827183, 1.        ,\n",
       "        0.47431143],\n",
       "       [0.46519052, 0.5460306 , 0.73345335, 0.72558056, 0.47431143,\n",
       "        1.        ]])"
      ]
     },
     "execution_count": 15,
     "metadata": {},
     "output_type": "execute_result"
    }
   ],
   "source": [
    "np.array(corr_list)"
   ]
  },
  {
   "cell_type": "code",
   "execution_count": null,
   "id": "94c0b699-841e-4bf4-b5f4-53d87fd89bb3",
   "metadata": {},
   "outputs": [],
   "source": []
  }
 ],
 "metadata": {
  "kernelspec": {
   "display_name": "Python 3 (ipykernel)",
   "language": "python",
   "name": "python3"
  },
  "language_info": {
   "codemirror_mode": {
    "name": "ipython",
    "version": 3
   },
   "file_extension": ".py",
   "mimetype": "text/x-python",
   "name": "python",
   "nbconvert_exporter": "python",
   "pygments_lexer": "ipython3",
   "version": "3.10.14"
  }
 },
 "nbformat": 4,
 "nbformat_minor": 5
}
