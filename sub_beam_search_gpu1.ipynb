{
 "cells": [
  {
   "cell_type": "code",
   "execution_count": 1,
   "id": "9db0f8a3-6577-41dd-99e1-6343580a29ef",
   "metadata": {},
   "outputs": [],
   "source": [
    "import os\n",
    "os.environ[\"CUDA_VISIBLE_DEVICES\"] = \"1\"\n",
    "import sys\n",
    "sys.path.append(\"..\")"
   ]
  },
  {
   "cell_type": "code",
   "execution_count": 4,
   "id": "a49f9e60-9f68-4ca5-9d96-c568950d2f3f",
   "metadata": {},
   "outputs": [],
   "source": [
    "import time\n",
    "import itertools\n",
    "\n",
    "import numpy as np\n",
    "import pandas as pd\n",
    "\n",
    "from santa.metrics import PerplexityCalculator\n",
    "from santa.utils import save_text"
   ]
  },
  {
   "cell_type": "code",
   "execution_count": 3,
   "id": "68350ad8-dbd7-408b-80c2-28fa2ec2c141",
   "metadata": {},
   "outputs": [
    {
     "name": "stderr",
     "output_type": "stream",
     "text": [
      "Loading checkpoint shards: 100% 8/8 [00:09<00:00,  1.15s/it]\n"
     ]
    }
   ],
   "source": [
    "scorer = PerplexityCalculator(\"google/gemma-2-9b\")"
   ]
  },
  {
   "cell_type": "code",
   "execution_count": 5,
   "id": "2664af14-27f4-4fbe-96cc-1fac96428241",
   "metadata": {},
   "outputs": [
    {
     "data": {
      "text/html": [
       "<div>\n",
       "<style scoped>\n",
       "    .dataframe tbody tr th:only-of-type {\n",
       "        vertical-align: middle;\n",
       "    }\n",
       "\n",
       "    .dataframe tbody tr th {\n",
       "        vertical-align: top;\n",
       "    }\n",
       "\n",
       "    .dataframe thead th {\n",
       "        text-align: right;\n",
       "    }\n",
       "</style>\n",
       "<table border=\"1\" class=\"dataframe\">\n",
       "  <thead>\n",
       "    <tr style=\"text-align: right;\">\n",
       "      <th></th>\n",
       "      <th>id</th>\n",
       "      <th>text</th>\n",
       "    </tr>\n",
       "  </thead>\n",
       "  <tbody>\n",
       "    <tr>\n",
       "      <th>0</th>\n",
       "      <td>0</td>\n",
       "      <td>advent chimney elf family fireplace gingerbrea...</td>\n",
       "    </tr>\n",
       "    <tr>\n",
       "      <th>1</th>\n",
       "      <td>1</td>\n",
       "      <td>advent chimney elf family fireplace gingerbrea...</td>\n",
       "    </tr>\n",
       "    <tr>\n",
       "      <th>2</th>\n",
       "      <td>2</td>\n",
       "      <td>yuletide decorations gifts cheer holiday carol...</td>\n",
       "    </tr>\n",
       "    <tr>\n",
       "      <th>3</th>\n",
       "      <td>3</td>\n",
       "      <td>yuletide decorations gifts cheer holiday carol...</td>\n",
       "    </tr>\n",
       "    <tr>\n",
       "      <th>4</th>\n",
       "      <td>4</td>\n",
       "      <td>hohoho candle poinsettia snowglobe peppermint ...</td>\n",
       "    </tr>\n",
       "    <tr>\n",
       "      <th>5</th>\n",
       "      <td>5</td>\n",
       "      <td>advent chimney elf family fireplace gingerbrea...</td>\n",
       "    </tr>\n",
       "  </tbody>\n",
       "</table>\n",
       "</div>"
      ],
      "text/plain": [
       "   id                                               text\n",
       "0   0  advent chimney elf family fireplace gingerbrea...\n",
       "1   1  advent chimney elf family fireplace gingerbrea...\n",
       "2   2  yuletide decorations gifts cheer holiday carol...\n",
       "3   3  yuletide decorations gifts cheer holiday carol...\n",
       "4   4  hohoho candle poinsettia snowglobe peppermint ...\n",
       "5   5  advent chimney elf family fireplace gingerbrea..."
      ]
     },
     "execution_count": 5,
     "metadata": {},
     "output_type": "execute_result"
    }
   ],
   "source": [
    "df = pd.read_csv(\"./data/sample_submission.csv\")\n",
    "df"
   ]
  },
  {
   "cell_type": "code",
   "execution_count": 111,
   "id": "c0541683-a1f6-4317-9b2b-2a30aeb7bb3e",
   "metadata": {},
   "outputs": [],
   "source": [
    "target_id = 4\n",
    "if target_id == 0:\n",
    "    text = \"reindeer mistletoe elf gingerbread family advent scrooge chimney fireplace ornament\"\n",
    "elif target_id == 1:\n",
    "    text = \"reindeer sleep walk the night and drive mistletoe scrooge laugh elf jump gingerbread bake ornament give family advent chimney fireplace\"\n",
    "elif target_id == 2:\n",
    "    text = \"sleigh yuletide beard carol cheer chimney decorations gifts grinch holiday holly jingle magi naughty nice nutcracker ornament polar workshop stocking\"\n",
    "elif target_id == 3:\n",
    "    text = \"sleigh of the magi yuletide cheer is unwrap gifts relax and eat cheer decorations carol sing chimney visit workshop grinch holiday holly jingle naughty nice nutcracker polar beard ornament stocking\"\n",
    "elif target_id == 4:\n",
    "    text = \"of and to in the as you that it we with from have not night season eggnog milk chocolate candy peppermint cookie fruitcake toy doll game puzzle greeting card wrapping paper bow wreath poinsettia star angel snowglobe candle fireplace wish dream believe wonder hope joy peace merry hohoho kaggle workshop\"\n",
    "elif target_id == 5:\n",
    "    text = \"from the the the of of and and not and to in is you that it with as advent card angel bake beard believe bow candy carol candle cheer cheer chocolate chimney chimney cookie decorations doll dream drive eat eggnog elf family fireplace fireplace fruitcake game gifts give gingerbread greeting grinch have holiday holly hohoho hope jingle jump joy kaggle laugh magi merry milk mistletoe naughty nice night night nutcracker ornament ornament paper peace peppermint polar poinsettia puzzle reindeer relax scrooge season sing sleigh sleep snowglobe star stocking toy unwrap visit walk we wish wonder workshop workshop wrapping wreath yuletide\""
   ]
  },
  {
   "cell_type": "code",
   "execution_count": 112,
   "id": "6c5d508b-951e-44ed-9e0d-a4c20684efde",
   "metadata": {},
   "outputs": [],
   "source": [
    "# text = df.loc[0, \"text\"]\n",
    "# text"
   ]
  },
  {
   "cell_type": "code",
   "execution_count": 113,
   "id": "6818a0c2-edfb-49b0-9e9f-c1a0320dcb19",
   "metadata": {},
   "outputs": [
    {
     "data": {
      "text/plain": [
       "67.47986016863359"
      ]
     },
     "execution_count": 113,
     "metadata": {},
     "output_type": "execute_result"
    }
   ],
   "source": [
    "scorer.get_perplexity(text)"
   ]
  },
  {
   "cell_type": "code",
   "execution_count": 114,
   "id": "0d772377-fd47-453f-b986-12418c760974",
   "metadata": {},
   "outputs": [
    {
     "data": {
      "text/plain": [
       "'of and to in the as you that it we with from have not night season eggnog milk chocolate candy peppermint cookie fruitcake toy doll game puzzle greeting card wrapping paper bow wreath poinsettia star angel snowglobe candle fireplace wish dream believe wonder hope joy peace merry hohoho kaggle workshop'"
      ]
     },
     "execution_count": 114,
     "metadata": {},
     "output_type": "execute_result"
    }
   ],
   "source": [
    "def text2text(text, sub_texts, sep=\"-\"):\n",
    "    for st in sub_texts:\n",
    "        text = text.replace(st, sep.join(st.split()))\n",
    "    return text\n",
    "\n",
    "\n",
    "def tokens2text(tokens, sep=\"-\"):\n",
    "    return \" \".join(tokens).replace(sep, \" \")\n",
    "\n",
    "\n",
    "text2text(text, [\"advent chimney elf\"])"
   ]
  },
  {
   "cell_type": "code",
   "execution_count": 120,
   "id": "7164be31-e439-496d-99c0-5829e5835e4c",
   "metadata": {},
   "outputs": [
    {
     "data": {
      "text/plain": [
       "(['of-and-to-in-the-as-you-that-it-we-with-from-have-not-night-season-eggnog-milk-chocolate-candy-peppermint-cookie-fruitcake-toy-doll-game-puzzle-greeting-card-wrapping-paper-bow-wreath-poinsettia-star-angel-snowglobe-candle-fireplace',\n",
       "  'wish',\n",
       "  'dream',\n",
       "  'believe',\n",
       "  'wonder',\n",
       "  'hope',\n",
       "  'joy',\n",
       "  'peace',\n",
       "  'merry',\n",
       "  'hohoho-kaggle-workshop'],\n",
       " array([0, 9]))"
      ]
     },
     "execution_count": 120,
     "metadata": {},
     "output_type": "execute_result"
    }
   ],
   "source": [
    "def generate_candidate(text, min_size=2, max_size=10, sep=\"-\"):\n",
    "    tokens = text.split()\n",
    "    n = len(tokens)\n",
    "    if np.random.rand() < 1.0:\n",
    "        i = np.random.randint(0, n-min_size)\n",
    "        j = min(n, i + np.random.randint(min_size, max_size))\n",
    "        s = [] if i == 0 else [sep.join(tokens[:i])]\n",
    "        m = tokens[i:j]\n",
    "        e = [] if j == n else [sep.join(tokens[j:])]\n",
    "        tokens = s + m + e\n",
    "    else:\n",
    "        pass\n",
    "    fix_ids = np.array([i for i, t in enumerate(tokens) if sep in t])\n",
    "    return tokens, fix_ids\n",
    "\n",
    "\n",
    "generate_candidate(text)"
   ]
  },
  {
   "cell_type": "code",
   "execution_count": 121,
   "id": "5af7ee98-5dd8-4ece-866d-13ab1b03520d",
   "metadata": {},
   "outputs": [],
   "source": [
    "def beam_search(init_tokens, fix_ids, scorer, k=30, n_iters=100, precomputed={}, verbose=True):\n",
    "    n = len(init_tokens)\n",
    "    candidates = [init_tokens]\n",
    "    best_score = np.inf\n",
    "    best_text = None\n",
    "    top_solutions = {}\n",
    "    for iterations in range(n_iters):\n",
    "        start = time.time()\n",
    "        solutions = {}\n",
    "        for candidate in candidates:\n",
    "            for i in range(n):\n",
    "                if i in fix_ids:\n",
    "                    continue\n",
    "                for j in range(i+1, n):\n",
    "                    if j in fix_ids:\n",
    "                        continue\n",
    "                    s = list(candidate).copy()\n",
    "                    s[i], s[j] = s[j], s[i]\n",
    "                    s = tuple(s)\n",
    "                    if s in precomputed:\n",
    "                        continue\n",
    "                    text = tokens2text(s)\n",
    "                    score = scorer.get_perplexity(text)\n",
    "                    precomputed[s] = score\n",
    "                    solutions[s] = score\n",
    "                    if score < best_score:\n",
    "                        best_score = score\n",
    "                        best_text = text\n",
    "                        break\n",
    "        solutions = sorted(solutions.items(), key=lambda x: x[1])[:k]\n",
    "        top_solutions.update(solutions)\n",
    "        if len(solutions) == 0:\n",
    "            break\n",
    "        candidates, scores = map(list, zip(*solutions))\n",
    "        if scores[0] < best_score:\n",
    "            best_score = scores[0]\n",
    "            best_text = tokens2text(candidates[0])\n",
    "        if verbose:\n",
    "            print(f\"[{iterations} iterations] best: {best_score:.3f}, current: {scores[0]:.3f}, top10 mean: {np.mean(scores[:10]):.3f}, elapsed time: {time.time()-start:.1f}[s]\")\n",
    "            print(tokens2text(candidates[0]))\n",
    "    if best_text is None:\n",
    "        best_text = tokens2text(init_tokens)\n",
    "    return best_score, best_text, top_solutions, precomputed"
   ]
  },
  {
   "cell_type": "code",
   "execution_count": null,
   "id": "d420fb6a-4240-4394-9b4b-324aeb4b2fd9",
   "metadata": {},
   "outputs": [],
   "source": [
    "best_text = text\n",
    "for i in range(1000):\n",
    "    init_tokens, fix_ids = generate_candidate(best_text, min_size=8, max_size=15)\n",
    "    best_score, best_text, top_solutions, precomputed = beam_search(init_tokens, fix_ids, scorer, k=15, n_iters=15, verbose=False)\n",
    "    print(f\"[{i:>03}] {best_score:.3f}\\n{best_text}\")"
   ]
  },
  {
   "cell_type": "code",
   "execution_count": 54,
   "id": "1dec5612-56c9-4a5f-80d0-632a7fb91b97",
   "metadata": {},
   "outputs": [
    {
     "data": {
      "text/plain": [
       "197.63808635335195"
      ]
     },
     "execution_count": 54,
     "metadata": {},
     "output_type": "execute_result"
    }
   ],
   "source": [
    "scorer.get_perplexity(best_text)"
   ]
  },
  {
   "cell_type": "code",
   "execution_count": 55,
   "id": "ce07e043-072e-433b-bdfd-8d0073c54e26",
   "metadata": {},
   "outputs": [
    {
     "data": {
      "text/plain": [
       "197.63808635335195"
      ]
     },
     "execution_count": 55,
     "metadata": {},
     "output_type": "execute_result"
    }
   ],
   "source": [
    "best_score"
   ]
  },
  {
   "cell_type": "code",
   "execution_count": 56,
   "id": "c75e4aa3-0bf8-4de6-b8d0-d866c4a7d49d",
   "metadata": {},
   "outputs": [
    {
     "data": {
      "text/plain": [
       "'sleigh of the magi yuletide cheer is unwrap gifts relax and eat cheer decorations carol sing chimney visit workshop grinch holiday holly jingle naughty nice nutcracker polar beard ornament stocking'"
      ]
     },
     "execution_count": 56,
     "metadata": {},
     "output_type": "execute_result"
    }
   ],
   "source": [
    "best_text"
   ]
  },
  {
   "cell_type": "code",
   "execution_count": 57,
   "id": "b8373fce-95f8-44de-ba6d-5dfaf6ff1fbd",
   "metadata": {},
   "outputs": [],
   "source": [
    "tmp = sorted(top_solutions.items(), key=lambda x: x[1])\n",
    "candidates, scores = map(list, zip(*tmp))\n",
    "candidates = [tokens2text(candidate) for candidate in candidates]"
   ]
  },
  {
   "cell_type": "code",
   "execution_count": 58,
   "id": "7bb84394-3d18-4719-bdae-fde5e31b8661",
   "metadata": {},
   "outputs": [
    {
     "data": {
      "text/plain": [
       "'sleigh of the magi yuletide cheer is unwrap gifts relax and eat cheer decorations carol sing chimney visit workshop grinch holiday holly jingle naughty nice nutcracker polar beard ornament stocking'"
      ]
     },
     "execution_count": 58,
     "metadata": {},
     "output_type": "execute_result"
    }
   ],
   "source": [
    "candidates[0]"
   ]
  },
  {
   "cell_type": "code",
   "execution_count": 59,
   "id": "c8b28b63-96ec-4d03-8cdc-c581a581bbc3",
   "metadata": {},
   "outputs": [
    {
     "data": {
      "text/plain": [
       "'sleigh of the magi yuletide cheer is unwrap gifts and eat cheer decorations sing carol relax chimney visit workshop grinch holiday holly jingle naughty nice nutcracker polar beard ornament stocking'"
      ]
     },
     "execution_count": 59,
     "metadata": {},
     "output_type": "execute_result"
    }
   ],
   "source": [
    "candidates[1]"
   ]
  },
  {
   "cell_type": "code",
   "execution_count": 60,
   "id": "e0a12739-5f6f-42bf-9454-f1da4a902d41",
   "metadata": {},
   "outputs": [
    {
     "data": {
      "text/plain": [
       "[<matplotlib.lines.Line2D at 0x7ac03f5e4ac0>]"
      ]
     },
     "execution_count": 60,
     "metadata": {},
     "output_type": "execute_result"
    },
    {
     "data": {
      "image/png": "[encoded data removed]",
      "text/plain": [
       "<Figure size 640x480 with 1 Axes>"
      ]
     },
     "metadata": {},
     "output_type": "display_data"
    }
   ],
   "source": [
    "import matplotlib.pyplot as plt\n",
    "\n",
    "plt.plot(np.arange(len(scores)), scores)"
   ]
  },
  {
   "cell_type": "code",
   "execution_count": 61,
   "id": "c9c1c110-28e9-45bd-9e63-220cfe2963c4",
   "metadata": {},
   "outputs": [],
   "source": [
    "import math\n",
    "from pathlib import Path\n",
    "\n",
    "output_dir = \"./output\"\n",
    "output_dir = Path(output_dir, f\"id{target_id}\")\n",
    "output_dir.mkdir(parents=True, exist_ok=True)\n",
    "for no, (text, score) in enumerate(zip(candidates, scores)):\n",
    "    f, i = math.modf(score)\n",
    "    i = int(i)\n",
    "    f = int(f * 100000)\n",
    "    with open(Path(output_dir, f\"id{target_id}_{no:0>4}_{i:0>4}.{f}.txt\"), \"w\") as f:\n",
    "        f.write(text)"
   ]
  },
  {
   "cell_type": "code",
   "execution_count": 62,
   "id": "808e4c55-098f-46a5-b6b3-36013bf56b7d",
   "metadata": {},
   "outputs": [
    {
     "name": "stdout",
     "output_type": "stream",
     "text": [
      "sleigh of the magi yuletide cheer is unwrap gifts relax and eat cheer decorations carol sing chimney visit workshop grinch holiday holly jingle naughty nice nutcracker polar beard ornament stocking\n"
     ]
    }
   ],
   "source": [
    "output_dir = \"./output\"\n",
    "save_text(best_text, best_score, target_id, output_dir=output_dir)"
   ]
  },
  {
   "cell_type": "code",
   "execution_count": null,
   "id": "ddbfd911-e841-419b-be5c-491adcafebf2",
   "metadata": {},
   "outputs": [],
   "source": []
  },
  {
   "cell_type": "code",
   "execution_count": null,
   "id": "8e68b979-2176-4df5-9d81-7f5843a1e507",
   "metadata": {},
   "outputs": [],
   "source": []
  }
 ],
 "metadata": {
  "kernelspec": {
   "display_name": "Python 3 (ipykernel)",
   "language": "python",
   "name": "python3"
  },
  "language_info": {
   "codemirror_mode": {
    "name": "ipython",
    "version": 3
   },
   "file_extension": ".py",
   "mimetype": "text/x-python",
   "name": "python",
   "nbconvert_exporter": "python",
   "pygments_lexer": "ipython3",
   "version": "3.10.14"
  }
 },
 "nbformat": 4,
 "nbformat_minor": 5
}
