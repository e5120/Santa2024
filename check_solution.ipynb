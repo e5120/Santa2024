{
 "cells": [
  {
   "cell_type": "code",
   "execution_count": 1,
   "id": "e363f247-2ea7-4a23-871c-c63561c541b0",
   "metadata": {},
   "outputs": [],
   "source": [
    "import pickle"
   ]
  },
  {
   "cell_type": "code",
   "execution_count": 26,
   "id": "1664048f-f94d-401d-85fa-f884e908dbb0",
   "metadata": {},
   "outputs": [
    {
     "data": {
      "text/plain": [
       "6836241"
      ]
     },
     "execution_count": 26,
     "metadata": {},
     "output_type": "execute_result"
    }
   ],
   "source": [
    "with open(\"./logs/id4_logs_0.pkl\", \"rb\") as f:\n",
    "    log = pickle.load(f)\n",
    "len(log)"
   ]
  },
  {
   "cell_type": "code",
   "execution_count": 30,
   "id": "4345698b-7a45-4d08-beed-edea69444c71",
   "metadata": {},
   "outputs": [
    {
     "data": {
      "text/plain": [
       "16"
      ]
     },
     "execution_count": 30,
     "metadata": {},
     "output_type": "execute_result"
    }
   ],
   "source": [
    "nn_list = []\n",
    "score_list = []\n",
    "for k, v in log.items():\n",
    "    if 70.0 < v < 71.0:\n",
    "        nn_list.append(k)\n",
    "        score_list.append(v)\n",
    "len(nn_list)"
   ]
  },
  {
   "cell_type": "code",
   "execution_count": 31,
   "id": "2d68ca91-0f74-45a9-a07b-130e2411d807",
   "metadata": {},
   "outputs": [
    {
     "data": {
      "text/plain": [
       "['from and of to the as in that it we with not you have milk chocolate candy fruitcake eggnog peppermint season greeting card wrapping paper bow toy doll game puzzle cookie snowglobe fireplace candle wreath poinsettia angel star night wish dream believe wonder hope joy peace merry hohoho kaggle workshop',\n",
       " 'from and of to the as in that it we with not you have milk chocolate candy fruitcake eggnog peppermint season greeting card wrapping paper bow toy doll game puzzle cookie snowglobe fireplace candle wreath poinsettia angel star night wish dream wonder believe hope joy peace merry hohoho kaggle workshop',\n",
       " 'from and of to the as in that it we with not you have milk chocolate candy fruitcake eggnog peppermint season greeting card wrapping paper bow toy doll game puzzle cookie snowglobe candle fireplace wreath poinsettia angel star night wish dream believe wonder hope joy peace merry hohoho kaggle workshop',\n",
       " 'from and of to the as in that it we with not you have milk chocolate candy fruitcake eggnog peppermint season greeting card wrapping paper bow toy doll game puzzle cookie snowglobe fireplace candle wreath poinsettia angel star night wish wonder dream believe hope joy peace merry hohoho kaggle workshop',\n",
       " 'from and of to the as in that it we with not you have milk chocolate candy fruitcake eggnog peppermint season greeting card wrapping paper bow toy doll game puzzle cookie snowglobe candle fireplace wreath poinsettia angel star night wish dream wonder believe hope joy peace merry hohoho kaggle workshop',\n",
       " 'from and of to the as in that it we with not you have milk chocolate candy fruitcake eggnog peppermint season greeting card wrapping paper bow toy doll game puzzle cookie snowglobe candle fireplace wreath poinsettia angel star night wish wonder dream believe hope joy peace merry hohoho kaggle workshop',\n",
       " 'from and of to the as in that it we with not you have milk chocolate candy fruitcake eggnog peppermint season greeting card wrapping paper bow toy doll game night puzzle cookie snowglobe fireplace candle wreath poinsettia angel star wish dream wonder believe hope joy peace merry hohoho kaggle workshop',\n",
       " 'from and of to the as in that it we with not you have milk chocolate candy fruitcake eggnog peppermint season greeting card wrapping paper bow toy doll game night puzzle cookie snowglobe fireplace candle wreath poinsettia angel star wish dream hope believe wonder joy peace merry hohoho kaggle workshop',\n",
       " 'from and of to the as in that it we with not you have milk chocolate candy fruitcake eggnog peppermint season greeting card wrapping paper bow toy doll game night puzzle cookie snowglobe candle fireplace wreath poinsettia angel star wish dream wonder believe hope joy peace merry hohoho kaggle workshop',\n",
       " 'from and of to the as in that it we with not you have milk chocolate candy fruitcake eggnog peppermint season greeting card wrapping paper bow toy doll game night puzzle cookie snowglobe fireplace candle wreath poinsettia angel star wish dream believe wonder hope joy peace merry hohoho kaggle workshop',\n",
       " 'from and of to the as in that it we with not you have milk chocolate candy fruitcake eggnog peppermint season greeting card wrapping paper bow toy doll game night puzzle cookie snowglobe fireplace candle wreath poinsettia angel star wish dream believe hope wonder joy peace merry hohoho kaggle workshop',\n",
       " 'from and of to the as in that it we with not you have milk chocolate candy fruitcake eggnog peppermint season greeting card wrapping paper bow toy doll game night puzzle cookie snowglobe candle fireplace wreath poinsettia angel star wish dream believe wonder hope joy peace merry hohoho kaggle workshop',\n",
       " 'from and of to the as in that it we with not you have milk chocolate candy fruitcake eggnog peppermint season greeting card wrapping paper bow toy doll game night puzzle cookie snowglobe fireplace candle wreath poinsettia angel star wish dream believe hope joy peace wonder merry hohoho kaggle workshop',\n",
       " 'from and of to the as in that it we with not you have milk chocolate candy fruitcake eggnog peppermint season greeting card wrapping paper bow toy doll game night puzzle cookie snowglobe fireplace candle wreath poinsettia angel star wish dream believe hope peace joy wonder merry hohoho kaggle workshop',\n",
       " 'from and of to the as in that it we with not you have milk chocolate candy fruitcake eggnog peppermint season greeting card wrapping paper bow toy doll game puzzle cookie snowglobe candle fireplace wreath poinsettia angel star wish dream night wonder believe hope joy peace merry hohoho kaggle workshop',\n",
       " 'from and of to the as in that it we with not you have milk chocolate candy fruitcake eggnog peppermint season greeting card wrapping paper bow toy doll game puzzle cookie snowglobe fireplace candle wreath poinsettia angel star wish dream night wonder believe hope joy peace merry hohoho kaggle workshop']"
      ]
     },
     "execution_count": 31,
     "metadata": {},
     "output_type": "execute_result"
    }
   ],
   "source": [
    "nn_list"
   ]
  },
  {
   "cell_type": "code",
   "execution_count": 32,
   "id": "f7993c49-dcf1-4f04-9c8b-c61cae5240e2",
   "metadata": {},
   "outputs": [
    {
     "data": {
      "text/plain": [
       "[70.49493390821888,\n",
       " 70.49382463501603,\n",
       " 70.55452415843054,\n",
       " 70.90886453370204,\n",
       " 70.55920069302297,\n",
       " 70.99686405704409,\n",
       " 70.22214273312257,\n",
       " 70.89534103086251,\n",
       " 70.72965120012694,\n",
       " 70.22261151806508,\n",
       " 70.88465928723693,\n",
       " 70.6886516322782,\n",
       " 70.8142541589198,\n",
       " 70.66559982031214,\n",
       " 70.31096634308297,\n",
       " 70.17738818827225]"
      ]
     },
     "execution_count": 32,
     "metadata": {},
     "output_type": "execute_result"
    }
   ],
   "source": [
    "score_list"
   ]
  },
  {
   "cell_type": "code",
   "execution_count": null,
   "id": "9fdb4adc-6c64-4470-a2ce-8013d70b7388",
   "metadata": {},
   "outputs": [],
   "source": []
  }
 ],
 "metadata": {
  "kernelspec": {
   "display_name": "Python 3 (ipykernel)",
   "language": "python",
   "name": "python3"
  },
  "language_info": {
   "codemirror_mode": {
    "name": "ipython",
    "version": 3
   },
   "file_extension": ".py",
   "mimetype": "text/x-python",
   "name": "python",
   "nbconvert_exporter": "python",
   "pygments_lexer": "ipython3",
   "version": "3.10.14"
  }
 },
 "nbformat": 4,
 "nbformat_minor": 5
}
