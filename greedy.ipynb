{
 "cells": [
  {
   "cell_type": "code",
   "execution_count": 1,
   "id": "e655c674-e17c-4bec-a7e1-722fa040b26f",
   "metadata": {},
   "outputs": [],
   "source": [
    "# !pip install accelerate --upgrade\n",
    "# !pip install -U bitsandbytes"
   ]
  },
  {
   "cell_type": "code",
   "execution_count": 24,
   "id": "aa842484-dc1f-483c-93b3-68f8fed59089",
   "metadata": {},
   "outputs": [],
   "source": [
    "import os\n",
    "os.environ[\"CUDA_VISIBLE_DEVICES\"] = \"0\"\n",
    "import itertools\n",
    "\n",
    "import numpy as np\n",
    "import pandas as pd\n",
    "\n",
    "from santa.metrics import PerplexityCalculator"
   ]
  },
  {
   "cell_type": "code",
   "execution_count": 6,
   "id": "a6c4c7fe-ae83-4b5f-a495-0f48caf12b3f",
   "metadata": {},
   "outputs": [
    {
     "data": {
      "text/html": [
       "<div>\n",
       "<style scoped>\n",
       "    .dataframe tbody tr th:only-of-type {\n",
       "        vertical-align: middle;\n",
       "    }\n",
       "\n",
       "    .dataframe tbody tr th {\n",
       "        vertical-align: top;\n",
       "    }\n",
       "\n",
       "    .dataframe thead th {\n",
       "        text-align: right;\n",
       "    }\n",
       "</style>\n",
       "<table border=\"1\" class=\"dataframe\">\n",
       "  <thead>\n",
       "    <tr style=\"text-align: right;\">\n",
       "      <th></th>\n",
       "      <th>id</th>\n",
       "      <th>text</th>\n",
       "    </tr>\n",
       "  </thead>\n",
       "  <tbody>\n",
       "    <tr>\n",
       "      <th>0</th>\n",
       "      <td>0</td>\n",
       "      <td>advent chimney elf family fireplace gingerbrea...</td>\n",
       "    </tr>\n",
       "    <tr>\n",
       "      <th>1</th>\n",
       "      <td>1</td>\n",
       "      <td>advent chimney elf family fireplace gingerbrea...</td>\n",
       "    </tr>\n",
       "    <tr>\n",
       "      <th>2</th>\n",
       "      <td>2</td>\n",
       "      <td>yuletide decorations gifts cheer holiday carol...</td>\n",
       "    </tr>\n",
       "    <tr>\n",
       "      <th>3</th>\n",
       "      <td>3</td>\n",
       "      <td>yuletide decorations gifts cheer holiday carol...</td>\n",
       "    </tr>\n",
       "    <tr>\n",
       "      <th>4</th>\n",
       "      <td>4</td>\n",
       "      <td>hohoho candle poinsettia snowglobe peppermint ...</td>\n",
       "    </tr>\n",
       "    <tr>\n",
       "      <th>5</th>\n",
       "      <td>5</td>\n",
       "      <td>advent chimney elf family fireplace gingerbrea...</td>\n",
       "    </tr>\n",
       "  </tbody>\n",
       "</table>\n",
       "</div>"
      ],
      "text/plain": [
       "   id                                               text\n",
       "0   0  advent chimney elf family fireplace gingerbrea...\n",
       "1   1  advent chimney elf family fireplace gingerbrea...\n",
       "2   2  yuletide decorations gifts cheer holiday carol...\n",
       "3   3  yuletide decorations gifts cheer holiday carol...\n",
       "4   4  hohoho candle poinsettia snowglobe peppermint ...\n",
       "5   5  advent chimney elf family fireplace gingerbrea..."
      ]
     },
     "execution_count": 6,
     "metadata": {},
     "output_type": "execute_result"
    }
   ],
   "source": [
    "df = pd.read_csv(\"./data/sample_submission.csv\")\n",
    "sub_df = df.copy()\n",
    "df"
   ]
  },
  {
   "cell_type": "code",
   "execution_count": 7,
   "id": "38b39bfd-39b9-48b0-9e9b-6756e184406f",
   "metadata": {},
   "outputs": [
    {
     "data": {
      "text/plain": [
       "0     10\n",
       "1     20\n",
       "2     20\n",
       "3     30\n",
       "4     50\n",
       "5    100\n",
       "Name: text, dtype: int64"
      ]
     },
     "execution_count": 7,
     "metadata": {},
     "output_type": "execute_result"
    }
   ],
   "source": [
    "df[\"text\"].map(lambda x: len(x.split(\" \")))"
   ]
  },
  {
   "cell_type": "code",
   "execution_count": 10,
   "id": "5313a302-e084-48d6-896e-7b0e3ffc282d",
   "metadata": {},
   "outputs": [],
   "source": [
    "model_path   = \"google/gemma-2-9b\"\n",
    "max_length   = None\n",
    "load_in_8bit = False\n",
    "device_map   = \"auto\""
   ]
  },
  {
   "cell_type": "code",
   "execution_count": 12,
   "id": "b0d53536-7062-48f9-b7ff-031e4579ce66",
   "metadata": {},
   "outputs": [
    {
     "name": "stderr",
     "output_type": "stream",
     "text": [
      "Loading checkpoint shards: 100% 8/8 [00:09<00:00,  1.13s/it]\n"
     ]
    }
   ],
   "source": [
    "scorer = PerplexityCalculator(\n",
    "    model_path,\n",
    "    load_in_8bit=load_in_8bit,\n",
    "    device_map=device_map,\n",
    ")"
   ]
  },
  {
   "cell_type": "code",
   "execution_count": 15,
   "id": "28cb6df9-08be-4b0a-ae8d-4b6277118bde",
   "metadata": {},
   "outputs": [
    {
     "name": "stderr",
     "output_type": "stream",
     "text": [
      "Starting from v4.46, the `logits` model output will have the same type as the model (except at train time, where it will always be FP32)\n"
     ]
    },
    {
     "name": "stdout",
     "output_type": "stream",
     "text": [
      "3884.785154167184\n",
      "6055.995975407292\n",
      "1118.666570066371\n",
      "1287.5159346005714\n",
      "353.15434961550477\n",
      "355.0732086869962\n"
     ]
    }
   ],
   "source": [
    "for i in range(len(df)):\n",
    "    ret = scorer.get_perplexity(sub_df.loc[i, \"text\"])\n",
    "    print(ret)"
   ]
  },
  {
   "cell_type": "code",
   "execution_count": 22,
   "id": "f437de88-d7c1-4b32-b417-07b474d4aa37",
   "metadata": {},
   "outputs": [],
   "source": [
    "def greedy_pair_merge(text, batch_size=8):\n",
    "    tokens = text.split(\" \")\n",
    "    while len(tokens) > 1:\n",
    "        print(f\"# of tokens: {len(tokens)}\")\n",
    "        combs = list(itertools.permutations(tokens, 2))\n",
    "        print(f\"# of combinations: {len(combs)}\")\n",
    "        subs = pd.DataFrame({\n",
    "            \"id\": np.arange(len(combs)),\n",
    "            \"text\": list(map(lambda x: \" \".join(x), combs)),\n",
    "        })\n",
    "        ret = scorer.get_perplexity(subs[\"text\"].tolist(), batch_size=batch_size)\n",
    "        best_comb = combs[np.argmin(ret)]\n",
    "        print(f\"best combination: {best_comb}\")\n",
    "        print(f\"best ppl: {np.min(ret)}\")\n",
    "        for token in best_comb:\n",
    "            if token in tokens:\n",
    "                tokens.remove(token)\n",
    "        tokens += [\" \".join(best_comb)]\n",
    "    return tokens[0]"
   ]
  },
  {
   "cell_type": "code",
   "execution_count": 26,
   "id": "78c7f864-058d-4666-9755-489f0165bd85",
   "metadata": {},
   "outputs": [
    {
     "name": "stdout",
     "output_type": "stream",
     "text": [
      "# of tokens: 10\n",
      "# of combinations: 90\n",
      "best combination: ('scrooge', 'mistletoe')\n",
      "best ppl: 3936.1031796399357\n",
      "# of tokens: 9\n",
      "# of combinations: 72\n",
      "best combination: ('reindeer', 'scrooge mistletoe')\n",
      "best ppl: 2445.89051545161\n",
      "# of tokens: 8\n",
      "# of combinations: 56\n",
      "best combination: ('reindeer scrooge mistletoe', 'elf')\n",
      "best ppl: 1518.2556904645223\n",
      "# of tokens: 7\n",
      "# of combinations: 42\n",
      "best combination: ('reindeer scrooge mistletoe elf', 'gingerbread')\n",
      "best ppl: 1200.0350101038055\n",
      "# of tokens: 6\n",
      "# of combinations: 30\n",
      "best combination: ('reindeer scrooge mistletoe elf gingerbread', 'ornament')\n",
      "best ppl: 892.2977498548082\n",
      "# of tokens: 5\n",
      "# of combinations: 20\n",
      "best combination: ('reindeer scrooge mistletoe elf gingerbread ornament', 'advent')\n",
      "best ppl: 879.2945765201335\n",
      "# of tokens: 4\n",
      "# of combinations: 12\n",
      "best combination: ('reindeer scrooge mistletoe elf gingerbread ornament advent', 'family')\n",
      "best ppl: 877.4613003242043\n",
      "# of tokens: 3\n",
      "# of combinations: 6\n",
      "best combination: ('reindeer scrooge mistletoe elf gingerbread ornament advent family', 'fireplace')\n",
      "best ppl: 807.0996260761309\n",
      "# of tokens: 2\n",
      "# of combinations: 2\n",
      "best combination: ('reindeer scrooge mistletoe elf gingerbread ornament advent family fireplace', 'chimney')\n",
      "best ppl: 707.6217330736807\n"
     ]
    }
   ],
   "source": [
    "target_id = 0\n",
    "text = df.loc[target_id, \"text\"]\n",
    "best_text = greedy_pair_merge(text)"
   ]
  },
  {
   "cell_type": "code",
   "execution_count": 27,
   "id": "b26c6d3f-8e28-4dd0-9df3-d1c7f2bd8b88",
   "metadata": {},
   "outputs": [
    {
     "data": {
      "text/plain": [
       "'reindeer scrooge mistletoe elf gingerbread ornament advent family fireplace chimney'"
      ]
     },
     "execution_count": 27,
     "metadata": {},
     "output_type": "execute_result"
    }
   ],
   "source": [
    "best_text"
   ]
  },
  {
   "cell_type": "code",
   "execution_count": null,
   "id": "f7a53cb7-6f57-4eb5-b06c-48a74fe0af05",
   "metadata": {},
   "outputs": [],
   "source": []
  }
 ],
 "metadata": {
  "kernelspec": {
   "display_name": "Python 3 (ipykernel)",
   "language": "python",
   "name": "python3"
  },
  "language_info": {
   "codemirror_mode": {
    "name": "ipython",
    "version": 3
   },
   "file_extension": ".py",
   "mimetype": "text/x-python",
   "name": "python",
   "nbconvert_exporter": "python",
   "pygments_lexer": "ipython3",
   "version": "3.10.14"
  }
 },
 "nbformat": 4,
 "nbformat_minor": 5
}
