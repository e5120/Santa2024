{
 "cells": [
  {
   "cell_type": "code",
   "execution_count": 1,
   "id": "a49f9e60-9f68-4ca5-9d96-c568950d2f3f",
   "metadata": {},
   "outputs": [
    {
     "name": "stderr",
     "output_type": "stream",
     "text": [
      "/opt/mamba/lib/python3.10/site-packages/tqdm/auto.py:21: TqdmWarning: IProgress not found. Please update jupyter and ipywidgets. See https://ipywidgets.readthedocs.io/en/stable/user_install.html\n",
      "  from .autonotebook import tqdm as notebook_tqdm\n"
     ]
    }
   ],
   "source": [
    "import os\n",
    "os.environ[\"CUDA_VISIBLE_DEVICES\"] = \"1\"\n",
    "import sys\n",
    "sys.path.append(\"..\")\n",
    "import itertools\n",
    "import time\n",
    "import math\n",
    "\n",
    "import numpy as np\n",
    "\n",
    "from santa.metrics import PerplexityCalculator\n",
    "from santa.utils import save_text"
   ]
  },
  {
   "cell_type": "code",
   "execution_count": 2,
   "id": "68350ad8-dbd7-408b-80c2-28fa2ec2c141",
   "metadata": {},
   "outputs": [
    {
     "name": "stderr",
     "output_type": "stream",
     "text": [
      "Loading checkpoint shards: 100% 8/8 [00:08<00:00,  1.09s/it]\n"
     ]
    }
   ],
   "source": [
    "scorer = PerplexityCalculator(\"google/gemma-2-9b\")"
   ]
  },
  {
   "cell_type": "code",
   "execution_count": 3,
   "id": "c0541683-a1f6-4317-9b2b-2a30aeb7bb3e",
   "metadata": {},
   "outputs": [],
   "source": [
    "text = \"the of and to in that have not you with we it from as peppermint candy fruitcake cookie chocolate milk eggnog greeting card wrapping paper bow toy doll game puzzle snowglobe candle fireplace wreath poinsettia angel star night wish dream believe wonder hope joy peace season merry hohoho kaggle workshop\"\n",
    "sub_texts = [\n",
    "    \"candle fireplace wreath poinsettia angel star night wish dream\", \"from as peppermint candy fruitcake\", \"merry hohoho kaggle workshop\",\n",
    "    \"the of and to in that\", \"card wrapping paper bow\", \"chocolate milk eggnog\", \"toy doll game puzzle\", \"hope joy peace season\", \n",
    "]\n",
    "fix_ids = [0]"
   ]
  },
  {
   "cell_type": "code",
   "execution_count": 4,
   "id": "6818a0c2-edfb-49b0-9e9f-c1a0320dcb19",
   "metadata": {},
   "outputs": [
    {
     "data": {
      "text/plain": [
       "80.69083499570341"
      ]
     },
     "execution_count": 4,
     "metadata": {},
     "output_type": "execute_result"
    }
   ],
   "source": [
    "scorer.get_perplexity(text)"
   ]
  },
  {
   "cell_type": "code",
   "execution_count": 5,
   "id": "0d772377-fd47-453f-b986-12418c760974",
   "metadata": {},
   "outputs": [
    {
     "data": {
      "text/plain": [
       "('the-of-and-to-in-that have not you with we it from-as-peppermint-candy-fruitcake cookie chocolate-milk-eggnog greeting card-wrapping-paper-bow toy-doll-game-puzzle snowglobe candle-fireplace-wreath-poinsettia-angel-star-night-wish-dream believe wonder hope-joy-peace-season merry-hohoho-kaggle-workshop',\n",
       " 19)"
      ]
     },
     "execution_count": 5,
     "metadata": {},
     "output_type": "execute_result"
    }
   ],
   "source": [
    "for st in sub_texts:\n",
    "    text = text.replace(st, \"-\".join(st.split()))\n",
    "text, len(text.split())"
   ]
  },
  {
   "cell_type": "code",
   "execution_count": 6,
   "id": "7d1c6802-af60-482b-9c1a-a98457e7f345",
   "metadata": {},
   "outputs": [
    {
     "data": {
      "text/plain": [
       "array(['the-of-and-to-in-that'], dtype='<U62')"
      ]
     },
     "execution_count": 6,
     "metadata": {},
     "output_type": "execute_result"
    }
   ],
   "source": [
    "tokens = text.split()\n",
    "np.array(tokens)[fix_ids]"
   ]
  },
  {
   "cell_type": "code",
   "execution_count": 7,
   "id": "091b5b3e-7a4b-423b-a729-956b026c2c32",
   "metadata": {},
   "outputs": [
    {
     "data": {
      "text/plain": [
       "18"
      ]
     },
     "execution_count": 7,
     "metadata": {},
     "output_type": "execute_result"
    }
   ],
   "source": [
    "len(tokens) - len(fix_ids)"
   ]
  },
  {
   "cell_type": "code",
   "execution_count": 8,
   "id": "5af7ee98-5dd8-4ece-866d-13ab1b03520d",
   "metadata": {},
   "outputs": [],
   "source": [
    "def beam_search(init_tokens, fix_ids, scorer, k=30, precomputed={}, n_iters=100):\n",
    "    n = len(init_tokens)\n",
    "    candidates = [init_tokens]\n",
    "    best_score = np.inf\n",
    "    best_text = None\n",
    "    for _ in range(n_iters):\n",
    "        start = time.time()\n",
    "        scores = {}\n",
    "        for candidate in candidates:\n",
    "            for i in range(n):\n",
    "                if i in fix_ids:\n",
    "                    continue\n",
    "                for j in range(i+1, n):\n",
    "                    if j in fix_ids:\n",
    "                        continue\n",
    "                    s = list(candidate).copy()\n",
    "                    s[i], s[j] = s[j], s[i]\n",
    "                    s = tuple(s)\n",
    "                    text = \" \".join(s).replace(\"-\", \" \")\n",
    "                    if text in precomputed:\n",
    "                        score = precomputed[s]\n",
    "                    else:\n",
    "                        score = scorer.get_perplexity(text)\n",
    "                        precomputed[s] = score\n",
    "                    scores[s] = score\n",
    "        scores = sorted(scores.items(), key=lambda x: x[1])[:k]\n",
    "        candidates = [k for k, v in scores]\n",
    "        if scores[0][1] < best_score:\n",
    "            best_score = scores[0][1]\n",
    "            best_text = scores[0][0]\n",
    "        print(f\"best score: {best_score}, top10 mean score: {np.mean([s for _, s in scores[:10]])}\")\n",
    "        print(\" \".join(best_text).replace(\"-\", \" \"))\n",
    "        print(f\"{time.time()-start} [s]\")\n",
    "    return best_score, best_text"
   ]
  },
  {
   "cell_type": "code",
   "execution_count": 9,
   "id": "d420fb6a-4240-4394-9b4b-324aeb4b2fd9",
   "metadata": {},
   "outputs": [
    {
     "name": "stdout",
     "output_type": "stream",
     "text": [
      "best score: 81.00664999449546, top10 mean score: 84.75049767662156\n",
      "the of and to in that have not you with we it from as peppermint candy fruitcake cookie chocolate milk eggnog greeting card wrapping paper bow toy doll game puzzle snowglobe candle fireplace wreath poinsettia angel star night wish dream wonder believe hope joy peace season merry hohoho kaggle workshop\n",
      "11.89622449874878 [s]\n",
      "best score: 80.69083499570341, top10 mean score: 83.719461517798\n",
      "the of and to in that have not you with we it from as peppermint candy fruitcake cookie chocolate milk eggnog greeting card wrapping paper bow toy doll game puzzle snowglobe candle fireplace wreath poinsettia angel star night wish dream believe wonder hope joy peace season merry hohoho kaggle workshop\n",
      "1177.6079578399658 [s]\n",
      "best score: 80.69083499570341, top10 mean score: 83.06876436643032\n",
      "the of and to in that have not you with we it from as peppermint candy fruitcake cookie chocolate milk eggnog greeting card wrapping paper bow toy doll game puzzle snowglobe candle fireplace wreath poinsettia angel star night wish dream believe wonder hope joy peace season merry hohoho kaggle workshop\n",
      "1179.7405850887299 [s]\n",
      "best score: 80.37625124290746, top10 mean score: 81.77455036831147\n",
      "the of and to in that have not you with we it from as peppermint candy fruitcake chocolate milk eggnog cookie snowglobe toy doll game puzzle greeting card wrapping paper bow candle fireplace wreath poinsettia angel star night wish dream believe wonder hope joy peace season merry hohoho kaggle workshop\n",
      "1174.1345281600952 [s]\n",
      "best score: 80.37625124290746, top10 mean score: 81.74134446331918\n",
      "the of and to in that have not you with we it from as peppermint candy fruitcake chocolate milk eggnog cookie snowglobe toy doll game puzzle greeting card wrapping paper bow candle fireplace wreath poinsettia angel star night wish dream believe wonder hope joy peace season merry hohoho kaggle workshop\n",
      "1180.1624772548676 [s]\n",
      "best score: 80.37625124290746, top10 mean score: 81.6452281407231\n",
      "the of and to in that have not you with we it from as peppermint candy fruitcake chocolate milk eggnog cookie snowglobe toy doll game puzzle greeting card wrapping paper bow candle fireplace wreath poinsettia angel star night wish dream believe wonder hope joy peace season merry hohoho kaggle workshop\n",
      "1180.3893637657166 [s]\n",
      "best score: 80.37625124290746, top10 mean score: 81.51703833968185\n",
      "the of and to in that have not you with we it from as peppermint candy fruitcake chocolate milk eggnog cookie snowglobe toy doll game puzzle greeting card wrapping paper bow candle fireplace wreath poinsettia angel star night wish dream believe wonder hope joy peace season merry hohoho kaggle workshop\n",
      "1166.5857417583466 [s]\n",
      "best score: 80.37625124290746, top10 mean score: 81.48545683980265\n",
      "the of and to in that have not you with we it from as peppermint candy fruitcake chocolate milk eggnog cookie snowglobe toy doll game puzzle greeting card wrapping paper bow candle fireplace wreath poinsettia angel star night wish dream believe wonder hope joy peace season merry hohoho kaggle workshop\n",
      "1164.391303062439 [s]\n",
      "best score: 80.37625124290746, top10 mean score: 81.51703833968185\n",
      "the of and to in that have not you with we it from as peppermint candy fruitcake chocolate milk eggnog cookie snowglobe toy doll game puzzle greeting card wrapping paper bow candle fireplace wreath poinsettia angel star night wish dream believe wonder hope joy peace season merry hohoho kaggle workshop\n",
      "1164.5362339019775 [s]\n",
      "best score: 80.37625124290746, top10 mean score: 81.48545683980265\n",
      "the of and to in that have not you with we it from as peppermint candy fruitcake chocolate milk eggnog cookie snowglobe toy doll game puzzle greeting card wrapping paper bow candle fireplace wreath poinsettia angel star night wish dream believe wonder hope joy peace season merry hohoho kaggle workshop\n",
      "1164.4085810184479 [s]\n",
      "best score: 80.37625124290746, top10 mean score: 81.51703833968185\n",
      "the of and to in that have not you with we it from as peppermint candy fruitcake chocolate milk eggnog cookie snowglobe toy doll game puzzle greeting card wrapping paper bow candle fireplace wreath poinsettia angel star night wish dream believe wonder hope joy peace season merry hohoho kaggle workshop\n",
      "1164.4834365844727 [s]\n",
      "best score: 80.37625124290746, top10 mean score: 81.48545683980265\n",
      "the of and to in that have not you with we it from as peppermint candy fruitcake chocolate milk eggnog cookie snowglobe toy doll game puzzle greeting card wrapping paper bow candle fireplace wreath poinsettia angel star night wish dream believe wonder hope joy peace season merry hohoho kaggle workshop\n",
      "1164.9662120342255 [s]\n",
      "best score: 80.37625124290746, top10 mean score: 81.51703833968185\n",
      "the of and to in that have not you with we it from as peppermint candy fruitcake chocolate milk eggnog cookie snowglobe toy doll game puzzle greeting card wrapping paper bow candle fireplace wreath poinsettia angel star night wish dream believe wonder hope joy peace season merry hohoho kaggle workshop\n",
      "1164.185839176178 [s]\n",
      "best score: 80.37625124290746, top10 mean score: 81.48545683980265\n",
      "the of and to in that have not you with we it from as peppermint candy fruitcake chocolate milk eggnog cookie snowglobe toy doll game puzzle greeting card wrapping paper bow candle fireplace wreath poinsettia angel star night wish dream believe wonder hope joy peace season merry hohoho kaggle workshop\n",
      "1164.395874261856 [s]\n",
      "best score: 80.37625124290746, top10 mean score: 81.51703833968185\n",
      "the of and to in that have not you with we it from as peppermint candy fruitcake chocolate milk eggnog cookie snowglobe toy doll game puzzle greeting card wrapping paper bow candle fireplace wreath poinsettia angel star night wish dream believe wonder hope joy peace season merry hohoho kaggle workshop\n",
      "1177.659959077835 [s]\n",
      "best score: 80.37625124290746, top10 mean score: 81.48545683980265\n",
      "the of and to in that have not you with we it from as peppermint candy fruitcake chocolate milk eggnog cookie snowglobe toy doll game puzzle greeting card wrapping paper bow candle fireplace wreath poinsettia angel star night wish dream believe wonder hope joy peace season merry hohoho kaggle workshop\n",
      "1179.453708410263 [s]\n",
      "best score: 80.37625124290746, top10 mean score: 81.51703833968185\n",
      "the of and to in that have not you with we it from as peppermint candy fruitcake chocolate milk eggnog cookie snowglobe toy doll game puzzle greeting card wrapping paper bow candle fireplace wreath poinsettia angel star night wish dream believe wonder hope joy peace season merry hohoho kaggle workshop\n",
      "1178.7927770614624 [s]\n",
      "best score: 80.37625124290746, top10 mean score: 81.48545683980265\n",
      "the of and to in that have not you with we it from as peppermint candy fruitcake chocolate milk eggnog cookie snowglobe toy doll game puzzle greeting card wrapping paper bow candle fireplace wreath poinsettia angel star night wish dream believe wonder hope joy peace season merry hohoho kaggle workshop\n",
      "1179.8223586082458 [s]\n",
      "best score: 80.37625124290746, top10 mean score: 81.51703833968185\n",
      "the of and to in that have not you with we it from as peppermint candy fruitcake chocolate milk eggnog cookie snowglobe toy doll game puzzle greeting card wrapping paper bow candle fireplace wreath poinsettia angel star night wish dream believe wonder hope joy peace season merry hohoho kaggle workshop\n",
      "1178.510061264038 [s]\n",
      "best score: 80.37625124290746, top10 mean score: 81.48545683980265\n",
      "the of and to in that have not you with we it from as peppermint candy fruitcake chocolate milk eggnog cookie snowglobe toy doll game puzzle greeting card wrapping paper bow candle fireplace wreath poinsettia angel star night wish dream believe wonder hope joy peace season merry hohoho kaggle workshop\n",
      "1178.6871967315674 [s]\n",
      "CPU times: user 6h 11min 27s, sys: 17.1 s, total: 6h 11min 44s\n",
      "Wall time: 6h 11min 34s\n"
     ]
    }
   ],
   "source": [
    "%%time\n",
    "best_score, best_text = beam_search(tokens, fix_ids, scorer, k=100, n_iters=20)"
   ]
  },
  {
   "cell_type": "code",
   "execution_count": 11,
   "id": "f6ba9d68-c5fe-40fe-8146-1febebd2d6b0",
   "metadata": {},
   "outputs": [
    {
     "data": {
      "text/plain": [
       "80.37625124290746"
      ]
     },
     "execution_count": 11,
     "metadata": {},
     "output_type": "execute_result"
    }
   ],
   "source": [
    "best_score"
   ]
  },
  {
   "cell_type": "code",
   "execution_count": 10,
   "id": "77da2e23-b613-4109-9fef-ab85b28ce004",
   "metadata": {},
   "outputs": [
    {
     "data": {
      "text/plain": [
       "'the of and to in that have not you with we it from as peppermint candy fruitcake chocolate milk eggnog cookie snowglobe toy doll game puzzle greeting card wrapping paper bow candle fireplace wreath poinsettia angel star night wish dream believe wonder hope joy peace season merry hohoho kaggle workshop'"
      ]
     },
     "execution_count": 10,
     "metadata": {},
     "output_type": "execute_result"
    }
   ],
   "source": [
    "\" \".join(best_text).replace(\"-\", \" \")"
   ]
  },
  {
   "cell_type": "code",
   "execution_count": 31,
   "id": "808e4c55-098f-46a5-b6b3-36013bf56b7d",
   "metadata": {},
   "outputs": [],
   "source": [
    "output_dir = \"./output\"\n",
    "target_id = 4\n",
    "save_text(\" \".join(best_text).replace(\"-\", \" \"), best_score, target_id, output_dir=output_dir)"
   ]
  },
  {
   "cell_type": "code",
   "execution_count": null,
   "id": "ddbfd911-e841-419b-be5c-491adcafebf2",
   "metadata": {},
   "outputs": [],
   "source": []
  }
 ],
 "metadata": {
  "kernelspec": {
   "display_name": "Python 3 (ipykernel)",
   "language": "python",
   "name": "python3"
  },
  "language_info": {
   "codemirror_mode": {
    "name": "ipython",
    "version": 3
   },
   "file_extension": ".py",
   "mimetype": "text/x-python",
   "name": "python",
   "nbconvert_exporter": "python",
   "pygments_lexer": "ipython3",
   "version": "3.10.14"
  }
 },
 "nbformat": 4,
 "nbformat_minor": 5
}
