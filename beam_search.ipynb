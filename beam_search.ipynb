{
 "cells": [
  {
   "cell_type": "code",
   "execution_count": null,
   "id": "a49f9e60-9f68-4ca5-9d96-c568950d2f3f",
   "metadata": {},
   "outputs": [],
   "source": [
    "import os\n",
    "os.environ[\"CUDA_VISIBLE_DEVICES\"] = \"0\"\n",
    "import itertools\n",
    "import time\n",
    "\n",
    "import numpy as np\n",
    "import matplotlib.pyplot as plt\n",
    "\n",
    "from santa.metrics import PerplexityCalculator\n",
    "from santa.utils import save_text"
   ]
  },
  {
   "cell_type": "code",
   "execution_count": 2,
   "id": "68350ad8-dbd7-408b-80c2-28fa2ec2c141",
   "metadata": {},
   "outputs": [
    {
     "name": "stderr",
     "output_type": "stream",
     "text": [
      "Loading checkpoint shards: 100% 8/8 [00:09<00:00,  1.17s/it]\n"
     ]
    }
   ],
   "source": [
    "scorer = PerplexityCalculator(\"google/gemma-2-9b\")"
   ]
  },
  {
   "cell_type": "code",
   "execution_count": 3,
   "id": "c0541683-a1f6-4317-9b2b-2a30aeb7bb3e",
   "metadata": {},
   "outputs": [],
   "source": [
    "target_id = 0\n",
    "text      = \"reindeer mistletoe elf gingerbread family advent scrooge chimney fireplace ornament\"\n",
    "sub_texts = []\n",
    "fix_ids   = []"
   ]
  },
  {
   "cell_type": "code",
   "execution_count": 4,
   "id": "6818a0c2-edfb-49b0-9e9f-c1a0320dcb19",
   "metadata": {},
   "outputs": [
    {
     "name": "stderr",
     "output_type": "stream",
     "text": [
      "Starting from v4.46, the `logits` model output will have the same type as the model (except at train time, where it will always be FP32)\n"
     ]
    },
    {
     "data": {
      "text/plain": [
       "468.75364018715305"
      ]
     },
     "execution_count": 4,
     "metadata": {},
     "output_type": "execute_result"
    }
   ],
   "source": [
    "scorer.get_perplexity(text)"
   ]
  },
  {
   "cell_type": "code",
   "execution_count": 5,
   "id": "0d772377-fd47-453f-b986-12418c760974",
   "metadata": {},
   "outputs": [
    {
     "data": {
      "text/plain": [
       "('reindeer mistletoe elf gingerbread family advent scrooge chimney fireplace ornament',\n",
       " 10)"
      ]
     },
     "execution_count": 5,
     "metadata": {},
     "output_type": "execute_result"
    }
   ],
   "source": [
    "for st in sub_texts:\n",
    "    text = text.replace(st, \"-\".join(st.split()))\n",
    "text, len(text.split())"
   ]
  },
  {
   "cell_type": "code",
   "execution_count": 6,
   "id": "7d1c6802-af60-482b-9c1a-a98457e7f345",
   "metadata": {},
   "outputs": [
    {
     "data": {
      "text/plain": [
       "array([], dtype='<U11')"
      ]
     },
     "execution_count": 6,
     "metadata": {},
     "output_type": "execute_result"
    }
   ],
   "source": [
    "tokens = text.split()\n",
    "np.array(tokens)[fix_ids]"
   ]
  },
  {
   "cell_type": "code",
   "execution_count": 7,
   "id": "091b5b3e-7a4b-423b-a729-956b026c2c32",
   "metadata": {},
   "outputs": [
    {
     "data": {
      "text/plain": [
       "10"
      ]
     },
     "execution_count": 7,
     "metadata": {},
     "output_type": "execute_result"
    }
   ],
   "source": [
    "len(tokens) - len(fix_ids)"
   ]
  },
  {
   "cell_type": "code",
   "execution_count": 8,
   "id": "5af7ee98-5dd8-4ece-866d-13ab1b03520d",
   "metadata": {},
   "outputs": [],
   "source": [
    "def tokens2text(tokens, sep=\"-\"):\n",
    "    return \" \".join(tokens).replace(sep, \" \")\n",
    "\n",
    "\n",
    "def beam_search(init_tokens, fix_ids, scorer, k=30, precomputed={}, n_iters=100, batch_size=8):\n",
    "    n = len(init_tokens)\n",
    "    candidates = [init_tokens]\n",
    "    best_score = np.inf\n",
    "    best_text = None\n",
    "    top_solutions = {}\n",
    "    for iterations in range(n_iters):\n",
    "        start = time.time()\n",
    "        solutions = {}\n",
    "        for candidate in candidates:\n",
    "            new_s = []\n",
    "            new_texts = []\n",
    "            for i in range(n):\n",
    "                if i in fix_ids:\n",
    "                    continue\n",
    "                for j in range(i+1, n):\n",
    "                    if j in fix_ids:\n",
    "                        continue\n",
    "                    s = list(candidate).copy()\n",
    "                    s[i], s[j] = s[j], s[i]\n",
    "                    s = tuple(s)\n",
    "                    if s in precomputed:\n",
    "                        continue\n",
    "                    text = tokens2text(s)\n",
    "                    new_texts.append(text)\n",
    "                    new_s.append(s)\n",
    "            scores = scorer.get_perplexity(new_texts, batch_size=batch_size)\n",
    "            for s, score in zip(new_s, scores, strict=True):\n",
    "                precomputed[s] = score\n",
    "                solutions[s] = score\n",
    "        solutions = sorted(solutions.items(), key=lambda x: x[1])[:k]\n",
    "        top_solutions.update(solutions)\n",
    "        if len(solutions) == 0:\n",
    "            break\n",
    "        candidates, scores = map(list, zip(*solutions))\n",
    "        if scores[0] < best_score:\n",
    "            best_score = scores[0]\n",
    "            best_text = tokens2text(candidates[0])\n",
    "        print(f\"[{iterations} iterations] best: {best_score:.3f}, current: {scores[0]:.3f}, top10 mean: {np.mean(scores[:10]):.3f}, elapsed time: {time.time()-start:.1f}[s]\")\n",
    "        print(tokens2text(candidates[0]))\n",
    "    return best_score, best_text, top_solutions"
   ]
  },
  {
   "cell_type": "code",
   "execution_count": 9,
   "id": "d420fb6a-4240-4394-9b4b-324aeb4b2fd9",
   "metadata": {},
   "outputs": [
    {
     "name": "stdout",
     "output_type": "stream",
     "text": [
      "[0 iterations] best: 514.398, current: 514.398, top10 mean: 530.805, elapsed time: 0.5[s]\n",
      "reindeer mistletoe gingerbread elf family advent scrooge chimney fireplace ornament\n",
      "[1 iterations] best: 469.085, current: 469.085, top10 mean: 536.438, elapsed time: 2.1[s]\n",
      "reindeer mistletoe elf gingerbread family advent scrooge chimney fireplace ornament\n",
      "[2 iterations] best: 469.085, current: 542.885, top10 mean: 582.931, elapsed time: 1.7[s]\n",
      "reindeer mistletoe elf gingerbread ornament advent scrooge family chimney fireplace\n",
      "[3 iterations] best: 469.085, current: 513.993, top10 mean: 558.228, elapsed time: 1.9[s]\n",
      "reindeer mistletoe elf gingerbread family ornament advent scrooge chimney fireplace\n",
      "[4 iterations] best: 469.085, current: 484.765, top10 mean: 549.948, elapsed time: 2.1[s]\n",
      "reindeer mistletoe elf gingerbread ornament family advent scrooge chimney fireplace\n",
      "CPU times: user 8.3 s, sys: 74.3 ms, total: 8.37 s\n",
      "Wall time: 8.36 s\n"
     ]
    }
   ],
   "source": [
    "%%time\n",
    "best_score, best_text, top_solutions = beam_search(tokens, fix_ids, scorer, k=5, n_iters=5)"
   ]
  },
  {
   "cell_type": "code",
   "execution_count": 10,
   "id": "ce07e043-072e-433b-bdfd-8d0073c54e26",
   "metadata": {},
   "outputs": [
    {
     "name": "stdout",
     "output_type": "stream",
     "text": [
      "469.0845652909369\n",
      "reindeer mistletoe elf gingerbread family advent scrooge chimney fireplace ornament\n"
     ]
    }
   ],
   "source": [
    "print(best_score)\n",
    "print(best_text)"
   ]
  },
  {
   "cell_type": "code",
   "execution_count": 12,
   "id": "b8373fce-95f8-44de-ba6d-5dfaf6ff1fbd",
   "metadata": {},
   "outputs": [],
   "source": [
    "tmp = sorted(top_solutions.items(), key=lambda x: x[1])\n",
    "candidates, scores = map(list, zip(*tmp))\n",
    "candidates = [tokens2text(candidate) for candidate in candidates]"
   ]
  },
  {
   "cell_type": "code",
   "execution_count": 13,
   "id": "e0a12739-5f6f-42bf-9454-f1da4a902d41",
   "metadata": {},
   "outputs": [
    {
     "data": {
      "text/plain": [
       "[<matplotlib.lines.Line2D at 0x76c06fb54dc0>]"
      ]
     },
     "execution_count": 13,
     "metadata": {},
     "output_type": "execute_result"
    },
    {
     "data": {
      "image/png": "[encoded data removed]",
      "text/plain": [
       "<Figure size 640x480 with 1 Axes>"
      ]
     },
     "metadata": {},
     "output_type": "display_data"
    }
   ],
   "source": [
    "plt.plot(np.arange(len(scores)), scores)"
   ]
  },
  {
   "cell_type": "code",
   "execution_count": 14,
   "id": "808e4c55-098f-46a5-b6b3-36013bf56b7d",
   "metadata": {},
   "outputs": [],
   "source": [
    "output_dir = \"./output\"\n",
    "save_text(best_text, best_score, target_id, output_dir=output_dir)"
   ]
  },
  {
   "cell_type": "code",
   "execution_count": null,
   "id": "ddbfd911-e841-419b-be5c-491adcafebf2",
   "metadata": {},
   "outputs": [],
   "source": []
  }
 ],
 "metadata": {
  "kernelspec": {
   "display_name": "Python 3 (ipykernel)",
   "language": "python",
   "name": "python3"
  },
  "language_info": {
   "codemirror_mode": {
    "name": "ipython",
    "version": 3
   },
   "file_extension": ".py",
   "mimetype": "text/x-python",
   "name": "python",
   "nbconvert_exporter": "python",
   "pygments_lexer": "ipython3",
   "version": "3.10.14"
  }
 },
 "nbformat": 4,
 "nbformat_minor": 5
}
