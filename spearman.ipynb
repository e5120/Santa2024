{
 "cells": [
  {
   "cell_type": "code",
   "execution_count": 1,
   "id": "28b59cef-417e-411e-9237-8a683bc728a0",
   "metadata": {},
   "outputs": [],
   "source": [
    "import re\n",
    "from pathlib import Path\n",
    "\n",
    "from scipy.stats import spearmanr\n",
    "from sympy.combinatorics import Permutation"
   ]
  },
  {
   "cell_type": "code",
   "execution_count": 2,
   "id": "4e1ec1ce-45f1-4bd3-94ea-9f155dab44c3",
   "metadata": {},
   "outputs": [
    {
     "data": {
      "text/plain": [
       "41"
      ]
     },
     "execution_count": 2,
     "metadata": {},
     "output_type": "execute_result"
    }
   ],
   "source": [
    "target_id = 4\n",
    "dir = Path(\"./output/\")\n",
    "files = sorted(dir.glob(f\"id{target_id}_*.txt\"))\n",
    "len(files)"
   ]
  },
  {
   "cell_type": "code",
   "execution_count": 21,
   "id": "a16d7cdc-b3e2-4a3b-93b5-4ce2724f4864",
   "metadata": {},
   "outputs": [
    {
     "name": "stdout",
     "output_type": "stream",
     "text": [
      "[id 00] 1.000, 0.000,   0, 70.20242, 0.00000\n",
      "[id 01] 0.975, 0.000,  10, 71.22486, 1.02244\n",
      "[id 02] 0.915, 0.000,  35, 71.96499, 1.76257\n",
      "[id 03] 0.915, 0.000,  35, 72.00041, 1.79799\n",
      "[id 04] 0.915, 0.000,  37, 72.26725, 2.06483\n",
      "[id 05] 0.915, 0.000,  34, 72.34945, 2.14703\n",
      "[id 06] 0.914, 0.000,  34, 72.37530, 2.17288\n",
      "[id 07] 0.915, 0.000,  35, 72.41000, 2.20758\n",
      "[id 08] 0.914, 0.000,  36, 72.53948, 2.33706\n",
      "[id 09] 0.914, 0.000,  36, 72.64883, 2.44641\n",
      "[id 10] 0.914, 0.000,  35, 73.94579, 3.74337\n",
      "[id 11] 0.878, 0.000,  38, 74.50227, 4.29985\n",
      "[id 12] 0.879, 0.000,  36, 74.82051, 4.61809\n",
      "[id 13] 0.898, 0.000,  38, 76.52955, 6.32713\n",
      "[id 14] 0.933, 0.000,  35, 79.45131, 9.24889\n",
      "[id 15] 0.928, 0.000,  38, 79.75075, 9.54833\n",
      "[id 16] 0.927, 0.000,  38, 80.06289, 9.86047\n",
      "[id 17] 0.932, 0.000,  35, 80.37625, 10.17383\n",
      "[id 18] 0.927, 0.000,  38, 80.62890, 10.42648\n",
      "[id 19] 0.921, 0.000,  36, 81.64199, 11.43957\n",
      "[id 20] 0.920, 0.000,  36, 82.28231, 12.07989\n",
      "[id 21] 0.900, 0.000,  36, 82.92766, 12.72524\n",
      "[id 22] 0.911, 0.000,  36, 83.25223, 13.04981\n",
      "[id 23] 0.942, 0.000,  27, 80.69080, 10.48838\n",
      "[id 24] 0.944, 0.000,  26, 81.64199, 11.43957\n",
      "[id 25] 0.944, 0.000,  26, 81.64199, 11.43957\n",
      "[id 26] 0.939, 0.000,  28, 81.96153, 11.75911\n",
      "[id 27] 0.941, 0.000,  27, 82.28232, 12.07990\n",
      "[id 28] 0.972, 0.000,  26, 82.92767, 12.72525\n",
      "[id 29] 0.929, 0.000,  37, 84.23359, 14.03117\n",
      "[id 30] 0.927, 0.000,  38, 84.89424, 14.69182\n",
      "[id 31] 0.950, 0.000,  29, 85.56007, 15.35765\n",
      "[id 32] 0.918, 0.000,  32, 86.23113, 16.02871\n",
      "[id 33] 0.917, 0.000,  32, 87.58907, 17.38665\n",
      "[id 34] 0.918, 0.000,  33, 88.27604, 18.07362\n",
      "[id 35] 0.950, 0.000,  29, 89.66619, 19.46377\n",
      "[id 36] 0.943, 0.000,  36, 94.33714, 24.13472\n",
      "[id 37] 0.680, 0.000,  43, 95.07700, 24.87458\n",
      "[id 38] 0.942, 0.000,  33, 95.44916, 25.24674\n",
      "[id 39] 0.515, 0.000,  48, 96.95227, 26.74985\n",
      "[id 40] 0.491, 0.000,  45, 99.25142, 29.04900\n"
     ]
    }
   ],
   "source": [
    "best_order = None\n",
    "best_score = None\n",
    "token2id = {}\n",
    "texts = []\n",
    "transpositions = []\n",
    "for i, filename in enumerate(files[0:]):\n",
    "    score = float(str(filename).split(\"_\")[1].split(\".txt\")[0])\n",
    "    with open(filename) as f:\n",
    "        text = f.readline().strip()\n",
    "    texts.append(text)\n",
    "    tokens = text.split(\" \")\n",
    "    if len(token2id) == 0:\n",
    "        for token in tokens:\n",
    "            token2id[token] = len(token2id)\n",
    "    order = [token2id[token] for token in tokens]\n",
    "    if best_order is None:\n",
    "        best_order = order\n",
    "        best_score = score\n",
    "    corr, pvalue = spearmanr(order, best_order)\n",
    "    p = Permutation(order)\n",
    "    transpositions.append(p.transpositions())\n",
    "    num_swap = len(transpositions[-1])\n",
    "    print(f\"[id {i:>02}] {corr:.3f}, {pvalue:.3f}, {num_swap:>3}, {score:.5f}, {score - best_score:.5f}\")"
   ]
  },
  {
   "cell_type": "code",
   "execution_count": 22,
   "id": "d89787cf-c967-44fc-bfb7-ba49dc8687fa",
   "metadata": {},
   "outputs": [
    {
     "data": {
      "text/plain": [
       "'from and of to the as in that it we with not you have milk chocolate candy fruitcake eggnog peppermint season greeting card wrapping paper bow toy doll game puzzle cookie snowglobe fireplace candle wreath poinsettia angel star wish dream night wonder believe hope joy peace merry hohoho kaggle workshop'"
      ]
     },
     "execution_count": 22,
     "metadata": {},
     "output_type": "execute_result"
    }
   ],
   "source": [
    "texts[0]"
   ]
  },
  {
   "cell_type": "code",
   "execution_count": 23,
   "id": "3a5ccdf9-8dc3-4431-9795-d3db6c6e3dd0",
   "metadata": {},
   "outputs": [
    {
     "data": {
      "text/plain": [
       "'from and of to the as in that it we with not you have milk chocolate candy fruitcake eggnog peppermint season greeting card wrapping paper wreath bow poinsettia star angel snowglobe candle fireplace toy doll game puzzle cookie wish dream night wonder believe hope joy peace merry hohoho kaggle workshop'"
      ]
     },
     "execution_count": 23,
     "metadata": {},
     "output_type": "execute_result"
    }
   ],
   "source": [
    "texts[1]"
   ]
  },
  {
   "cell_type": "markdown",
   "id": "1e83bd27-c6b1-4c58-9a15-179990ba9cd2",
   "metadata": {},
   "source": [
    "### 動作確認"
   ]
  },
  {
   "cell_type": "code",
   "execution_count": 24,
   "id": "7b7fa4bd-0a01-4364-9e21-d98c60ce174c",
   "metadata": {},
   "outputs": [
    {
     "name": "stdout",
     "output_type": "stream",
     "text": [
      "[0, 1, 2, 3, 4, 5, 6, 7, 8, 9]\n"
     ]
    },
    {
     "data": {
      "text/plain": [
       "[3, 7, 2, 0, 4, 5, 1, 6, 9, 8]"
      ]
     },
     "execution_count": 24,
     "metadata": {},
     "output_type": "execute_result"
    }
   ],
   "source": [
    "def swap(x, i, j):\n",
    "    x[i], x[j] = x[j], x[i]\n",
    "    return x\n",
    "\n",
    "\n",
    "tmp = best_order[:10]\n",
    "print(tmp)\n",
    "tmp = swap(tmp, 0, 1)\n",
    "tmp = swap(tmp, 3, 1)\n",
    "tmp = swap(tmp, 0, 6)\n",
    "tmp = swap(tmp, 0, 7)\n",
    "tmp = swap(tmp, 0, 1)\n",
    "tmp = swap(tmp, 8, 9)\n",
    "tmp"
   ]
  },
  {
   "cell_type": "code",
   "execution_count": 25,
   "id": "c0b7ab5f-6c19-4ac7-94d3-b910f667fd67",
   "metadata": {},
   "outputs": [
    {
     "data": {
      "text/plain": [
       "[(0, 3), (1, 6), (1, 7), (8, 9)]"
      ]
     },
     "execution_count": 25,
     "metadata": {},
     "output_type": "execute_result"
    }
   ],
   "source": [
    "p = Permutation(tmp)\n",
    "p.transpositions()"
   ]
  },
  {
   "cell_type": "code",
   "execution_count": 26,
   "id": "04c1fdae-4164-4547-9289-52ce5fdd28d0",
   "metadata": {},
   "outputs": [
    {
     "data": {
      "text/plain": [
       "[0, 1, 2, 3, 4, 5, 6, 7, 8, 9]"
      ]
     },
     "execution_count": 26,
     "metadata": {},
     "output_type": "execute_result"
    }
   ],
   "source": [
    "for k in p.transpositions()[::-1]:\n",
    "    tmp = swap(tmp, k[0], k[1])\n",
    "tmp"
   ]
  },
  {
   "cell_type": "code",
   "execution_count": 9,
   "id": "a7a083bd-f092-4152-ae0c-9266d32019fa",
   "metadata": {},
   "outputs": [
    {
     "name": "stderr",
     "output_type": "stream",
     "text": [
      "/opt/mamba/lib/python3.10/site-packages/tqdm/auto.py:21: TqdmWarning: IProgress not found. Please update jupyter and ipywidgets. See https://ipywidgets.readthedocs.io/en/stable/user_install.html\n",
      "  from .autonotebook import tqdm as notebook_tqdm\n"
     ]
    }
   ],
   "source": [
    "import os\n",
    "os.environ[\"CUDA_VISIBLE_DEVICES\"] = \"0\"\n",
    "import sys\n",
    "sys.path.append(\"..\")\n",
    "from santa.metrics import PerplexityCalculator"
   ]
  },
  {
   "cell_type": "code",
   "execution_count": 10,
   "id": "07b462cf-5d67-405e-8c8d-4f3e829c7de6",
   "metadata": {},
   "outputs": [
    {
     "name": "stderr",
     "output_type": "stream",
     "text": [
      "Loading checkpoint shards: 100% 8/8 [00:08<00:00,  1.01s/it]\n"
     ]
    }
   ],
   "source": [
    "scorer = PerplexityCalculator(model_path=\"google/gemma-2-9b\")"
   ]
  },
  {
   "cell_type": "code",
   "execution_count": 33,
   "id": "95b4e71d-bddc-45f5-be94-b3e218216d99",
   "metadata": {},
   "outputs": [
    {
     "name": "stdout",
     "output_type": "stream",
     "text": [
      "[70.20242311605584]\n",
      "[86.62284563520333, 77.95840558065296, 70.20242311605584]\n",
      "[124.68123553920599, 100.9943546749491, 70.20242311605584]\n",
      "[124.68123553920599, 100.9943546749491, 70.20242311605584]\n",
      "[124.68123553920599, 100.9943546749491, 70.20242311605584]\n",
      "[124.68123553920599, 100.9943546749491, 70.20242311605584]\n",
      "[124.68123553920599, 100.9943546749491, 70.20242311605584]\n",
      "[124.68123553920599, 100.9943546749491, 70.20242311605584]\n",
      "[124.68123553920599, 100.9943546749491, 70.20242311605584]\n",
      "[124.68123553920599, 100.9943546749491, 70.20242311605584]\n",
      "[107.22946850897647, 122.95484439026072, 70.20242311605584]\n",
      "[107.22946850897647, 122.95484439026072, 70.20242311605584]\n",
      "[107.22946850897647, 122.95484439026072, 70.20242311605584]\n",
      "[86.68048526687859, 106.30407660829488, 70.20242311605584]\n",
      "[107.83847422924161, 122.95484439026072, 70.20242311605584]\n",
      "[107.83847422924161, 122.95484439026072, 70.20242311605584]\n",
      "[117.00085963090497, 122.95484439026072, 70.20242311605584]\n",
      "[117.00085963090497, 122.95484439026072, 70.20242311605584]\n",
      "[117.00085963090497, 122.95484439026072, 70.20242311605584]\n",
      "[117.00085963090497, 122.95484439026072, 70.20242311605584]\n",
      "[117.00085963090497, 122.95484439026072, 70.20242311605584]\n",
      "[117.00085963090497, 122.95484439026072, 70.20242311605584]\n",
      "[117.00085963090497, 122.95484439026072, 70.20242311605584]\n",
      "[117.00085963090497, 122.95484439026072, 70.20242311605584]\n",
      "[107.22946850897647, 122.95484439026072, 70.20242311605584]\n",
      "[107.22946850897647, 122.95484439026072, 70.20242311605584]\n",
      "[107.22946850897647, 122.95484439026072, 70.20242311605584]\n",
      "[107.22946850897647, 122.95484439026072, 70.20242311605584]\n",
      "[107.22946850897647, 122.95484439026072, 70.20242311605584]\n",
      "[107.22946850897647, 122.95484439026072, 70.20242311605584]\n",
      "[107.22946850897647, 122.95484439026072, 70.20242311605584]\n",
      "[107.22946850897647, 122.95484439026072, 70.20242311605584]\n",
      "[107.22946850897647, 122.95484439026072, 70.20242311605584]\n",
      "[107.22946850897647, 122.95484439026072, 70.20242311605584]\n",
      "[107.22946850897647, 122.95484439026072, 70.20242311605584]\n",
      "[107.22946850897647, 122.95484439026072, 70.20242311605584]\n",
      "[107.22946850897647, 122.95484439026072, 70.20242311605584]\n",
      "[101.32081357499568, 93.03987137717634, 70.20242311605584]\n",
      "[107.22946850897647, 122.95484439026072, 70.20242311605584]\n",
      "[181.07540997913662, 184.65824882301823, 70.20242311605584]\n",
      "[185.34571390985008, 184.65824882301823, 70.20242311605584]\n"
     ]
    }
   ],
   "source": [
    "for index in range(len(texts)):\n",
    "    # index = 1\n",
    "    t = transpositions[index]\n",
    "    s = texts[index].split(\" \")\n",
    "    score = scorer.get_perplexity(\" \".join(s))\n",
    "    score_transition = [score]\n",
    "    ## print(score)\n",
    "    for i, j in t[::-1]:\n",
    "        s = swap(s, i, j)\n",
    "        score = scorer.get_perplexity(\" \".join(s))\n",
    "        score_transition.append(score)\n",
    "        # print(score)\n",
    "    # \" \".join(s)\n",
    "    # print(min(score_transition))\n",
    "    print(score_transition[-3:])"
   ]
  },
  {
   "cell_type": "code",
   "execution_count": 36,
   "id": "5463bd35-6989-4954-b5f5-ee35edd4727c",
   "metadata": {},
   "outputs": [
    {
     "data": {
      "text/plain": [
       "'from and of to the as in that it we with not you have milk chocolate candy fruitcake eggnog peppermint season greeting card wrapping paper bow toy doll game puzzle cookie snowglobe fireplace candle wreath poinsettia angel star wish dream night wonder believe hope joy peace merry hohoho kaggle workshop'"
      ]
     },
     "execution_count": 36,
     "metadata": {},
     "output_type": "execute_result"
    }
   ],
   "source": [
    "texts[0]"
   ]
  },
  {
   "cell_type": "code",
   "execution_count": 35,
   "id": "248ea59a-e0b8-498d-963c-62e0dc223cf9",
   "metadata": {},
   "outputs": [
    {
     "data": {
      "text/plain": [
       "'peppermint candy chocolate eggnog fruitcake poinsettia wreath star angel snowglobe we kaggle the of and to in that it with as from have not you workshop greeting card wrapping paper bow toy doll puzzle game night candle fireplace cookie milk wish dream hope believe wonder joy peace season merry hohoho'"
      ]
     },
     "execution_count": 35,
     "metadata": {},
     "output_type": "execute_result"
    }
   ],
   "source": [
    "texts[-1]"
   ]
  },
  {
   "cell_type": "code",
   "execution_count": 38,
   "id": "f969a37e-5b06-43b6-b14d-5059cc94e629",
   "metadata": {},
   "outputs": [
    {
     "name": "stdout",
     "output_type": "stream",
     "text": [
      "99.16338626091706\n",
      "100.28532287020514\n",
      "152.29643293929283\n",
      "148.30513431132994\n",
      "149.03346747099104\n",
      "168.04099600611818\n",
      "202.49210404218502\n",
      "206.16704003647308\n",
      "214.35986844727924\n",
      "331.4055391392646\n",
      "563.4468831796185\n",
      "591.0935052922482\n",
      "583.0729801382863\n",
      "724.6035624055621\n",
      "722.6416085269523\n",
      "723.3914639620258\n",
      "807.190841887026\n",
      "761.1021136349358\n",
      "871.0813198779329\n",
      "956.5077386081596\n",
      "990.6220435799005\n",
      "953.9078685096837\n",
      "923.4255608179376\n",
      "1016.2443823212827\n",
      "1039.212001173891\n",
      "1088.7369401962362\n",
      "1015.1696611418253\n",
      "932.9216388542737\n",
      "908.1351952417449\n",
      "748.9047550329993\n",
      "863.2682682288158\n",
      "675.0068399609565\n",
      "537.2360187457363\n",
      "483.5043511739331\n",
      "460.1834321202282\n",
      "466.6301153261619\n",
      "447.7325518287056\n",
      "486.95042773976354\n",
      "389.445736848346\n",
      "350.3374147830001\n",
      "220.98706951550406\n",
      "268.0654979884322\n",
      "219.19823465601223\n",
      "185.34571390985008\n",
      "184.65824882301823\n",
      "70.20242311605584\n"
     ]
    }
   ],
   "source": [
    "index = 40\n",
    "t = transpositions[index]\n",
    "s = texts[index].split(\" \")\n",
    "score = scorer.get_perplexity(\" \".join(s))\n",
    "score_transition = [score]\n",
    "text_transition = [\" \".join(s)]\n",
    "print(score)\n",
    "for i, j in t[::-1]:\n",
    "    s = swap(s, i, j)\n",
    "    score = scorer.get_perplexity(\" \".join(s))\n",
    "    score_transition.append(score)\n",
    "    text_transition.append(\" \".join(s))\n",
    "    print(score)\n",
    "# \" \".join(s)\n",
    "# print(min(score_transition))\n",
    "# print(score_transition[-3:])"
   ]
  },
  {
   "cell_type": "code",
   "execution_count": 41,
   "id": "4bdcfa70-c427-4d63-8904-52a069360e09",
   "metadata": {},
   "outputs": [
    {
     "data": {
      "text/plain": [
       "'from and of to the as in that it we with not you have milk chocolate candy fruitcake eggnog peppermint season greeting card wrapping paper bow toy doll game puzzle cookie snowglobe fireplace candle wreath poinsettia angel star wish dream night wonder believe hope joy peace merry hohoho kaggle workshop'"
      ]
     },
     "execution_count": 41,
     "metadata": {},
     "output_type": "execute_result"
    }
   ],
   "source": [
    "texts[0]"
   ]
  },
  {
   "cell_type": "code",
   "execution_count": 39,
   "id": "ab5612b1-e507-42a4-a9d2-7e4bdfed2f8a",
   "metadata": {},
   "outputs": [
    {
     "data": {
      "text/plain": [
       "'from and of to the as in that it we with not you have milk chocolate candy fruitcake eggnog peppermint season greeting card wrapping paper bow toy doll game puzzle cookie snowglobe fireplace candle wreath poinsettia angel star wish dream night wonder believe hope joy peace merry hohoho kaggle workshop'"
      ]
     },
     "execution_count": 39,
     "metadata": {},
     "output_type": "execute_result"
    }
   ],
   "source": [
    "text_transition[-1]"
   ]
  },
  {
   "cell_type": "code",
   "execution_count": 42,
   "id": "d6bc8642-3fe3-4a08-8532-1e2c2f73bc2e",
   "metadata": {},
   "outputs": [
    {
     "data": {
      "text/plain": [
       "'greeting and of to the as in that it we with not you have milk chocolate candy fruitcake eggnog peppermint season from card wrapping paper bow toy doll game puzzle cookie snowglobe fireplace candle wreath poinsettia angel star wish dream night wonder believe hope joy peace merry hohoho kaggle workshop'"
      ]
     },
     "execution_count": 42,
     "metadata": {},
     "output_type": "execute_result"
    }
   ],
   "source": [
    "text_transition[-2]"
   ]
  },
  {
   "cell_type": "code",
   "execution_count": null,
   "id": "4b92efd2-9c23-4eab-87e4-cedda39fb88b",
   "metadata": {},
   "outputs": [],
   "source": []
  },
  {
   "cell_type": "code",
   "execution_count": null,
   "id": "94c0b699-841e-4bf4-b5f4-53d87fd89bb3",
   "metadata": {},
   "outputs": [],
   "source": []
  }
 ],
 "metadata": {
  "kernelspec": {
   "display_name": "Python 3 (ipykernel)",
   "language": "python",
   "name": "python3"
  },
  "language_info": {
   "codemirror_mode": {
    "name": "ipython",
    "version": 3
   },
   "file_extension": ".py",
   "mimetype": "text/x-python",
   "name": "python",
   "nbconvert_exporter": "python",
   "pygments_lexer": "ipython3",
   "version": "3.10.14"
  }
 },
 "nbformat": 4,
 "nbformat_minor": 5
}
