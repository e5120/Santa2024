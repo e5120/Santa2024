{
 "cells": [
  {
   "cell_type": "code",
   "execution_count": 2,
   "id": "28b59cef-417e-411e-9237-8a683bc728a0",
   "metadata": {},
   "outputs": [],
   "source": [
    "import re\n",
    "from pathlib import Path\n",
    "\n",
    "from scipy.stats import spearmanr\n",
    "from sympy.combinatorics import Permutation"
   ]
  },
  {
   "cell_type": "code",
   "execution_count": 3,
   "id": "b1a2913b-5350-41d3-8b16-60381489f8ec",
   "metadata": {},
   "outputs": [
    {
     "data": {
      "text/plain": [
       "30"
      ]
     },
     "execution_count": 3,
     "metadata": {},
     "output_type": "execute_result"
    }
   ],
   "source": [
    "def get_token2id(text):\n",
    "    token2id = {}\n",
    "    tokens = text.split()\n",
    "    for i in range(len(tokens)):\n",
    "        token = tokens[i]\n",
    "        if token not in token2id:\n",
    "            token2id[token] = len(token2id)\n",
    "        else:\n",
    "            j = 2\n",
    "            new_token = f\"{token}_{j}\"\n",
    "            while new_token in token2id:\n",
    "                j += 1\n",
    "                new_token = f\"{token}_{j}\"\n",
    "            token2id[new_token] = len(token2id)\n",
    "    return token2id\n",
    "\n",
    "\n",
    "def tokens2order(tokens, token2id):\n",
    "    token2id = token2id.copy()\n",
    "    order = []\n",
    "    for token in tokens:\n",
    "        if token in token2id:\n",
    "            order.append(token2id.pop(token))\n",
    "        else:\n",
    "            j = 2\n",
    "            new_token = f\"{token}_{j}\"\n",
    "            while new_token not in token2id:\n",
    "                j += 1\n",
    "                new_token = f\"{token}_{j}\"\n",
    "            order.append(token2id.pop(new_token))\n",
    "    return order\n",
    "\n",
    "\n",
    "def order2token(order, id2token):\n",
    "    tokens = []\n",
    "    for i in order:\n",
    "        tokens.append(id2token[i].split(\"_\")[0])\n",
    "    return tokens\n",
    "\n",
    "\n",
    "text = \"sleigh of the magi yuletide cheer is unwrap gifts relax and eat cheer decorations carol sing chimney visit workshop grinch holiday holly jingle naughty nice nutcracker polar beard ornament stocking\"\n",
    "tokens = text.split()\n",
    "token2id = get_token2id(text)\n",
    "id2token = {v: k for k, v in token2id.items()}\n",
    "order = tokens2order(tokens, token2id)\n",
    "len(token2id)"
   ]
  },
  {
   "cell_type": "code",
   "execution_count": 4,
   "id": "716a6e28-f0f3-4bda-8b20-be1d3c30530a",
   "metadata": {},
   "outputs": [],
   "source": [
    "def load_file(filename):\n",
    "    score = float(str(filename).split(\"_\")[1].split(\".txt\")[0])\n",
    "    with open(filename) as f:\n",
    "        text = f.readline().strip()\n",
    "    return text, score\n",
    "\n",
    "\n",
    "target_id = 3\n",
    "dir = Path(\"./output/\")\n",
    "files = sorted(dir.glob(f\"id{target_id}_0*.txt\"))\n",
    "\n",
    "best_text, best_score = load_file(files[0])\n",
    "best_tokens = best_text.split()\n",
    "token2id = get_token2id(best_text)\n",
    "id2token = {v: k for k, v in token2id.items()}\n",
    "best_order = tokens2order(best_tokens, token2id)"
   ]
  },
  {
   "cell_type": "code",
   "execution_count": 5,
   "id": "a16d7cdc-b3e2-4a3b-93b5-4ce2724f4864",
   "metadata": {},
   "outputs": [
    {
     "name": "stdout",
     "output_type": "stream",
     "text": [
      "[id 00] corr=1.00, p=0.00, n_swaps=  0, score=197.25009, diff=0.00000\n",
      "[id 01] corr=1.00, p=0.00, n_swaps=  0, score=197.63808, diff=0.38799\n",
      "[id 02] corr=0.99, p=0.00, n_swaps=  5, score=199.65241, diff=2.40232\n",
      "[id 03] corr=0.99, p=0.00, n_swaps=  5, score=199.99238, diff=2.74229\n",
      "[id 04] corr=0.95, p=0.00, n_swaps= 15, score=200.68898, diff=3.43889\n",
      "[id 05] corr=0.48, p=0.01, n_swaps= 21, score=201.52058, diff=4.27049\n",
      "[id 06] corr=0.92, p=0.00, n_swaps= 17, score=201.70189, diff=4.45180\n",
      "[id 07] corr=0.92, p=0.00, n_swaps= 17, score=202.65870, diff=5.40861\n",
      "[id 08] corr=0.52, p=0.00, n_swaps= 22, score=203.34542, diff=6.09533\n",
      "[id 09] corr=0.56, p=0.00, n_swaps= 15, score=203.68400, diff=6.43391\n",
      "[id 10] corr=0.56, p=0.00, n_swaps= 16, score=203.73315, diff=6.48306\n",
      "[id 11] corr=0.66, p=0.00, n_swaps= 19, score=204.16485, diff=6.91476\n",
      "[id 12] corr=0.93, p=0.00, n_swaps= 20, score=204.19542, diff=6.94533\n",
      "[id 13] corr=0.49, p=0.01, n_swaps= 18, score=204.53513, diff=7.28504\n",
      "[id 14] corr=0.49, p=0.01, n_swaps= 17, score=204.95699, diff=7.70690\n",
      "[id 15] corr=0.91, p=0.00, n_swaps= 17, score=205.36317, diff=8.11308\n",
      "[id 16] corr=0.86, p=0.00, n_swaps= 16, score=205.73454, diff=8.48445\n",
      "[id 17] corr=0.92, p=0.00, n_swaps= 16, score=205.75455, diff=8.50446\n",
      "[id 18] corr=0.56, p=0.00, n_swaps= 20, score=205.78870, diff=8.53861\n",
      "[id 19] corr=0.51, p=0.00, n_swaps= 21, score=205.91915, diff=8.66906\n",
      "[id 20] corr=0.92, p=0.00, n_swaps= 16, score=206.51260, diff=9.26251\n",
      "[id 21] corr=0.56, p=0.00, n_swaps= 22, score=206.60704, diff=9.35695\n",
      "[id 22] corr=0.94, p=0.00, n_swaps= 19, score=207.24850, diff=9.99841\n",
      "[id 23] corr=0.86, p=0.00, n_swaps= 19, score=207.41182, diff=10.16173\n",
      "[id 24] corr=0.51, p=0.00, n_swaps= 21, score=207.41746, diff=10.16737\n",
      "[id 25] corr=0.48, p=0.01, n_swaps= 21, score=207.47790, diff=10.22781\n",
      "[id 26] corr=0.95, p=0.00, n_swaps= 17, score=207.50362, diff=10.25353\n",
      "[id 27] corr=0.56, p=0.00, n_swaps= 18, score=207.67863, diff=10.42854\n",
      "[id 28] corr=0.48, p=0.01, n_swaps= 17, score=207.68210, diff=10.43201\n",
      "[id 29] corr=0.76, p=0.00, n_swaps= 18, score=208.10807, diff=10.85798\n",
      "[id 30] corr=0.94, p=0.00, n_swaps= 14, score=208.55669, diff=11.30660\n",
      "[id 31] corr=0.96, p=0.00, n_swaps= 14, score=209.02043, diff=11.77034\n",
      "[id 32] corr=0.82, p=0.00, n_swaps= 18, score=209.45104, diff=12.20095\n",
      "[id 33] corr=0.55, p=0.00, n_swaps= 21, score=209.52546, diff=12.27537\n",
      "[id 34] corr=0.93, p=0.00, n_swaps= 16, score=209.96242, diff=12.71233\n",
      "[id 35] corr=0.88, p=0.00, n_swaps= 17, score=210.20384, diff=12.95375\n",
      "[id 36] corr=0.90, p=0.00, n_swaps= 16, score=210.31864, diff=13.06855\n",
      "[id 37] corr=0.49, p=0.01, n_swaps= 21, score=210.45167, diff=13.20158\n",
      "[id 38] corr=0.87, p=0.00, n_swaps= 16, score=210.59592, diff=13.34583\n",
      "[id 39] corr=0.53, p=0.00, n_swaps= 21, score=210.60958, diff=13.35949\n",
      "[id 40] corr=0.94, p=0.00, n_swaps= 13, score=210.66502, diff=13.41493\n",
      "[id 41] corr=0.53, p=0.00, n_swaps= 20, score=210.72771, diff=13.47762\n",
      "[id 42] corr=0.93, p=0.00, n_swaps= 20, score=210.74620, diff=13.49611\n",
      "[id 43] corr=0.99, p=0.00, n_swaps=  7, score=210.80058, diff=13.55049\n",
      "[id 44] corr=0.69, p=0.00, n_swaps= 25, score=210.89639, diff=13.64630\n",
      "[id 45] corr=0.49, p=0.01, n_swaps= 19, score=211.05383, diff=13.80374\n",
      "[id 46] corr=0.97, p=0.00, n_swaps=  9, score=211.11765, diff=13.86756\n",
      "[id 47] corr=0.51, p=0.00, n_swaps= 21, score=211.29953, diff=14.04944\n",
      "[id 48] corr=0.50, p=0.01, n_swaps= 13, score=211.69648, diff=14.44639\n",
      "[id 49] corr=0.75, p=0.00, n_swaps= 19, score=211.78401, diff=14.53392\n",
      "[id 50] corr=0.67, p=0.00, n_swaps= 24, score=211.96860, diff=14.71851\n",
      "[id 51] corr=0.86, p=0.00, n_swaps= 18, score=211.97183, diff=14.72174\n",
      "[id 52] corr=0.95, p=0.00, n_swaps= 13, score=212.44864, diff=15.19855\n",
      "[id 53] corr=0.43, p=0.02, n_swaps= 21, score=212.62325, diff=15.37316\n",
      "[id 54] corr=0.86, p=0.00, n_swaps= 18, score=212.63197, diff=15.38188\n",
      "[id 55] corr=0.69, p=0.00, n_swaps= 20, score=212.70113, diff=15.45104\n",
      "[id 56] corr=0.40, p=0.03, n_swaps= 20, score=212.74587, diff=15.49578\n",
      "[id 57] corr=0.83, p=0.00, n_swaps= 18, score=212.80218, diff=15.55209\n",
      "[id 58] corr=0.85, p=0.00, n_swaps= 17, score=212.92002, diff=15.66993\n",
      "[id 59] corr=0.85, p=0.00, n_swaps= 19, score=213.64851, diff=16.39842\n",
      "[id 60] corr=0.92, p=0.00, n_swaps= 15, score=213.68702, diff=16.43693\n",
      "[id 61] corr=0.88, p=0.00, n_swaps= 20, score=213.72513, diff=16.47504\n",
      "[id 62] corr=0.78, p=0.00, n_swaps= 14, score=213.73787, diff=16.48778\n",
      "[id 63] corr=0.84, p=0.00, n_swaps= 16, score=214.03292, diff=16.78283\n",
      "[id 64] corr=0.93, p=0.00, n_swaps= 15, score=214.05793, diff=16.80784\n",
      "[id 65] corr=0.94, p=0.00, n_swaps= 16, score=214.10325, diff=16.85316\n",
      "[id 66] corr=0.88, p=0.00, n_swaps= 14, score=214.11152, diff=16.86143\n",
      "[id 67] corr=0.74, p=0.00, n_swaps= 20, score=214.12469, diff=16.87460\n",
      "[id 68] corr=0.93, p=0.00, n_swaps= 14, score=214.17994, diff=16.92985\n",
      "[id 69] corr=0.85, p=0.00, n_swaps= 15, score=214.31336, diff=17.06327\n",
      "[id 70] corr=0.49, p=0.01, n_swaps= 19, score=214.37039, diff=17.12030\n",
      "[id 71] corr=0.70, p=0.00, n_swaps= 19, score=214.65496, diff=17.40487\n",
      "[id 72] corr=0.85, p=0.00, n_swaps= 18, score=214.99812, diff=17.74803\n",
      "[id 73] corr=0.74, p=0.00, n_swaps= 15, score=215.00058, diff=17.75049\n",
      "[id 74] corr=0.87, p=0.00, n_swaps= 11, score=215.28947, diff=18.03938\n",
      "[id 75] corr=0.47, p=0.01, n_swaps= 19, score=215.29450, diff=18.04441\n",
      "[id 76] corr=0.91, p=0.00, n_swaps= 17, score=215.35169, diff=18.10160\n",
      "[id 77] corr=0.70, p=0.00, n_swaps= 21, score=215.36145, diff=18.11136\n",
      "[id 78] corr=0.63, p=0.00, n_swaps= 21, score=215.41917, diff=18.16908\n",
      "[id 79] corr=0.88, p=0.00, n_swaps= 18, score=215.51318, diff=18.26309\n",
      "[id 80] corr=0.87, p=0.00, n_swaps= 12, score=215.58656, diff=18.33647\n",
      "[id 81] corr=0.90, p=0.00, n_swaps= 15, score=215.88304, diff=18.63295\n",
      "[id 82] corr=0.85, p=0.00, n_swaps= 18, score=216.07150, diff=18.82141\n",
      "[id 83] corr=0.87, p=0.00, n_swaps= 18, score=216.12416, diff=18.87407\n",
      "[id 84] corr=0.82, p=0.00, n_swaps= 16, score=216.24951, diff=18.99942\n",
      "[id 85] corr=0.84, p=0.00, n_swaps= 15, score=216.43540, diff=19.18531\n",
      "[id 86] corr=0.85, p=0.00, n_swaps= 12, score=216.44985, diff=19.19976\n",
      "[id 87] corr=0.95, p=0.00, n_swaps= 13, score=216.47762, diff=19.22753\n",
      "[id 88] corr=0.90, p=0.00, n_swaps= 13, score=216.48732, diff=19.23723\n",
      "[id 89] corr=0.95, p=0.00, n_swaps= 11, score=216.49434, diff=19.24425\n",
      "[id 90] corr=0.93, p=0.00, n_swaps= 14, score=216.51365, diff=19.26356\n",
      "[id 91] corr=0.69, p=0.00, n_swaps= 23, score=217.11286, diff=19.86277\n",
      "[id 92] corr=0.72, p=0.00, n_swaps= 19, score=217.23112, diff=19.98103\n",
      "[id 93] corr=0.70, p=0.00, n_swaps= 18, score=217.23237, diff=19.98228\n",
      "[id 94] corr=0.92, p=0.00, n_swaps= 15, score=217.39381, diff=20.14372\n",
      "[id 95] corr=0.81, p=0.00, n_swaps= 19, score=217.41195, diff=20.16186\n",
      "[id 96] corr=0.86, p=0.00, n_swaps= 17, score=217.93466, diff=20.68457\n",
      "[id 97] corr=0.97, p=0.00, n_swaps= 13, score=218.11649, diff=20.86640\n",
      "[id 98] corr=0.81, p=0.00, n_swaps= 19, score=218.56501, diff=21.31492\n",
      "[id 99] corr=0.77, p=0.00, n_swaps= 23, score=219.10011, diff=21.85002\n",
      "[id 100] corr=0.91, p=0.00, n_swaps= 20, score=219.24318, diff=21.99309\n",
      "[id 101] corr=0.77, p=0.00, n_swaps= 18, score=219.39137, diff=22.14128\n",
      "[id 102] corr=0.91, p=0.00, n_swaps= 18, score=219.71256, diff=22.46247\n",
      "[id 103] corr=0.69, p=0.00, n_swaps= 23, score=219.81861, diff=22.56852\n",
      "[id 104] corr=0.51, p=0.00, n_swaps= 28, score=219.87910, diff=22.62901\n",
      "[id 105] corr=0.91, p=0.00, n_swaps= 16, score=219.95596, diff=22.70587\n",
      "[id 106] corr=0.70, p=0.00, n_swaps= 21, score=220.00327, diff=22.75318\n",
      "[id 107] corr=0.48, p=0.01, n_swaps= 26, score=220.29636, diff=23.04627\n",
      "[id 108] corr=0.83, p=0.00, n_swaps= 20, score=220.40500, diff=23.15491\n",
      "[id 109] corr=0.74, p=0.00, n_swaps= 19, score=220.41551, diff=23.16542\n",
      "[id 110] corr=0.47, p=0.01, n_swaps= 29, score=220.52222, diff=23.27213\n",
      "[id 111] corr=0.87, p=0.00, n_swaps= 16, score=220.81948, diff=23.56939\n",
      "[id 112] corr=0.80, p=0.00, n_swaps= 17, score=220.83822, diff=23.58813\n",
      "[id 113] corr=0.88, p=0.00, n_swaps= 14, score=221.04777, diff=23.79768\n",
      "[id 114] corr=0.89, p=0.00, n_swaps= 19, score=221.42301, diff=24.17292\n",
      "[id 115] corr=0.82, p=0.00, n_swaps= 19, score=221.45616, diff=24.20607\n",
      "[id 116] corr=0.83, p=0.00, n_swaps= 20, score=221.91917, diff=24.66908\n",
      "[id 117] corr=0.84, p=0.00, n_swaps= 20, score=222.00776, diff=24.75767\n",
      "[id 118] corr=0.83, p=0.00, n_swaps= 21, score=222.25021, diff=25.00012\n",
      "[id 119] corr=0.77, p=0.00, n_swaps= 18, score=222.29705, diff=25.04696\n",
      "[id 120] corr=0.82, p=0.00, n_swaps= 22, score=222.39576, diff=25.14567\n",
      "[id 121] corr=0.42, p=0.02, n_swaps= 25, score=222.53897, diff=25.28888\n",
      "[id 122] corr=0.80, p=0.00, n_swaps= 21, score=222.79677, diff=25.54668\n",
      "[id 123] corr=0.83, p=0.00, n_swaps= 18, score=222.98053, diff=25.73044\n",
      "[id 124] corr=0.88, p=0.00, n_swaps= 17, score=223.66066, diff=26.41057\n",
      "[id 125] corr=0.54, p=0.00, n_swaps= 28, score=223.97849, diff=26.72840\n",
      "[id 126] corr=0.43, p=0.02, n_swaps= 24, score=224.18012, diff=26.93003\n",
      "[id 127] corr=0.93, p=0.00, n_swaps= 13, score=224.24298, diff=26.99289\n",
      "[id 128] corr=0.76, p=0.00, n_swaps= 21, score=224.55221, diff=27.30212\n",
      "[id 129] corr=0.52, p=0.00, n_swaps= 18, score=224.87195, diff=27.62186\n",
      "[id 130] corr=0.75, p=0.00, n_swaps= 26, score=225.05184, diff=27.80175\n",
      "[id 131] corr=0.81, p=0.00, n_swaps= 21, score=225.37820, diff=28.12811\n",
      "[id 132] corr=0.80, p=0.00, n_swaps= 20, score=225.53721, diff=28.28712\n",
      "[id 133] corr=0.77, p=0.00, n_swaps= 17, score=225.56678, diff=28.31669\n",
      "[id 134] corr=0.51, p=0.00, n_swaps= 26, score=225.81495, diff=28.56486\n",
      "[id 135] corr=0.46, p=0.01, n_swaps= 23, score=226.28534, diff=29.03525\n",
      "[id 136] corr=0.91, p=0.00, n_swaps= 15, score=226.71671, diff=29.46662\n",
      "[id 137] corr=0.39, p=0.03, n_swaps= 22, score=226.86551, diff=29.61542\n",
      "[id 138] corr=0.44, p=0.01, n_swaps= 25, score=226.95348, diff=29.70339\n",
      "[id 139] corr=0.67, p=0.00, n_swaps= 25, score=227.41865, diff=30.16856\n",
      "[id 140] corr=0.77, p=0.00, n_swaps= 20, score=227.64997, diff=30.39988\n",
      "[id 141] corr=0.57, p=0.00, n_swaps= 21, score=227.65008, diff=30.39999\n",
      "[id 142] corr=0.84, p=0.00, n_swaps= 18, score=227.88163, diff=30.63154\n",
      "[id 143] corr=0.86, p=0.00, n_swaps= 17, score=228.17901, diff=30.92892\n",
      "[id 144] corr=0.80, p=0.00, n_swaps= 20, score=228.41960, diff=31.16951\n",
      "[id 145] corr=0.87, p=0.00, n_swaps= 16, score=228.51100, diff=31.26091\n",
      "[id 146] corr=0.85, p=0.00, n_swaps= 17, score=228.60941, diff=31.35932\n",
      "[id 147] corr=0.89, p=0.00, n_swaps= 13, score=228.70132, diff=31.45123\n",
      "[id 148] corr=0.68, p=0.00, n_swaps= 23, score=228.79949, diff=31.54940\n",
      "[id 149] corr=0.94, p=0.00, n_swaps=  8, score=228.86998, diff=31.61989\n",
      "[id 150] corr=0.85, p=0.00, n_swaps= 18, score=229.41663, diff=32.16654\n",
      "[id 151] corr=0.75, p=0.00, n_swaps= 25, score=230.01525, diff=32.76516\n",
      "[id 152] corr=0.74, p=0.00, n_swaps= 18, score=230.21463, diff=32.96454\n",
      "[id 153] corr=0.91, p=0.00, n_swaps= 18, score=230.23570, diff=32.98561\n",
      "[id 154] corr=0.79, p=0.00, n_swaps= 20, score=230.30938, diff=33.05929\n",
      "[id 155] corr=0.42, p=0.02, n_swaps= 25, score=230.63864, diff=33.38855\n",
      "[id 156] corr=0.67, p=0.00, n_swaps= 23, score=231.12073, diff=33.87064\n",
      "[id 157] corr=0.88, p=0.00, n_swaps= 19, score=231.28566, diff=34.03557\n",
      "[id 158] corr=0.43, p=0.02, n_swaps= 26, score=231.31290, diff=34.06281\n",
      "[id 159] corr=0.37, p=0.04, n_swaps= 26, score=231.85676, diff=34.60667\n",
      "[id 160] corr=0.43, p=0.02, n_swaps= 26, score=231.98902, diff=34.73893\n",
      "[id 161] corr=0.80, p=0.00, n_swaps= 22, score=232.40578, diff=35.15569\n",
      "[id 162] corr=0.77, p=0.00, n_swaps= 19, score=232.98742, diff=35.73733\n",
      "[id 163] corr=0.41, p=0.02, n_swaps= 25, score=233.07931, diff=35.82922\n",
      "[id 164] corr=0.49, p=0.01, n_swaps= 27, score=233.19504, diff=35.94495\n",
      "[id 165] corr=0.84, p=0.00, n_swaps= 18, score=233.29759, diff=36.04750\n",
      "[id 166] corr=0.41, p=0.03, n_swaps= 24, score=233.38137, diff=36.13128\n",
      "[id 167] corr=0.83, p=0.00, n_swaps= 20, score=233.40407, diff=36.15398\n",
      "[id 168] corr=0.79, p=0.00, n_swaps= 21, score=233.44448, diff=36.19439\n",
      "[id 169] corr=0.89, p=0.00, n_swaps= 15, score=233.64738, diff=36.39729\n",
      "[id 170] corr=0.62, p=0.00, n_swaps= 25, score=234.49386, diff=37.24377\n",
      "[id 171] corr=0.84, p=0.00, n_swaps= 21, score=234.91847, diff=37.66838\n",
      "[id 172] corr=0.71, p=0.00, n_swaps= 20, score=235.35788, diff=38.10779\n",
      "[id 173] corr=0.25, p=0.18, n_swaps= 27, score=235.78540, diff=38.53531\n",
      "[id 174] corr=0.78, p=0.00, n_swaps= 23, score=235.87424, diff=38.62415\n",
      "[id 175] corr=0.84, p=0.00, n_swaps= 19, score=236.44483, diff=39.19474\n",
      "[id 176] corr=0.78, p=0.00, n_swaps= 18, score=236.93816, diff=39.68807\n",
      "[id 177] corr=0.57, p=0.00, n_swaps= 24, score=237.33313, diff=40.08304\n",
      "[id 178] corr=0.76, p=0.00, n_swaps= 18, score=238.05137, diff=40.80128\n",
      "[id 179] corr=0.47, p=0.01, n_swaps= 20, score=238.66671, diff=41.41662\n",
      "[id 180] corr=0.72, p=0.00, n_swaps= 21, score=238.98740, diff=41.73731\n",
      "[id 181] corr=0.49, p=0.01, n_swaps= 26, score=239.19307, diff=41.94298\n",
      "[id 182] corr=0.65, p=0.00, n_swaps= 26, score=239.46274, diff=42.21265\n",
      "[id 183] corr=0.41, p=0.02, n_swaps= 26, score=239.68207, diff=42.43198\n",
      "[id 184] corr=0.39, p=0.03, n_swaps= 26, score=239.86203, diff=42.61194\n",
      "[id 185] corr=0.51, p=0.00, n_swaps= 23, score=240.24710, diff=42.99701\n",
      "[id 186] corr=0.76, p=0.00, n_swaps= 25, score=240.64667, diff=43.39658\n",
      "[id 187] corr=0.71, p=0.00, n_swaps= 15, score=240.85009, diff=43.60000\n",
      "[id 188] corr=0.57, p=0.00, n_swaps= 25, score=241.43617, diff=44.18608\n",
      "[id 189] corr=0.34, p=0.07, n_swaps= 26, score=241.61883, diff=44.36874\n",
      "[id 190] corr=0.83, p=0.00, n_swaps= 19, score=241.97164, diff=44.72155\n",
      "[id 191] corr=0.50, p=0.01, n_swaps= 21, score=243.42378, diff=46.17369\n",
      "[id 192] corr=0.74, p=0.00, n_swaps= 18, score=243.94528, diff=46.69519\n",
      "[id 193] corr=0.88, p=0.00, n_swaps= 15, score=244.31628, diff=47.06619\n",
      "[id 194] corr=0.59, p=0.00, n_swaps= 26, score=245.03567, diff=47.78558\n",
      "[id 195] corr=0.51, p=0.00, n_swaps= 25, score=246.85308, diff=49.60299\n",
      "[id 196] corr=0.56, p=0.00, n_swaps= 17, score=247.09886, diff=49.84877\n",
      "[id 197] corr=0.66, p=0.00, n_swaps= 24, score=247.23239, diff=49.98230\n",
      "[id 198] corr=0.54, p=0.00, n_swaps= 26, score=247.90433, diff=50.65424\n",
      "[id 199] corr=0.48, p=0.01, n_swaps= 24, score=251.42660, diff=54.17651\n",
      "[id 200] corr=0.27, p=0.14, n_swaps= 26, score=252.08541, diff=54.83532\n",
      "[id 201] corr=0.86, p=0.00, n_swaps= 22, score=269.07592, diff=71.82583\n",
      "[id 202] corr=-0.45, p=0.01, n_swaps= 26, score=420.59317, diff=223.34308\n",
      "[id 203] corr=-0.45, p=0.01, n_swaps= 26, score=432.05276, diff=234.80267\n",
      "[id 204] corr=-0.48, p=0.01, n_swaps= 26, score=436.84831, diff=239.59822\n",
      "[id 205] corr=-0.50, p=0.00, n_swaps= 24, score=485.92589, diff=288.67580\n"
     ]
    }
   ],
   "source": [
    "texts = []\n",
    "transpositions = []\n",
    "for i, filename in enumerate(files):\n",
    "    text, score = load_file(filename)\n",
    "    texts.append(text)\n",
    "    tokens = text.split(\" \")\n",
    "    order = tokens2order(tokens, token2id)\n",
    "    corr, pvalue = spearmanr(order, best_order)\n",
    "    p = Permutation(order)\n",
    "    transpositions.append(p.transpositions())\n",
    "    num_swap = len(transpositions[-1])\n",
    "    print(f\"[id {i:>02}] corr={corr:.2f}, p={pvalue:.2f}, n_swaps={num_swap:>3}, score={score:.5f}, diff={score - best_score:.5f}\")"
   ]
  },
  {
   "cell_type": "code",
   "execution_count": 30,
   "id": "d89787cf-c967-44fc-bfb7-ba49dc8687fa",
   "metadata": {},
   "outputs": [
    {
     "data": {
      "text/plain": [
       "'sleigh of the magi yuletide cheer is unwrap gifts relax and eat cheer decorations carol sing chimney visit workshop grinch holiday holly jingle naughty nice nutcracker polar beard ornament stocking'"
      ]
     },
     "execution_count": 30,
     "metadata": {},
     "output_type": "execute_result"
    }
   ],
   "source": [
    "texts[0]"
   ]
  },
  {
   "cell_type": "code",
   "execution_count": 32,
   "id": "3a5ccdf9-8dc3-4431-9795-d3db6c6e3dd0",
   "metadata": {},
   "outputs": [
    {
     "data": {
      "text/plain": [
       "'sleigh of the magi yuletide cheer is unwrap gifts and eat cheer decorations sing carol relax chimney visit workshop grinch holiday holly jingle naughty nice nutcracker polar beard ornament stocking'"
      ]
     },
     "execution_count": 32,
     "metadata": {},
     "output_type": "execute_result"
    }
   ],
   "source": [
    "texts[2]"
   ]
  },
  {
   "cell_type": "markdown",
   "id": "1e83bd27-c6b1-4c58-9a15-179990ba9cd2",
   "metadata": {},
   "source": [
    "### 動作確認"
   ]
  },
  {
   "cell_type": "code",
   "execution_count": 7,
   "id": "7b7fa4bd-0a01-4364-9e21-d98c60ce174c",
   "metadata": {},
   "outputs": [
    {
     "name": "stdout",
     "output_type": "stream",
     "text": [
      "[0, 1, 2, 3, 4, 5, 6, 7, 8, 9]\n"
     ]
    },
    {
     "data": {
      "text/plain": [
       "[3, 7, 2, 0, 4, 5, 1, 6, 9, 8]"
      ]
     },
     "execution_count": 7,
     "metadata": {},
     "output_type": "execute_result"
    }
   ],
   "source": [
    "def swap(x, i, j):\n",
    "    x[i], x[j] = x[j], x[i]\n",
    "    return x\n",
    "\n",
    "\n",
    "tmp = best_order[:10]\n",
    "print(tmp)\n",
    "tmp = swap(tmp, 0, 1)\n",
    "tmp = swap(tmp, 3, 1)\n",
    "tmp = swap(tmp, 0, 6)\n",
    "tmp = swap(tmp, 0, 7)\n",
    "tmp = swap(tmp, 0, 1)\n",
    "tmp = swap(tmp, 8, 9)\n",
    "tmp"
   ]
  },
  {
   "cell_type": "code",
   "execution_count": 8,
   "id": "c0b7ab5f-6c19-4ac7-94d3-b910f667fd67",
   "metadata": {},
   "outputs": [
    {
     "data": {
      "text/plain": [
       "[(0, 3), (1, 6), (1, 7), (8, 9)]"
      ]
     },
     "execution_count": 8,
     "metadata": {},
     "output_type": "execute_result"
    }
   ],
   "source": [
    "p = Permutation(tmp)\n",
    "p.transpositions()"
   ]
  },
  {
   "cell_type": "code",
   "execution_count": 9,
   "id": "04c1fdae-4164-4547-9289-52ce5fdd28d0",
   "metadata": {},
   "outputs": [
    {
     "data": {
      "text/plain": [
       "[0, 1, 2, 3, 4, 5, 6, 7, 8, 9]"
      ]
     },
     "execution_count": 9,
     "metadata": {},
     "output_type": "execute_result"
    }
   ],
   "source": [
    "for k in p.transpositions()[::-1]:\n",
    "    tmp = swap(tmp, k[0], k[1])\n",
    "tmp"
   ]
  },
  {
   "cell_type": "code",
   "execution_count": 10,
   "id": "a7a083bd-f092-4152-ae0c-9266d32019fa",
   "metadata": {},
   "outputs": [
    {
     "name": "stderr",
     "output_type": "stream",
     "text": [
      "/opt/mamba/lib/python3.10/site-packages/tqdm/auto.py:21: TqdmWarning: IProgress not found. Please update jupyter and ipywidgets. See https://ipywidgets.readthedocs.io/en/stable/user_install.html\n",
      "  from .autonotebook import tqdm as notebook_tqdm\n"
     ]
    }
   ],
   "source": [
    "import os\n",
    "os.environ[\"CUDA_VISIBLE_DEVICES\"] = \"1\"\n",
    "import sys\n",
    "sys.path.append(\"..\")\n",
    "from santa.metrics import PerplexityCalculator"
   ]
  },
  {
   "cell_type": "code",
   "execution_count": 11,
   "id": "07b462cf-5d67-405e-8c8d-4f3e829c7de6",
   "metadata": {},
   "outputs": [
    {
     "name": "stderr",
     "output_type": "stream",
     "text": [
      "Loading checkpoint shards: 100% 8/8 [00:08<00:00,  1.07s/it]\n"
     ]
    }
   ],
   "source": [
    "scorer = PerplexityCalculator(model_path=\"google/gemma-2-9b\")"
   ]
  },
  {
   "cell_type": "code",
   "execution_count": 28,
   "id": "95b4e71d-bddc-45f5-be94-b3e218216d99",
   "metadata": {},
   "outputs": [],
   "source": [
    "def get_trajectory(text, trans):\n",
    "    t = trans\n",
    "    s = text.split()\n",
    "    score = scorer.get_perplexity(\" \".join(s))\n",
    "    score_transition = [score]\n",
    "    for i, j in t[::-1]:\n",
    "        s = swap(s, i, j)\n",
    "        score = scorer.get_perplexity(\" \".join(s))\n",
    "        score_transition.append(score)\n",
    "    return score_transition\n",
    "\n",
    "\n",
    "i = 10\n",
    "score_trj = get_trajectory(texts[i], transpositions[i])"
   ]
  },
  {
   "cell_type": "code",
   "execution_count": 29,
   "id": "bdf746ed-d061-40ce-bfe9-6651df843420",
   "metadata": {},
   "outputs": [
    {
     "data": {
      "text/plain": [
       "[203.7331572188011,\n",
       " 339.0267089547947,\n",
       " 334.93140280232285,\n",
       " 252.10140552708296,\n",
       " 342.99475274376255,\n",
       " 346.8848305954417,\n",
       " 388.39830192813577,\n",
       " 249.6388415856473,\n",
       " 307.7621369079633,\n",
       " 365.65996147162645,\n",
       " 379.3507746057428,\n",
       " 386.6730920759111,\n",
       " 586.1533293042395,\n",
       " 299.6744744120968,\n",
       " 458.33667289434305,\n",
       " 389.2296394660958,\n",
       " 197.25009976693568]"
      ]
     },
     "execution_count": 29,
     "metadata": {},
     "output_type": "execute_result"
    }
   ],
   "source": [
    "score_trj"
   ]
  },
  {
   "cell_type": "code",
   "execution_count": 20,
   "id": "5463bd35-6989-4954-b5f5-ee35edd4727c",
   "metadata": {},
   "outputs": [
    {
     "data": {
      "text/plain": [
       "'from the the the of of and and not and to in is you that it with as advent card angel bake beard believe bow candy carol candle cheer cheer chocolate chimney chimney cookie decorations doll dream drive eat eggnog elf family fireplace fireplace fruitcake game gifts give gingerbread greeting grinch have holiday holly hohoho hope jingle jump joy kaggle laugh magi merry milk mistletoe naughty nice night night nutcracker ornament ornament paper peace peppermint polar poinsettia puzzle reindeer relax scrooge season sing sleigh sleep snowglobe star stocking toy unwrap visit walk we wish wonder workshop workshop wrapping wreath yuletide'"
      ]
     },
     "execution_count": 20,
     "metadata": {},
     "output_type": "execute_result"
    }
   ],
   "source": [
    "texts[0]"
   ]
  },
  {
   "cell_type": "code",
   "execution_count": 21,
   "id": "248ea59a-e0b8-498d-963c-62e0dc223cf9",
   "metadata": {},
   "outputs": [
    {
     "data": {
      "text/plain": [
       "'and and and as from have in is it not of of that the the the to we with you advent angel bake beard believe bow candy card carol candle cheer cheer chocolate chimney chimney cookie decorations doll dream drive eat eggnog elf family fireplace fireplace fruitcake game gifts give gingerbread greeting grinch holiday holly hohoho hope jingle jump joy kaggle laugh magi merry milk mistletoe naughty nice night night nutcracker ornament ornament paper peace peppermint polar poinsettia puzzle reindeer relax scrooge season sing sleigh sleep snowglobe star stocking toy unwrap visit walk wish wonder workshop workshop wrapping wreath yuletide'"
      ]
     },
     "execution_count": 21,
     "metadata": {},
     "output_type": "execute_result"
    }
   ],
   "source": [
    "texts[-1]"
   ]
  },
  {
   "cell_type": "code",
   "execution_count": 41,
   "id": "4bdcfa70-c427-4d63-8904-52a069360e09",
   "metadata": {},
   "outputs": [
    {
     "data": {
      "text/plain": [
       "'from and of to the as in that it we with not you have milk chocolate candy fruitcake eggnog peppermint season greeting card wrapping paper bow toy doll game puzzle cookie snowglobe fireplace candle wreath poinsettia angel star wish dream night wonder believe hope joy peace merry hohoho kaggle workshop'"
      ]
     },
     "execution_count": 41,
     "metadata": {},
     "output_type": "execute_result"
    }
   ],
   "source": [
    "texts[0]"
   ]
  },
  {
   "cell_type": "code",
   "execution_count": 39,
   "id": "ab5612b1-e507-42a4-a9d2-7e4bdfed2f8a",
   "metadata": {},
   "outputs": [
    {
     "data": {
      "text/plain": [
       "'from and of to the as in that it we with not you have milk chocolate candy fruitcake eggnog peppermint season greeting card wrapping paper bow toy doll game puzzle cookie snowglobe fireplace candle wreath poinsettia angel star wish dream night wonder believe hope joy peace merry hohoho kaggle workshop'"
      ]
     },
     "execution_count": 39,
     "metadata": {},
     "output_type": "execute_result"
    }
   ],
   "source": [
    "text_transition[-1]"
   ]
  },
  {
   "cell_type": "code",
   "execution_count": 42,
   "id": "d6bc8642-3fe3-4a08-8532-1e2c2f73bc2e",
   "metadata": {},
   "outputs": [
    {
     "data": {
      "text/plain": [
       "'greeting and of to the as in that it we with not you have milk chocolate candy fruitcake eggnog peppermint season from card wrapping paper bow toy doll game puzzle cookie snowglobe fireplace candle wreath poinsettia angel star wish dream night wonder believe hope joy peace merry hohoho kaggle workshop'"
      ]
     },
     "execution_count": 42,
     "metadata": {},
     "output_type": "execute_result"
    }
   ],
   "source": [
    "text_transition[-2]"
   ]
  },
  {
   "cell_type": "code",
   "execution_count": null,
   "id": "4b92efd2-9c23-4eab-87e4-cedda39fb88b",
   "metadata": {},
   "outputs": [],
   "source": []
  },
  {
   "cell_type": "code",
   "execution_count": null,
   "id": "94c0b699-841e-4bf4-b5f4-53d87fd89bb3",
   "metadata": {},
   "outputs": [],
   "source": []
  }
 ],
 "metadata": {
  "kernelspec": {
   "display_name": "Python 3 (ipykernel)",
   "language": "python",
   "name": "python3"
  },
  "language_info": {
   "codemirror_mode": {
    "name": "ipython",
    "version": 3
   },
   "file_extension": ".py",
   "mimetype": "text/x-python",
   "name": "python",
   "nbconvert_exporter": "python",
   "pygments_lexer": "ipython3",
   "version": "3.10.14"
  }
 },
 "nbformat": 4,
 "nbformat_minor": 5
}
