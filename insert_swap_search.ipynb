{
 "cells": [
  {
   "cell_type": "code",
   "execution_count": 1,
   "id": "a7a083bd-f092-4152-ae0c-9266d32019fa",
   "metadata": {},
   "outputs": [
    {
     "name": "stderr",
     "output_type": "stream",
     "text": [
      "/opt/mamba/lib/python3.10/site-packages/tqdm/auto.py:21: TqdmWarning: IProgress not found. Please update jupyter and ipywidgets. See https://ipywidgets.readthedocs.io/en/stable/user_install.html\n",
      "  from .autonotebook import tqdm as notebook_tqdm\n",
      "Loading checkpoint shards: 100% 8/8 [00:09<00:00,  1.15s/it]\n"
     ]
    }
   ],
   "source": [
    "import os\n",
    "os.environ[\"CUDA_VISIBLE_DEVICES\"] = \"0\"\n",
    "\n",
    "import numpy as np\n",
    "from tqdm.auto import tqdm\n",
    "\n",
    "from santa.metrics import PerplexityCalculator\n",
    "from santa.utils import load_logs, save_logs, save_text\n",
    "\n",
    "\n",
    "scorer = PerplexityCalculator(model_path=\"google/gemma-2-9b\")"
   ]
  },
  {
   "cell_type": "code",
   "execution_count": 2,
   "id": "dbfb8858-5640-42c0-a35f-9f36b852ad92",
   "metadata": {},
   "outputs": [],
   "source": [
    "history = {}\n",
    "bs = 8"
   ]
  },
  {
   "cell_type": "code",
   "execution_count": 1,
   "id": "56687152-c818-4bc3-8fe3-53ec81b5a9d2",
   "metadata": {},
   "outputs": [],
   "source": [
    "def insert_swap_search(text, window_size, scorer, history, margin=0.0, bs=8):\n",
    "    best_text = text\n",
    "    best_score = scorer.get_perplexity(text, batch_size=bs)\n",
    "    updated_texts, updated_scores = [], []\n",
    "    if best_text not in history:\n",
    "        history[best_text] = best_score\n",
    "    tokens = text.split()\n",
    "    for i in tqdm(range(len(tokens))):\n",
    "        new_texts = []\n",
    "        # insert探索\n",
    "        main_tokens = tokens[:i] + tokens[i+window_size:]\n",
    "        sub_tokens = tokens[i: i+window_size]\n",
    "        for j in range(len(main_tokens)):\n",
    "            new_tokens = main_tokens[:j] + sub_tokens + main_tokens[j:]\n",
    "            assert len(new_tokens) == 100 and len(set(new_tokens) - set(tokens)) == 0 and len(set(tokens) - set(new_tokens)) == 0\n",
    "            new_text = \" \".join(new_tokens)\n",
    "            if new_text not in history:\n",
    "                new_texts.append(new_text)\n",
    "        # swap探索\n",
    "        for j in range(i+1, len(tokens)):\n",
    "            tokens[i], tokens[j] = tokens[j], tokens[i]\n",
    "            new_text = \" \".join(tokens)\n",
    "            tokens[i], tokens[j] = tokens[j], tokens[i]  # もとに戻す\n",
    "            if new_text not in history and new_text not in new_texts:\n",
    "                new_texts.append(new_text)\n",
    "        scores = scorer.get_perplexity(new_texts, batch_size=bs)\n",
    "        for new_text, new_score in zip(new_texts, scores, strict=True):\n",
    "            history[new_text] = new_score\n",
    "            if new_score < best_score + margin:\n",
    "                updated_texts.append(new_text)\n",
    "                updated_scores.append(new_score)\n",
    "                print(f\"{new_score:.5f}\")\n",
    "                print(new_text)\n",
    "    return updated_texts, updated_scores, history"
   ]
  },
  {
   "cell_type": "code",
   "execution_count": 6,
   "id": "bc493851-e79a-4f04-8bcd-b3599ee6c167",
   "metadata": {},
   "outputs": [
    {
     "data": {
      "text/plain": [
       "[31.726850265228947]"
      ]
     },
     "execution_count": 6,
     "metadata": {},
     "output_type": "execute_result"
    }
   ],
   "source": [
    "target_id = 5\n",
    "candidate_texts = [\n",
    "    \"from and and the and as is in it of not that the to we with you advent card carol cheer chocolate chimney drive eat family fireplace game gifts give greeting have holiday hope joy laugh magi merry night of the night peace puzzle relax season sing sleep star visit walk wish workshop angel bake beard believe bow candy candle cheer chimney cookie decorations doll dream elf eggnog fireplace fruitcake gingerbread grinch holly hohoho jingle jump kaggle milk mistletoe naughty nice nutcracker ornament ornament peppermint polar poinsettia reindeer scrooge sleigh snowglobe stocking toy unwrap wrapping paper wonder workshop wreath yuletide\",\n",
    "]\n",
    "candidate_scores = [\n",
    "    scorer.get_perplexity(text)\n",
    "    for text in candidate_texts\n",
    "]\n",
    "candidate_scores"
   ]
  },
  {
   "cell_type": "code",
   "execution_count": null,
   "id": "138c42f2-7221-4594-86d1-820cbcfe784a",
   "metadata": {},
   "outputs": [],
   "source": [
    "margin = 0.0\n",
    "iteration = 0\n",
    "min_window_size = 1\n",
    "max_window_size = 4\n",
    "while len(candidate_texts):\n",
    "    iteration += 1\n",
    "    text = candidate_texts.pop(0)\n",
    "    score = candidate_scores.pop(0)\n",
    "    print(f\"[iteration {iteration:>03}] score: {score:.5f}\")\n",
    "    updated_texts, updated_scores = [], []\n",
    "    for window_size in range(min_window_size, max_window_size):\n",
    "        tmp_updated_texts, tmp_updated_scores, history = insert_swap_search(text, window_size, scorer, history, margin=margin, bs=bs)\n",
    "        updated_texts += tmp_updated_texts\n",
    "        updated_scores += tmp_updated_scores\n",
    "    for new_text, new_score in zip(updated_texts, updated_scores):\n",
    "        save_text(new_text, new_score, target_id, output_dir=\"./output/\")\n",
    "    candidate_texts += updated_texts\n",
    "    candidate_scores += updated_scores\n",
    "    candidate_texts = np.array(candidate_texts)\n",
    "    candidate_scores = np.array(candidate_scores)\n",
    "    indices = candidate_scores.argsort()\n",
    "    candidate_texts = candidate_texts[indices].tolist()\n",
    "    candidate_scores = candidate_scores[indices].tolist()"
   ]
  },
  {
   "cell_type": "code",
   "execution_count": null,
   "id": "5797feba-dca1-4261-bb5e-b245ced05ef9",
   "metadata": {},
   "outputs": [],
   "source": [
    "sorted(history.items(), key=lambda x: x[1])[:10]"
   ]
  },
  {
   "cell_type": "code",
   "execution_count": null,
   "id": "ac04aed1-7fd5-43ae-b6bf-4bc6c5fba496",
   "metadata": {},
   "outputs": [],
   "source": []
  }
 ],
 "metadata": {
  "kernelspec": {
   "display_name": "Python 3 (ipykernel)",
   "language": "python",
   "name": "python3"
  },
  "language_info": {
   "codemirror_mode": {
    "name": "ipython",
    "version": 3
   },
   "file_extension": ".py",
   "mimetype": "text/x-python",
   "name": "python",
   "nbconvert_exporter": "python",
   "pygments_lexer": "ipython3",
   "version": "3.10.14"
  }
 },
 "nbformat": 4,
 "nbformat_minor": 5
}
